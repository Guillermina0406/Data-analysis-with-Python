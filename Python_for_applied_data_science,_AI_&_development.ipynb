{
  "cells": [
    {
      "cell_type": "markdown",
      "id": "2eb24e86",
      "metadata": {
        "id": "2eb24e86"
      },
      "source": [
        "###### Semana 1"
      ]
    },
    {
      "cell_type": "markdown",
      "id": "a0c431fc",
      "metadata": {
        "id": "a0c431fc"
      },
      "source": [
        "¿Cómo se representan los datos en Python? Mediante int, float, boolean, str. Cuando queremos saber el tipo de dato y convertirlo en otro tipo de datos le indicamos de la siguiente manera:\n",
        "Un str a un int/float no se puede cambiar, pero un int/float a una str si."
      ]
    },
    {
      "cell_type": "code",
      "execution_count": null,
      "id": "13293d0d",
      "metadata": {
        "id": "13293d0d",
        "outputId": "96ac6f79-a92f-4271-b13d-1813041ef506"
      },
      "outputs": [
        {
          "name": "stdout",
          "output_type": "stream",
          "text": [
            "True\n",
            "1\n",
            "<class 'int'>\n"
          ]
        }
      ],
      "source": [
        "print(True)\n",
        "print(int(True))\n",
        "print(type(int(True)))"
      ]
    },
    {
      "cell_type": "markdown",
      "id": "7e62e178",
      "metadata": {
        "id": "7e62e178"
      },
      "source": [
        "#### Expressions: Mathematical operations y Variables"
      ]
    },
    {
      "cell_type": "markdown",
      "id": "561c73c3",
      "metadata": {
        "id": "561c73c3"
      },
      "source": [
        "Darles nombres significativos a la variable para saber qué es lo que hace y contiene esa variable."
      ]
    },
    {
      "cell_type": "code",
      "execution_count": null,
      "id": "433c66d8",
      "metadata": {
        "id": "433c66d8",
        "outputId": "6ac0506e-8bd0-4473-8d83-61a08a2fade6"
      },
      "outputs": [
        {
          "name": "stdout",
          "output_type": "stream",
          "text": [
            "3.9.16 (main, Mar  1 2023, 18:30:21) [MSC v.1916 64 bit (AMD64)]\n"
          ]
        }
      ],
      "source": [
        "# Check the Python Version\n",
        "\n",
        "import sys\n",
        "print(sys.version)"
      ]
    },
    {
      "cell_type": "markdown",
      "id": "26b2ca15",
      "metadata": {
        "id": "26b2ca15"
      },
      "source": [
        "###### Semana 2"
      ]
    },
    {
      "cell_type": "markdown",
      "id": "c4eff580",
      "metadata": {
        "id": "c4eff580"
      },
      "source": [
        "Name= Name + \"kjeu\" (no podemos cambiar los valores en una cadena, podemos añadirle más info solamente, las cadenas son inmutables)  \n",
        "\\n alt+92 salta al sig renglón  \n",
        "\\t tabulador  \n",
        "\\\\ barra en el strig o anteponer r antes del strig  \n",
        "Las cadenas son secuencias por lo tanto también tienen métodos que pueden aplicarseles:  \n",
        "upper, lower: B=A.upper() pasa todos los caracteres a mayúsculas.  \n",
        "B=A.replace('nuevo','viejo')  \n",
        "B=A.find('palabra') devuelve la posición donde comienza esa palabra"
      ]
    },
    {
      "cell_type": "markdown",
      "id": "ba18cdd3",
      "metadata": {
        "id": "ba18cdd3"
      },
      "source": [
        "Listas y tuplas (secuencia ordenada, que se accede a cada elemento a través de un índice, son inmutables.)  \n",
        "acceso a elementos de una lista que se encuentra adentro de una tupla:"
      ]
    },
    {
      "cell_type": "code",
      "execution_count": null,
      "id": "93e77991",
      "metadata": {
        "id": "93e77991",
        "outputId": "668a9ffa-23eb-4b76-b25a-a677ff7d5217"
      },
      "outputs": [
        {
          "name": "stdout",
          "output_type": "stream",
          "text": [
            "(6, 99)\n"
          ]
        }
      ],
      "source": [
        "t=(99,6)\n",
        "t = tuple(sorted(t))\n",
        "print(t)"
      ]
    },
    {
      "cell_type": "code",
      "execution_count": null,
      "id": "130dfaaa",
      "metadata": {
        "id": "130dfaaa",
        "outputId": "8780673d-5570-4cd8-b745-d29c3d4a54d4"
      },
      "outputs": [
        {
          "name": "stdout",
          "output_type": "stream",
          "text": [
            "<class 'tuple'> (15, 1, (45, 8)) 45\n"
          ]
        }
      ],
      "source": [
        "m=(15,1,(45,8))\n",
        "print(type(m),m,m[2][0])"
      ]
    },
    {
      "cell_type": "code",
      "execution_count": null,
      "id": "bd64e22b",
      "metadata": {
        "id": "bd64e22b",
        "outputId": "b1d03e01-b85b-47b5-b1e7-fa652a51b1b1"
      },
      "outputs": [
        {
          "name": "stdout",
          "output_type": "stream",
          "text": [
            "[16, 8, 45, 5] [19, 8, 45, 5]\n"
          ]
        }
      ],
      "source": [
        "m=[15,1,45,8]\n",
        "m=sorted(m)\n",
        "m.extend([5])\n",
        "m[0]=16\n",
        "del(m[2])\n",
        "m\n",
        "n=m[:]# Clonar listas:\n",
        "n\n",
        "n[0]=19\n",
        "n[0]\n",
        "print(m,n) #m[0] no cambiará"
      ]
    },
    {
      "cell_type": "code",
      "execution_count": null,
      "id": "55cb423a",
      "metadata": {
        "id": "55cb423a",
        "outputId": "f855c6f7-7ffb-48d5-de1a-152da2805105"
      },
      "outputs": [
        {
          "data": {
            "text/plain": [
              "['salir', 'a', 'tomar', 'helado']"
            ]
          },
          "execution_count": 71,
          "metadata": {},
          "output_type": "execute_result"
        }
      ],
      "source": [
        "a=\"salir a tomar helado\"\n",
        "a.split(\" \")"
      ]
    },
    {
      "cell_type": "markdown",
      "id": "ae86f186",
      "metadata": {
        "id": "ae86f186"
      },
      "source": [
        "    Dictionaries: son un tipo de colección entre llaves, tiene claves(strig o números entre comillas y después dos puntos, las cuales son Son inmutables y únicas) y valores (mutables y repetidos).  \n",
        "    DICT[\"CLAVE\"]:\"VALOR\"  \n",
        "    DICT[\"CLAVE\"]=\"VALOR\" cuando agrego una nueva"
      ]
    },
    {
      "cell_type": "markdown",
      "id": "f30921a1",
      "metadata": {
        "id": "f30921a1"
      },
      "source": [
        "SETS: son un tipo de colección, están desordenadas no tienen una posición cada elemento, no existen duplicados de un elemento (contienen elementos únicos). Si pasamos de una lista a un conjunto los duplicados desaparecerán.  \n",
        "set.add(\"nuevoelemento\")  \n",
        "set.remove(\"nuevoelemento\")  \n",
        "Una intersección: inter=set1 & set2  \n",
        "set1.union(set2)  \n",
        "set1.issubset(set2)  "
      ]
    },
    {
      "cell_type": "code",
      "execution_count": null,
      "id": "0ab8014b",
      "metadata": {
        "id": "0ab8014b",
        "outputId": "da848d44-2b99-4dd6-edca-1e047d5a7ac6"
      },
      "outputs": [
        {
          "data": {
            "text/plain": [
              "True"
            ]
          },
          "execution_count": 76,
          "metadata": {},
          "output_type": "execute_result"
        }
      ],
      "source": [
        "\"ACDC\" != \"Michael Jackson\""
      ]
    },
    {
      "cell_type": "markdown",
      "id": "926b824c",
      "metadata": {
        "id": "926b824c"
      },
      "source": [
        "#### Lists & Tuples, Dictionaries and Sets"
      ]
    },
    {
      "cell_type": "code",
      "execution_count": null,
      "id": "bfa4ae74",
      "metadata": {
        "id": "bfa4ae74",
        "outputId": "7c4c861a-9b4c-4c87-9d55-7eb3b196d0f3"
      },
      "outputs": [
        {
          "name": "stdout",
          "output_type": "stream",
          "text": [
            "['banana', 10.2, 'pop', 10]\n"
          ]
        }
      ],
      "source": [
        "# Use extend to add elements to list\n",
        "# append te agrega una lista\n",
        "L = [ \"Michael Jackson\", 10.2]\n",
        "L.extend(['pop', 10])\n",
        "M=L # Copy and Clone List\n",
        "# As A and B are referencing the same list, if we change list A, then list B also changes.\n",
        "M[0] = \"banana\"\n",
        "print(M)"
      ]
    },
    {
      "cell_type": "code",
      "execution_count": null,
      "id": "7563f49b",
      "metadata": {
        "id": "7563f49b",
        "outputId": "5ab7f0f4-55bb-42e1-bdd6-65ae3f75c0f3"
      },
      "outputs": [
        {
          "name": "stdout",
          "output_type": "stream",
          "text": [
            "Before change: ['disco', 10, 1.2]\n",
            "After change: ['hard rock', 10, 1.2]\n"
          ]
        }
      ],
      "source": [
        "# Change the element based on the index\n",
        "A = [\"disco\", 10, 1.2]\n",
        "print('Before change:', A)\n",
        "A[0] = 'hard rock'\n",
        "print('After change:', A)"
      ]
    },
    {
      "cell_type": "code",
      "execution_count": null,
      "id": "9f6fa785",
      "metadata": {
        "id": "9f6fa785",
        "outputId": "db7e8d67-9aae-445b-80a7-f3e14bff9e03"
      },
      "outputs": [
        {
          "data": {
            "text/plain": [
              "[10, 1.2]"
            ]
          },
          "execution_count": 19,
          "metadata": {},
          "output_type": "execute_result"
        }
      ],
      "source": [
        "# Delete the element based on the index\n",
        "del(A[0])\n",
        "A"
      ]
    },
    {
      "cell_type": "code",
      "execution_count": null,
      "id": "2bfbf338",
      "metadata": {
        "id": "2bfbf338",
        "outputId": "61bc8f37-37cb-4370-b937-06a2df2844b6"
      },
      "outputs": [
        {
          "data": {
            "text/plain": [
              "['hard', 'rock']"
            ]
          },
          "execution_count": 22,
          "metadata": {},
          "output_type": "execute_result"
        }
      ],
      "source": [
        "# Split the string, default is by space\n",
        "'hard rock'.split()"
      ]
    },
    {
      "cell_type": "code",
      "execution_count": null,
      "id": "4c98275c",
      "metadata": {
        "id": "4c98275c",
        "outputId": "86b4772f-a4b5-42f7-f403-b53a59f863b9"
      },
      "outputs": [
        {
          "data": {
            "text/plain": [
              "['A', 'B', 'C', 'D']"
            ]
          },
          "execution_count": 23,
          "metadata": {},
          "output_type": "execute_result"
        }
      ],
      "source": [
        "'A,B,C,D'.split(',')"
      ]
    },
    {
      "cell_type": "code",
      "execution_count": null,
      "id": "e1c00b31",
      "metadata": {
        "id": "e1c00b31",
        "outputId": "c5894b3d-2e82-40c0-96d9-56ad088c5747"
      },
      "outputs": [
        {
          "data": {
            "text/plain": [
              "('disco', 10, 1.2)"
            ]
          },
          "execution_count": 25,
          "metadata": {},
          "output_type": "execute_result"
        }
      ],
      "source": [
        "# Create your first tuple\n",
        "tuple1 = (\"disco\",10,1.2 )\n",
        "tuple1"
      ]
    },
    {
      "cell_type": "code",
      "execution_count": null,
      "id": "d7724bdf",
      "metadata": {
        "id": "d7724bdf",
        "outputId": "123d9181-ce21-45cc-cfff-9872536ac9ec"
      },
      "outputs": [
        {
          "name": "stdout",
          "output_type": "stream",
          "text": [
            "<class 'str'>\n"
          ]
        }
      ],
      "source": [
        "print(type(tuple1[0]))"
      ]
    },
    {
      "cell_type": "code",
      "execution_count": null,
      "id": "8f46dc82",
      "metadata": {
        "id": "8f46dc82",
        "outputId": "7cd7cf48-a53e-4f32-d477-d0672a093927"
      },
      "outputs": [
        {
          "data": {
            "text/plain": [
              "1.2"
            ]
          },
          "execution_count": 27,
          "metadata": {},
          "output_type": "execute_result"
        }
      ],
      "source": [
        "# Use negative index to get the value of the last element\n",
        "tuple1[-1]"
      ]
    },
    {
      "cell_type": "code",
      "execution_count": null,
      "id": "c7343ddb",
      "metadata": {
        "id": "c7343ddb",
        "outputId": "eba65dbd-8214-47ec-de2d-1fc7f86d9887"
      },
      "outputs": [
        {
          "data": {
            "text/plain": [
              "('disco', 10, 1.2, 'hard rock', 10)"
            ]
          },
          "execution_count": 28,
          "metadata": {},
          "output_type": "execute_result"
        }
      ],
      "source": [
        "# Concatenate two tuples\n",
        "tuple2 = tuple1 + (\"hard rock\", 10)\n",
        "tuple2"
      ]
    },
    {
      "cell_type": "code",
      "execution_count": null,
      "id": "bdba4dda",
      "metadata": {
        "id": "bdba4dda",
        "outputId": "64e062a5-cd00-44cf-8b6d-8951d73d8859"
      },
      "outputs": [
        {
          "data": {
            "text/plain": [
              "('disco', 10, 1.2)"
            ]
          },
          "execution_count": 29,
          "metadata": {},
          "output_type": "execute_result"
        }
      ],
      "source": [
        "# Slice from index 0 to index 2\n",
        "tuple2[0:3]"
      ]
    },
    {
      "cell_type": "code",
      "execution_count": null,
      "id": "8bcc21d8",
      "metadata": {
        "id": "8bcc21d8",
        "outputId": "d2bae6a3-edd8-454c-8afb-35b9c4f0db36"
      },
      "outputs": [
        {
          "data": {
            "text/plain": [
              "[0, 2, 5, 6, 6, 8, 9, 9, 10]"
            ]
          },
          "execution_count": 30,
          "metadata": {},
          "output_type": "execute_result"
        }
      ],
      "source": [
        "Ratings = (0, 9, 6, 5, 10, 8, 9, 6, 2)\n",
        "RatingsSorted = sorted(Ratings)# para ver el cambio agrego una nueva lista\n",
        "RatingsSorted"
      ]
    },
    {
      "cell_type": "code",
      "source": [
        "ordenar=[25,56,1,88,66]\n",
        "ordenar.sort()\n",
        "ordenar"
      ],
      "metadata": {
        "colab": {
          "base_uri": "https://localhost:8080/"
        },
        "id": "uGZSALvTB6Sy",
        "outputId": "a7437eaf-7c18-4e42-e23d-09fb22ff988c"
      },
      "id": "uGZSALvTB6Sy",
      "execution_count": null,
      "outputs": [
        {
          "output_type": "execute_result",
          "data": {
            "text/plain": [
              "[1, 25, 56, 66, 88]"
            ]
          },
          "metadata": {},
          "execution_count": 1
        }
      ]
    },
    {
      "cell_type": "code",
      "execution_count": null,
      "id": "e41cb329",
      "metadata": {
        "id": "e41cb329",
        "outputId": "02233a2f-78bd-43f2-fa33-a2cf4872eae5"
      },
      "outputs": [
        {
          "name": "stdout",
          "output_type": "stream",
          "text": [
            "Element 4 of Tuple:  ('disco', (1, 2))\n"
          ]
        }
      ],
      "source": [
        "# Create a nest tuple\n",
        "NestedT =(1, 2, (\"pop\", \"rock\") ,(3,4),(\"disco\",(1,2)))\n",
        "print(\"Element 4 of Tuple: \", NestedT[4])"
      ]
    },
    {
      "cell_type": "code",
      "execution_count": null,
      "id": "7c7e4431",
      "metadata": {
        "id": "7c7e4431",
        "outputId": "58b85413-1d16-4ead-b8d4-5475161dcd07"
      },
      "outputs": [
        {
          "name": "stdout",
          "output_type": "stream",
          "text": [
            "Element 3, 1 of Tuple:  4\n"
          ]
        }
      ],
      "source": [
        "# Print element on each index, including nest indexes\n",
        "print(\"Element 3, 1 of Tuple: \",   NestedT[3][1])"
      ]
    },
    {
      "cell_type": "code",
      "execution_count": null,
      "id": "72b7ade8",
      "metadata": {
        "id": "72b7ade8",
        "outputId": "863b2fa9-b6e8-4cd1-bcde-037513494304"
      },
      "outputs": [
        {
          "data": {
            "text/plain": [
              "1"
            ]
          },
          "execution_count": 33,
          "metadata": {},
          "output_type": "execute_result"
        }
      ],
      "source": [
        "# Print the first element in the second nested tuples\n",
        "NestedT[4][1][0]"
      ]
    },
    {
      "cell_type": "code",
      "execution_count": null,
      "id": "8667464b",
      "metadata": {
        "id": "8667464b",
        "outputId": "99ee57c6-f227-4d21-ba06-d735c192358a"
      },
      "outputs": [
        {
          "data": {
            "text/plain": [
              "('pop',\n",
              " 'rock',\n",
              " 'soul',\n",
              " 'hard rock',\n",
              " 'soft rock',\n",
              " 'R&B',\n",
              " 'progressive rock',\n",
              " 'disco')"
            ]
          },
          "execution_count": 34,
          "metadata": {},
          "output_type": "execute_result"
        }
      ],
      "source": [
        "# sample tuple\n",
        "\n",
        "genres_tuple = (\"pop\", \"rock\", \"soul\", \"hard rock\", \"soft rock\", \\\n",
        "                \"R&B\", \"progressive rock\", \"disco\")\n",
        "genres_tuple"
      ]
    },
    {
      "cell_type": "code",
      "execution_count": null,
      "id": "239da3c5",
      "metadata": {
        "id": "239da3c5",
        "outputId": "ccccb9e2-5d1e-4956-c743-f34d72bb80ed"
      },
      "outputs": [
        {
          "data": {
            "text/plain": [
              "{'key1': 1,\n",
              " 'key2': '2',\n",
              " 'key3': [3, 3, 3],\n",
              " 'key4': (4, 4, 4),\n",
              " 'key5': 5,\n",
              " (0, 1): 6}"
            ]
          },
          "execution_count": 1,
          "metadata": {},
          "output_type": "execute_result"
        }
      ],
      "source": [
        "# Create the dictionary\n",
        "Dict = {\"key1\": 1, \"key2\": \"2\", \"key3\": [3, 3, 3], \"key4\": (4, 4, 4), ('key5'): 5, (0, 1): 6}\n",
        "Dict"
      ]
    },
    {
      "cell_type": "markdown",
      "id": "53c0ffd2",
      "metadata": {
        "id": "53c0ffd2"
      },
      "source": [
        "The keys can be strings, tuples, int, float.For every key, there can only be one single value, however, multiple keys can hold the same value. Keys can only be strings, numbers, or tuples, but values can be any data type."
      ]
    },
    {
      "cell_type": "code",
      "execution_count": null,
      "id": "9b4409b6",
      "metadata": {
        "id": "9b4409b6",
        "outputId": "df2c7616-84d0-402c-c085-06ef99ead58f"
      },
      "outputs": [
        {
          "data": {
            "text/plain": [
              "{'Thriller': '1982',\n",
              " 'Back in Black': '1980',\n",
              " 'The Dark Side of the Moon': '1973',\n",
              " 'The Bodyguard': '1992',\n",
              " 'Bat Out of Hell': '1977',\n",
              " 'Their Greatest Hits (1971-1975)': '1976',\n",
              " 'Saturday Night Fever': '1977',\n",
              " 'Rumours': '1977'}"
            ]
          },
          "execution_count": 2,
          "metadata": {},
          "output_type": "execute_result"
        }
      ],
      "source": [
        "# Create a sample dictionary\n",
        "release_year_dict = {\"Thriller\": \"1982\", \"Back in Black\": \"1980\", \\\n",
        "                    \"The Dark Side of the Moon\": \"1973\", \"The Bodyguard\": \"1992\", \\\n",
        "                    \"Bat Out of Hell\": \"1977\", \"Their Greatest Hits (1971-1975)\": \"1976\", \\\n",
        "                    \"Saturday Night Fever\": \"1977\", \"Rumours\": \"1977\"}\n",
        "release_year_dict"
      ]
    },
    {
      "cell_type": "code",
      "execution_count": null,
      "id": "70ffbea4",
      "metadata": {
        "id": "70ffbea4",
        "outputId": "bb29e982-9daa-4c89-a09e-8f8dd4c2b71b"
      },
      "outputs": [
        {
          "data": {
            "text/plain": [
              "dict_keys(['Thriller', 'Back in Black', 'The Dark Side of the Moon', 'The Bodyguard', 'Bat Out of Hell', 'Their Greatest Hits (1971-1975)', 'Saturday Night Fever', 'Rumours'])"
            ]
          },
          "execution_count": 3,
          "metadata": {},
          "output_type": "execute_result"
        }
      ],
      "source": [
        "# Get all the keys in dictionary\n",
        "release_year_dict.keys()"
      ]
    },
    {
      "cell_type": "code",
      "execution_count": null,
      "id": "a75ebec5",
      "metadata": {
        "id": "a75ebec5",
        "outputId": "42843d14-3151-40d9-8142-8433e18448e3"
      },
      "outputs": [
        {
          "data": {
            "text/plain": [
              "dict_values(['1982', '1980', '1973', '1992', '1977', '1976', '1977', '1977'])"
            ]
          },
          "execution_count": 4,
          "metadata": {},
          "output_type": "execute_result"
        }
      ],
      "source": [
        "# Get all the values in dictionary\n",
        "release_year_dict.values()"
      ]
    },
    {
      "cell_type": "code",
      "execution_count": null,
      "id": "1dc1baf5",
      "metadata": {
        "id": "1dc1baf5",
        "outputId": "a62c21e3-f12b-48cd-d047-6f75c06ffe1b"
      },
      "outputs": [
        {
          "data": {
            "text/plain": [
              "{'Thriller': '1982',\n",
              " 'Back in Black': '1980',\n",
              " 'The Dark Side of the Moon': '1973',\n",
              " 'The Bodyguard': '1992',\n",
              " 'Bat Out of Hell': '1977',\n",
              " 'Their Greatest Hits (1971-1975)': '1976',\n",
              " 'Saturday Night Fever': '1977',\n",
              " 'Rumours': '1977',\n",
              " 'Graduation': '2007'}"
            ]
          },
          "execution_count": 5,
          "metadata": {},
          "output_type": "execute_result"
        }
      ],
      "source": [
        "# Append value with key into dictionary\n",
        "release_year_dict['Graduation'] = '2007'\n",
        "release_year_dict"
      ]
    },
    {
      "cell_type": "code",
      "execution_count": null,
      "id": "c4fa40b1",
      "metadata": {
        "id": "c4fa40b1",
        "outputId": "c541570c-c97c-463b-ff49-f78dd2a630c8"
      },
      "outputs": [
        {
          "data": {
            "text/plain": [
              "{'Back in Black': '1980',\n",
              " 'The Dark Side of the Moon': '1973',\n",
              " 'The Bodyguard': '1992',\n",
              " 'Bat Out of Hell': '1977',\n",
              " 'Their Greatest Hits (1971-1975)': '1976',\n",
              " 'Saturday Night Fever': '1977',\n",
              " 'Rumours': '1977'}"
            ]
          },
          "execution_count": 6,
          "metadata": {},
          "output_type": "execute_result"
        }
      ],
      "source": [
        "# Delete entries by key\n",
        "del(release_year_dict['Thriller'])\n",
        "del(release_year_dict['Graduation'])\n",
        "release_year_dict"
      ]
    },
    {
      "cell_type": "code",
      "execution_count": null,
      "id": "a20b1b91",
      "metadata": {
        "id": "a20b1b91",
        "outputId": "a467ee25-fc63-4d56-8018-4ef1ea091548"
      },
      "outputs": [
        {
          "data": {
            "text/plain": [
              "True"
            ]
          },
          "execution_count": 7,
          "metadata": {},
          "output_type": "execute_result"
        }
      ],
      "source": [
        "# Verify the key is in the dictionary\n",
        "'The Bodyguard' in release_year_dict"
      ]
    },
    {
      "cell_type": "code",
      "execution_count": null,
      "id": "6eefb7b5",
      "metadata": {
        "id": "6eefb7b5",
        "outputId": "24929324-af98-4881-b641-f8fdc98532b8"
      },
      "outputs": [
        {
          "data": {
            "text/plain": [
              "{'R&B', 'disco', 'hard rock', 'pop', 'rock', 'soul'}"
            ]
          },
          "execution_count": 8,
          "metadata": {},
          "output_type": "execute_result"
        }
      ],
      "source": [
        "# Create a set\n",
        "set1 = {\"pop\", \"rock\", \"soul\", \"hard rock\", \"rock\", \"R&B\", \"rock\", \"disco\"}\n",
        "set1"
      ]
    },
    {
      "cell_type": "code",
      "execution_count": null,
      "id": "b9edb13c",
      "metadata": {
        "id": "b9edb13c",
        "outputId": "7c186d8a-ca62-41dd-b139-3eab5bacc1b7"
      },
      "outputs": [
        {
          "data": {
            "text/plain": [
              "{'00:42:19',\n",
              " 10.0,\n",
              " 1982,\n",
              " '30-Nov-82',\n",
              " 46.0,\n",
              " 65,\n",
              " 'Michael Jackson',\n",
              " None,\n",
              " 'Pop, Rock, R&B',\n",
              " 'Thriller'}"
            ]
          },
          "execution_count": 9,
          "metadata": {},
          "output_type": "execute_result"
        }
      ],
      "source": [
        "# Convert list to set\n",
        "album_list = [ \"Michael Jackson\", \"Thriller\", 1982, \"00:42:19\", \\\n",
        "              \"Pop, Rock, R&B\", 46.0, 65, \"30-Nov-82\", None, 10.0]\n",
        "album_set = set(album_list)\n",
        "album_set"
      ]
    },
    {
      "cell_type": "code",
      "execution_count": null,
      "id": "a0f6df68",
      "metadata": {
        "id": "a0f6df68",
        "outputId": "89683487-f94c-40b9-acb1-de3c02e8df79"
      },
      "outputs": [
        {
          "data": {
            "text/plain": [
              "{'AC/DC', 'Back in Black', 'Thriller'}"
            ]
          },
          "execution_count": 11,
          "metadata": {},
          "output_type": "execute_result"
        }
      ],
      "source": [
        "# Sample set\n",
        "A = set([\"Thriller\", \"Back in Black\", \"AC/DC\"])\n",
        "A"
      ]
    },
    {
      "cell_type": "code",
      "execution_count": null,
      "id": "1a5eb360",
      "metadata": {
        "id": "1a5eb360",
        "outputId": "43a38fb9-05f1-494f-abf2-fd3e721a7025"
      },
      "outputs": [
        {
          "data": {
            "text/plain": [
              "{'AC/DC', 'Back in Black', 'NSYNC', 'Thriller'}"
            ]
          },
          "execution_count": 12,
          "metadata": {},
          "output_type": "execute_result"
        }
      ],
      "source": [
        "# Add element to set\n",
        "A.add(\"NSYNC\")\n",
        "A"
      ]
    },
    {
      "cell_type": "code",
      "execution_count": null,
      "id": "db94b2d8",
      "metadata": {
        "id": "db94b2d8",
        "outputId": "430096e0-185b-4004-bd94-831d1cbaea37"
      },
      "outputs": [
        {
          "data": {
            "text/plain": [
              "{'AC/DC', 'Back in Black', 'Thriller'}"
            ]
          },
          "execution_count": 13,
          "metadata": {},
          "output_type": "execute_result"
        }
      ],
      "source": [
        "# Remove the element from set\n",
        "A.remove(\"NSYNC\")\n",
        "A"
      ]
    },
    {
      "cell_type": "code",
      "execution_count": null,
      "id": "74161138",
      "metadata": {
        "id": "74161138",
        "outputId": "cf87136f-18c7-47ae-ceae-9e9f2c916b47"
      },
      "outputs": [
        {
          "data": {
            "text/plain": [
              "True"
            ]
          },
          "execution_count": 14,
          "metadata": {},
          "output_type": "execute_result"
        }
      ],
      "source": [
        "# Verify if the element is in the set\n",
        "\"AC/DC\" in A"
      ]
    },
    {
      "cell_type": "code",
      "execution_count": null,
      "id": "564ef358",
      "metadata": {
        "id": "564ef358"
      },
      "outputs": [],
      "source": [
        "# Sample Sets\n",
        "album_set1 = set([\"Thriller\", 'AC/DC', 'Back in Black'])\n",
        "album_set2 = set([ \"AC/DC\", \"Back in Black\", \"The Dark Side of the Moon\"])"
      ]
    },
    {
      "cell_type": "code",
      "execution_count": null,
      "id": "4e55b395",
      "metadata": {
        "id": "4e55b395",
        "outputId": "2bcabfbe-1820-46ed-fdac-ba8aab03ca6b"
      },
      "outputs": [
        {
          "data": {
            "text/plain": [
              "({'AC/DC', 'Back in Black', 'Thriller'},\n",
              " {'AC/DC', 'Back in Black', 'The Dark Side of the Moon'})"
            ]
          },
          "execution_count": 16,
          "metadata": {},
          "output_type": "execute_result"
        }
      ],
      "source": [
        "# Print two sets\n",
        "album_set1, album_set2"
      ]
    },
    {
      "cell_type": "code",
      "execution_count": null,
      "id": "03038329",
      "metadata": {
        "id": "03038329",
        "outputId": "497a22a5-c2fb-492c-9dcc-e68997d9a001"
      },
      "outputs": [
        {
          "data": {
            "text/plain": [
              "{'AC/DC', 'Back in Black'}"
            ]
          },
          "execution_count": 17,
          "metadata": {},
          "output_type": "execute_result"
        }
      ],
      "source": [
        "# Find the intersections\n",
        "intersection = album_set1 & album_set2\n",
        "intersection"
      ]
    },
    {
      "cell_type": "code",
      "execution_count": null,
      "id": "e0831bb2",
      "metadata": {
        "id": "e0831bb2",
        "outputId": "a7bc0647-169a-4e28-b5ab-399330b305d5"
      },
      "outputs": [
        {
          "data": {
            "text/plain": [
              "{'Thriller'}"
            ]
          },
          "execution_count": 18,
          "metadata": {},
          "output_type": "execute_result"
        }
      ],
      "source": [
        "# Find the difference in set1 but not set2\n",
        "album_set1.difference(album_set2)"
      ]
    },
    {
      "cell_type": "code",
      "execution_count": null,
      "id": "736ba6d7",
      "metadata": {
        "id": "736ba6d7",
        "outputId": "bb5adc07-464a-45ed-c63e-8559eef4a764"
      },
      "outputs": [
        {
          "data": {
            "text/plain": [
              "{'The Dark Side of the Moon'}"
            ]
          },
          "execution_count": 19,
          "metadata": {},
          "output_type": "execute_result"
        }
      ],
      "source": [
        "album_set2.difference(album_set1)"
      ]
    },
    {
      "cell_type": "code",
      "execution_count": null,
      "id": "34d84efc",
      "metadata": {
        "id": "34d84efc",
        "outputId": "a0702adc-6fc1-45e0-e9ed-54f5e7e2b54e"
      },
      "outputs": [
        {
          "data": {
            "text/plain": [
              "{'AC/DC', 'Back in Black'}"
            ]
          },
          "execution_count": 20,
          "metadata": {},
          "output_type": "execute_result"
        }
      ],
      "source": [
        "# Use intersection method to find the intersection of album_list1 and album_list2\n",
        "album_set1.intersection(album_set2)"
      ]
    },
    {
      "cell_type": "code",
      "execution_count": null,
      "id": "36ed8147",
      "metadata": {
        "id": "36ed8147",
        "outputId": "b27b9e1c-be6e-48fc-f35d-c4f7c46a7c38"
      },
      "outputs": [
        {
          "data": {
            "text/plain": [
              "{'AC/DC', 'Back in Black', 'The Dark Side of the Moon', 'Thriller'}"
            ]
          },
          "execution_count": 21,
          "metadata": {},
          "output_type": "execute_result"
        }
      ],
      "source": [
        "# Find the union of two sets\n",
        "album_set1.union(album_set2)"
      ]
    },
    {
      "cell_type": "markdown",
      "id": "4e7a73d9",
      "metadata": {
        "id": "4e7a73d9"
      },
      "source": [
        "And you can check if a set is a superset or subset of another set, respectively, like this:"
      ]
    },
    {
      "cell_type": "code",
      "execution_count": null,
      "id": "52bed08e",
      "metadata": {
        "id": "52bed08e"
      },
      "outputs": [],
      "source": [
        "# Sample Sets\n",
        "album_set1 = set([\"Thriller\", 'AC/DC', 'Back in Black'])\n",
        "album_set2 = set([ \"AC/DC\", \"Back in Black\", \"The Dark Side of the Moon\"])"
      ]
    },
    {
      "cell_type": "code",
      "execution_count": null,
      "id": "edebddc0",
      "metadata": {
        "id": "edebddc0",
        "outputId": "c82dcf8b-1f21-4bb3-bccf-2b7b158d636f"
      },
      "outputs": [
        {
          "data": {
            "text/plain": [
              "False"
            ]
          },
          "execution_count": 22,
          "metadata": {},
          "output_type": "execute_result"
        }
      ],
      "source": [
        "# Check if superset\n",
        "set(album_set1).issuperset(album_set2)"
      ]
    },
    {
      "cell_type": "code",
      "execution_count": null,
      "id": "2ec0a53e",
      "metadata": {
        "id": "2ec0a53e",
        "outputId": "c9217c37-65db-4f0e-af5e-fbb314d2469f"
      },
      "outputs": [
        {
          "data": {
            "text/plain": [
              "False"
            ]
          },
          "execution_count": 23,
          "metadata": {},
          "output_type": "execute_result"
        }
      ],
      "source": [
        "# Check if subset\n",
        "set(album_set2).issubset(album_set1)"
      ]
    },
    {
      "cell_type": "code",
      "execution_count": null,
      "id": "f4d3ad72",
      "metadata": {
        "id": "f4d3ad72",
        "outputId": "64a121a0-ef42-46c1-c840-9b508182714a"
      },
      "outputs": [
        {
          "data": {
            "text/plain": [
              "True"
            ]
          },
          "execution_count": 24,
          "metadata": {},
          "output_type": "execute_result"
        }
      ],
      "source": [
        "# Check if subset\n",
        "set({\"Back in Black\", \"AC/DC\"}).issubset(album_set1)"
      ]
    },
    {
      "cell_type": "code",
      "execution_count": null,
      "id": "f1aa4e1b",
      "metadata": {
        "id": "f1aa4e1b",
        "outputId": "c098c01b-19c9-4168-9e9f-d02837d800a9"
      },
      "outputs": [
        {
          "data": {
            "text/plain": [
              "True"
            ]
          },
          "execution_count": 25,
          "metadata": {},
          "output_type": "execute_result"
        }
      ],
      "source": [
        "# Check if superset\n",
        "album_set1.issuperset({\"Back in Black\", \"AC/DC\"})"
      ]
    },
    {
      "cell_type": "markdown",
      "id": "e3200e59",
      "metadata": {
        "id": "e3200e59"
      },
      "source": [
        "###### Semana 3"
      ]
    },
    {
      "cell_type": "code",
      "execution_count": null,
      "id": "2bddc3bc",
      "metadata": {
        "id": "2bddc3bc",
        "outputId": "0aaf2f27-38b9-460e-d12d-99ff7948baa7"
      },
      "outputs": [
        {
          "name": "stdout",
          "output_type": "stream",
          "text": [
            "At position 0, I found a apple\n",
            "At position 1, I found a banana\n",
            "At position 2, I found a orange\n"
          ]
        }
      ],
      "source": [
        "fruits = [\"apple\", \"banana\", \"orange\"]\n",
        "for index, fruit in enumerate(fruits):\n",
        "    print(f\"At position {index}, I found a {fruit}\")"
      ]
    },
    {
      "cell_type": "code",
      "execution_count": null,
      "id": "b0537f24",
      "metadata": {
        "id": "b0537f24",
        "outputId": "d641a748-35f9-4eee-d005-d04c673a4d8b"
      },
      "outputs": [
        {
          "name": "stdout",
          "output_type": "stream",
          "text": [
            "['o']\n",
            "['o', 'o']\n"
          ]
        }
      ],
      "source": [
        "s=['o','o','p','o','b']\n",
        "newss=[]\n",
        "i=0\n",
        "while (s[i]=='o'):\n",
        "    newss.append(s[i])\n",
        "    i=i+1\n",
        "    print(newss)"
      ]
    },
    {
      "cell_type": "markdown",
      "id": "af582c07",
      "metadata": {
        "id": "af582c07"
      },
      "source": [
        " La función de rango genera y ordena secuencia como una lista I. Si la entrada es un entero positivo, la salida es una secuencia. La secuencia contiene el mismo número de elementos que la entrada, pero comienza en cero."
      ]
    },
    {
      "cell_type": "code",
      "execution_count": null,
      "id": "1ac7b19b",
      "metadata": {
        "id": "1ac7b19b",
        "outputId": "f2d77c5f-56b7-44f6-cd03-d52c3d5ea0d7"
      },
      "outputs": [
        {
          "name": "stdout",
          "output_type": "stream",
          "text": [
            "0 A\n",
            "1 B\n",
            "2 C\n"
          ]
        }
      ],
      "source": [
        "for i,x in enumerate(['A','B','C']):\n",
        "    print(i,x)"
      ]
    },
    {
      "cell_type": "code",
      "execution_count": null,
      "id": "7b926c1c",
      "metadata": {
        "id": "7b926c1c",
        "outputId": "a0b8fa9a-0a94-4ecc-9e31-2022508c3436"
      },
      "outputs": [
        {
          "name": "stdout",
          "output_type": "stream",
          "text": [
            "0\n",
            "1\n",
            "2\n"
          ]
        }
      ],
      "source": [
        "for x in range(0,3):\n",
        "     print(x)"
      ]
    },
    {
      "cell_type": "code",
      "execution_count": null,
      "id": "4c0c8864",
      "metadata": {
        "id": "4c0c8864",
        "outputId": "cd65892f-ff4e-4247-d130-62feb368b9ac"
      },
      "outputs": [
        {
          "name": "stdout",
          "output_type": "stream",
          "text": [
            "1\n",
            "2\n",
            "3\n",
            "4\n",
            "5\n",
            "6\n",
            "7\n",
            "8\n",
            "9\n",
            "10\n"
          ]
        }
      ],
      "source": [
        "count = 1\n",
        "while count <= 10:\n",
        "    print(count)\n",
        "    count += 1"
      ]
    },
    {
      "cell_type": "code",
      "execution_count": null,
      "id": "450cffc4",
      "metadata": {
        "id": "450cffc4",
        "outputId": "d7a116df-ba8c-4b7b-9bfa-b8b5efd10ded"
      },
      "outputs": [
        {
          "name": "stdout",
          "output_type": "stream",
          "text": [
            "0 A\n",
            "1 B\n",
            "2 C\n"
          ]
        }
      ],
      "source": [
        "for i,x in enumerate(['A','B','C']):\n",
        "    print(i,x)"
      ]
    },
    {
      "cell_type": "markdown",
      "id": "864b56fa",
      "metadata": {
        "id": "864b56fa"
      },
      "source": [
        "Functions"
      ]
    },
    {
      "cell_type": "code",
      "execution_count": null,
      "id": "dba91cb6",
      "metadata": {
        "id": "dba91cb6",
        "outputId": "8ecfd280-1620-4776-d0b1-77e53c8f400c"
      },
      "outputs": [
        {
          "name": "stdout",
          "output_type": "stream",
          "text": [
            "AC/DC\n",
            "Back in Black\n",
            "Thriller\n"
          ]
        }
      ],
      "source": [
        "def Artist(*names):\n",
        "    for name in names:\n",
        "        print(name)\n",
        "Artist('AC/DC', 'Back in Black', 'Thriller')"
      ]
    },
    {
      "cell_type": "markdown",
      "id": "d34b9990",
      "metadata": {
        "id": "d34b9990"
      },
      "source": [
        "Alcance de una variable: cuando las variables se definen fuera de cualquier función lo que significa que se puede acceder a ellas en cualquier lugar. En el mismo ámbito puede existir una variable local perteneciente a alguna función con el mismo nombre que una variable global. Cuando llamamos a la función y le establecimos un nuevo valor a nivel global, va a tomar l valor local."
      ]
    },
    {
      "cell_type": "code",
      "execution_count": null,
      "id": "6ef994b3",
      "metadata": {
        "id": "6ef994b3"
      },
      "outputs": [],
      "source": [
        "def thriller():\n",
        "    date=1981+1\n",
        "    return date\n",
        "date=1985"
      ]
    },
    {
      "cell_type": "code",
      "execution_count": null,
      "id": "fab36a45",
      "metadata": {
        "id": "fab36a45",
        "outputId": "8f849d7a-b7da-4e6d-e1b4-60e19e51854f"
      },
      "outputs": [
        {
          "data": {
            "text/plain": [
              "1982"
            ]
          },
          "execution_count": 6,
          "metadata": {},
          "output_type": "execute_result"
        }
      ],
      "source": [
        "thriller()"
      ]
    },
    {
      "cell_type": "code",
      "execution_count": null,
      "id": "a9a06eed",
      "metadata": {
        "id": "a9a06eed",
        "outputId": "ca55bf61-025e-4f01-d0de-e555b5085429"
      },
      "outputs": [
        {
          "name": "stdout",
          "output_type": "stream",
          "text": [
            "playroll\n"
          ]
        },
        {
          "data": {
            "text/plain": [
              "'play'"
            ]
          },
          "execution_count": 15,
          "metadata": {},
          "output_type": "execute_result"
        }
      ],
      "source": [
        "def rock(x):\n",
        "    print(x+'roll')# sale a buscar al alcance global la variable x, que en este caso es igual a m\n",
        "    return x #me devuelve también el valor de la variable con alcance global\n",
        "m='play'\n",
        "rock(m)"
      ]
    },
    {
      "cell_type": "code",
      "execution_count": null,
      "id": "0538a457",
      "metadata": {
        "id": "0538a457",
        "outputId": "7f955b37-18f3-4a31-82cb-e3c3bd105547"
      },
      "outputs": [
        {
          "name": "stdout",
          "output_type": "stream",
          "text": [
            "playroll\n"
          ]
        },
        {
          "data": {
            "text/plain": [
              "'play'"
            ]
          },
          "execution_count": 16,
          "metadata": {},
          "output_type": "execute_result"
        }
      ],
      "source": [
        "def rock(x):\n",
        "    global m #le estamos confirmando que va a tener un alcance global\n",
        "    m='play'\n",
        "    print(x+'roll')# sale a buscar al alcance global la variable x, que en este caso es igual a m\n",
        "    return x #me devuelve también el valor de la variable con alcance global\n",
        "rock(m)"
      ]
    },
    {
      "cell_type": "markdown",
      "id": "a0b1a45f",
      "metadata": {
        "id": "a0b1a45f"
      },
      "source": [
        "Exception Handling"
      ]
    },
    {
      "cell_type": "code",
      "execution_count": null,
      "id": "1daa50a7",
      "metadata": {
        "id": "1daa50a7",
        "outputId": "2c777369-a734-4b32-cf57-53ee52ddb577"
      },
      "outputs": [
        {
          "name": "stdout",
          "output_type": "stream",
          "text": [
            "some other error occurred!\n",
            "File is now closed.\n"
          ]
        }
      ],
      "source": [
        "try:\n",
        "    getfile=open('Bicicletas.csv','r')\n",
        "    getfile=write('file for exception handling')\n",
        "except IOError:\n",
        "    print('Unable to open or read the data in the file')\n",
        "except:\n",
        "    print('some other error occurred!')\n",
        "else:\n",
        "    print('the file was written succesfully')\n",
        "finally:\n",
        "    getfile.close()\n",
        "    print('File is now closed.')"
      ]
    },
    {
      "cell_type": "markdown",
      "id": "7b13c5cf",
      "metadata": {
        "id": "7b13c5cf"
      },
      "source": [
        "An object is an instance of a particular type. Every object has type, internal representation, methods (a set of functions to interactive with the data)\n",
        "Classes, combine attributes and methods.  Un método es una función que cambia o interactúa con el objeto a través de sus atributos."
      ]
    },
    {
      "cell_type": "code",
      "source": [
        "# Import the library\n",
        "import matplotlib.pyplot as plt\n",
        "%matplotlib inline"
      ],
      "metadata": {
        "id": "X7mnZEOZdpnB"
      },
      "id": "X7mnZEOZdpnB",
      "execution_count": null,
      "outputs": []
    },
    {
      "cell_type": "code",
      "execution_count": null,
      "id": "912ce3bc",
      "metadata": {
        "id": "912ce3bc",
        "colab": {
          "base_uri": "https://localhost:8080/",
          "height": 430
        },
        "outputId": "e8e236f0-5ac4-4390-c116-f06d8fe86f50"
      },
      "outputs": [
        {
          "output_type": "display_data",
          "data": {
            "text/plain": [
              "<Figure size 640x480 with 1 Axes>"
            ],
            "image/png": "[encoded data removed]"
          },
          "metadata": {}
        }
      ],
      "source": [
        "class Circle(object):         # special method or constructor used to initialize data attributes parameters __init__\n",
        "  def __init__(self,radius,color): # el parámetro self se refiere a la instancia de la clase recién creada. Es útil considerarlo como una caja que contiene\n",
        "                                   # todos los atributos de datos del objeto.\n",
        "  # radius=5,color='purple' podemos agregarle a los parámetros valores predeterminados\n",
        "    self.radius=radius;\n",
        "    self.color=color;\n",
        "  def add_radius(self,r): # agregamos un método\n",
        "    self.radius=self.radius+r;\n",
        "    return(self.radius)\n",
        "  def drawCircle(self):\n",
        "    plt.gca().add_patch(plt.Circle((0, 0), radius=self.radius, fc=self.color))\n",
        "    plt.axis('scaled')\n",
        "    plt.show()\n",
        "redcircle=Circle(10,'red')\n",
        "redcircle.drawCircle()\n",
        "# redcircle.color='blue' cambiar de color\n",
        "# redcircle.add_radius(5) modificar el radio\n",
        "# redcircle.color ver los valores de cada parámetro\n",
        "# dir(NameofObject) se obtiene la lista de atributos de datos y métodos asociados a una clase. Solo me voy a interesar por los atributos que no tienen\n",
        "# gui bajos que son los objetos, métodos y atributos de datos. Los atributos delimitados por guiones bajos son para uso interno y no debes preocuparte por ellos."
      ]
    },
    {
      "cell_type": "markdown",
      "source": [
        "# Week 4 File handling\n"
      ],
      "metadata": {
        "id": "9wA2ENluUOoO"
      },
      "id": "9wA2ENluUOoO"
    },
    {
      "cell_type": "markdown",
      "source": [
        "Question 1\n",
        "What are the most common modes used when opening a file?\n",
        "\n",
        "(a)ppend, (r)ead, (w)rite"
      ],
      "metadata": {
        "id": "kaVqZlzX8_u4"
      },
      "id": "kaVqZlzX8_u4"
    },
    {
      "cell_type": "markdown",
      "source": [
        "What is the data attribute that will return the title of the file?\n",
        "\n",
        "File1.name"
      ],
      "metadata": {
        "id": "t_YqGWw-9De6"
      },
      "id": "t_YqGWw-9De6"
    },
    {
      "cell_type": "markdown",
      "source": [
        "What is the command that tells Python to begin a new line?\n",
        "\n",
        "\\n"
      ],
      "metadata": {
        "id": "udi_LYcu9Lh3"
      },
      "id": "udi_LYcu9Lh3"
    },
    {
      "cell_type": "markdown",
      "source": [
        "What attribute is used to input data into a file?\n",
        "\n",
        "File1.write()"
      ],
      "metadata": {
        "id": "m2ovhBw59TF5"
      },
      "id": "m2ovhBw59TF5"
    },
    {
      "cell_type": "code",
      "source": [
        "from google.colab import drive\n",
        "drive.mount('/content/drive')"
      ],
      "metadata": {
        "colab": {
          "base_uri": "https://localhost:8080/"
        },
        "id": "u_QVOA0F0hL2",
        "outputId": "65078cb3-74ad-4457-c972-e8f73e634e39"
      },
      "id": "u_QVOA0F0hL2",
      "execution_count": null,
      "outputs": [
        {
          "output_type": "stream",
          "name": "stdout",
          "text": [
            "Mounted at /content/drive\n"
          ]
        }
      ]
    },
    {
      "cell_type": "code",
      "source": [
        "# Using Python's open function\n",
        "file=open(\"/content/drive/MyDrive/clases.txt\", \"r\")"
      ],
      "metadata": {
        "id": "xB4lFk8Rvzva"
      },
      "id": "xB4lFk8Rvzva",
      "execution_count": null,
      "outputs": []
    },
    {
      "cell_type": "code",
      "source": [
        "line1 = file.readline()  # Reads the first line\n",
        "print(line1)\n"
      ],
      "metadata": {
        "colab": {
          "base_uri": "https://localhost:8080/"
        },
        "id": "Rwbz9f4vywm5",
        "outputId": "73d4b564-4462-4756-ac81-7296ca88d0f6"
      },
      "id": "Rwbz9f4vywm5",
      "execution_count": null,
      "outputs": [
        {
          "output_type": "stream",
          "name": "stdout",
          "text": [
            "Mañana arranca el primer dia de clases!!!!\n"
          ]
        }
      ]
    },
    {
      "cell_type": "code",
      "source": [
        "if 'dia' in line1:\n",
        "    print('This line is important!')"
      ],
      "metadata": {
        "colab": {
          "base_uri": "https://localhost:8080/"
        },
        "id": "FM6c405z11EB",
        "outputId": "ef4028de-fa9e-4768-a85e-107486ce5edf"
      },
      "id": "FM6c405z11EB",
      "execution_count": null,
      "outputs": [
        {
          "output_type": "stream",
          "name": "stdout",
          "text": [
            "This line is important!\n"
          ]
        }
      ]
    },
    {
      "cell_type": "code",
      "source": [
        "# Looping through lines: Typically, you use a loop to read lines until there are no more lines left.\n",
        "# It's like reading the entire book, line by line.\n",
        "while True:\n",
        "    line = file.readline()\n",
        "    if not line:\n",
        "        break  # Stop when there are no more lines to read\n",
        "    print(line)"
      ],
      "metadata": {
        "id": "AKEInBtK7vgR"
      },
      "id": "AKEInBtK7vgR",
      "execution_count": null,
      "outputs": []
    },
    {
      "cell_type": "markdown",
      "source": [
        "Si desea leer caracteres desde una posición específica en el archivo, puede utilizar el método seek(). Este método mueve el puntero del archivo (como un cursor) a una posición particular. La posición se especifica en bytes, por lo que necesitará saber el desplazamiento de bytes de los caracteres que desea leer."
      ],
      "metadata": {
        "id": "btDbnbiz4kpy"
      },
      "id": "btDbnbiz4kpy"
    },
    {
      "cell_type": "code",
      "source": [
        "file.seek(10)  # Move to the 11th byte (0-based index)"
      ],
      "metadata": {
        "colab": {
          "base_uri": "https://localhost:8080/"
        },
        "id": "mqJIUasS4aZ5",
        "outputId": "a718e2c7-2457-42ca-d2cc-7a308984789d"
      },
      "id": "mqJIUasS4aZ5",
      "execution_count": null,
      "outputs": [
        {
          "output_type": "execute_result",
          "data": {
            "text/plain": [
              "10"
            ]
          },
          "metadata": {},
          "execution_count": 58
        }
      ]
    },
    {
      "cell_type": "markdown",
      "source": [
        "Para leer caracteres específicos, puede utilizar el método read() con un argumento que especifica la cantidad de caracteres a leer. Lee caracteres a partir de la posición actual del puntero del archivo."
      ],
      "metadata": {
        "id": "C4a9z5ci4yli"
      },
      "id": "C4a9z5ci4yli"
    },
    {
      "cell_type": "code",
      "source": [
        "characters = file.read(5)  # Read the next 5 characters"
      ],
      "metadata": {
        "id": "17_Uh8G14p0p"
      },
      "id": "17_Uh8G14p0p",
      "execution_count": null,
      "outputs": []
    },
    {
      "cell_type": "code",
      "source": [
        "file.close()"
      ],
      "metadata": {
        "id": "DJuVdvvQ2Vz0"
      },
      "id": "DJuVdvvQ2Vz0",
      "execution_count": null,
      "outputs": []
    },
    {
      "cell_type": "code",
      "source": [
        "# Using 'with' statement, to ensure proper closure\n",
        "with open('/content/drive/MyDrive/clases.txt', 'r') as file:\n",
        "  file_stuff = file.read()\n",
        "print(file_stuff)"
      ],
      "metadata": {
        "colab": {
          "base_uri": "https://localhost:8080/"
        },
        "id": "pnNsADK_6YUX",
        "outputId": "386ede4c-552d-49e7-f670-d290b5ad0541"
      },
      "id": "pnNsADK_6YUX",
      "execution_count": null,
      "outputs": [
        {
          "output_type": "stream",
          "name": "stdout",
          "text": [
            "Mañana arranca el primer dia de clases!!!!\n"
          ]
        }
      ]
    },
    {
      "cell_type": "markdown",
      "source": [
        "# Copying contents from one file to another\n"
      ],
      "metadata": {
        "id": "Fm7IyCtj8os0"
      },
      "id": "Fm7IyCtj8os0"
    },
    {
      "cell_type": "code",
      "source": [
        "# Open the source file for reading\n",
        "with open('/content/drive/MyDrive/clases.txt', 'r') as source_file:\n",
        "      # Open the destination file for writing\n",
        "    with open('/content/drive/MyDrive/destination.txt', 'w') as destination_file:\n",
        "      # Read lines from the source file and copy them to the destination file\n",
        "      for line in source_file:\n",
        "        destination_file.write(line)\n",
        "    # Destination file is automatically closed when the 'with' block exits\n",
        "# Source file is automatically closed when the 'with' block exits"
      ],
      "metadata": {
        "id": "rzWO7hdL7arp"
      },
      "id": "rzWO7hdL7arp",
      "execution_count": null,
      "outputs": []
    },
    {
      "cell_type": "code",
      "source": [
        "with open('/content/drive/MyDrive/clases.txt', 'r') as file:\n",
        "  for line in file:\n",
        "    print(line)"
      ],
      "metadata": {
        "colab": {
          "base_uri": "https://localhost:8080/"
        },
        "id": "H_jrwUa5lm53",
        "outputId": "9e7b0a37-2412-4d00-8f2b-5a2f23708e94"
      },
      "id": "H_jrwUa5lm53",
      "execution_count": null,
      "outputs": [
        {
          "output_type": "stream",
          "name": "stdout",
          "text": [
            "Mañana arranca el primer dia de clases!!!!\n"
          ]
        }
      ]
    },
    {
      "cell_type": "code",
      "source": [
        "from google.colab import drive\n",
        "drive.mount('/content/drive')"
      ],
      "metadata": {
        "colab": {
          "base_uri": "https://localhost:8080/"
        },
        "id": "FlRqURHjHtOc",
        "outputId": "eba148c0-5b55-4fb7-a7ac-93f92a7ef622"
      },
      "id": "FlRqURHjHtOc",
      "execution_count": null,
      "outputs": [
        {
          "output_type": "stream",
          "name": "stdout",
          "text": [
            "Mounted at /content/drive\n"
          ]
        }
      ]
    },
    {
      "cell_type": "code",
      "source": [
        "# Crear un archivo de texto\n",
        "file=open(\"/content/drive/MyDrive/teresa.txt\", \"w\")\n",
        "file.write(\"Segundo día de clases \")\n",
        "lista=[\"está entusiasmada \",\"va a estudiar mucho mejor este año\"]\n",
        "for i in lista:\n",
        "  file.write(i)\n",
        "with open(\"/content/drive/MyDrive/teresa.txt\", \"r\") as file:\n",
        "    contenido = file.read()\n",
        "    print(contenido)"
      ],
      "metadata": {
        "colab": {
          "base_uri": "https://localhost:8080/"
        },
        "id": "kdCJeupY-V3c",
        "outputId": "659595a7-5dc3-4072-ed84-4e4b8af4d7a9"
      },
      "id": "kdCJeupY-V3c",
      "execution_count": null,
      "outputs": [
        {
          "output_type": "stream",
          "name": "stdout",
          "text": [
            "Segundo día de clases está entusiasmada va a estudiar mucho mejor este año\n"
          ]
        }
      ]
    },
    {
      "cell_type": "code",
      "source": [
        "file = open(\"/content/drive/MyDrive/teresa.txt\", \"r\")\n",
        "contenido = file.read()\n",
        "print(contenido)\n",
        "file.close()"
      ],
      "metadata": {
        "colab": {
          "base_uri": "https://localhost:8080/"
        },
        "id": "q3UmSKihY2yz",
        "outputId": "4d5eb222-9c5c-45d6-8fcb-31f4a0e7a23b"
      },
      "id": "q3UmSKihY2yz",
      "execution_count": null,
      "outputs": [
        {
          "output_type": "stream",
          "name": "stdout",
          "text": [
            "Segundo día de clases está entusiasmada va a estudiar mucho mejor este año\n"
          ]
        }
      ]
    },
    {
      "cell_type": "code",
      "source": [
        "with open(\"/content/drive/MyDrive/teresa.txt\", \"a\") as file:\n",
        "  file.write(\"este año va a estar bueno...\")\n"
      ],
      "metadata": {
        "id": "iG9tWMLUY-oc"
      },
      "id": "iG9tWMLUY-oc",
      "execution_count": null,
      "outputs": []
    },
    {
      "cell_type": "markdown",
      "source": [
        "# Loading Data with Pandas"
      ],
      "metadata": {
        "id": "59VmSiRV9sXY"
      },
      "id": "59VmSiRV9sXY"
    },
    {
      "cell_type": "code",
      "source": [
        "import pandas as pd\n",
        "csv_path=\"/content/drive/MyDrive/estudiantes_limpio.csv\"\n",
        "df=pd.read_csv(csv_path)\n",
        "df"
      ],
      "metadata": {
        "id": "s_p7Ogr19uYE",
        "colab": {
          "base_uri": "https://localhost:8080/",
          "height": 478
        },
        "outputId": "3fbaf116-4737-4d26-99a4-0aad1ae872a2"
      },
      "id": "s_p7Ogr19uYE",
      "execution_count": null,
      "outputs": [
        {
          "output_type": "execute_result",
          "data": {
            "text/plain": [
              "     race/ethnicity  lunch  test preparation course  math score  \\\n",
              "0                 1      1                        1          72   \n",
              "1                 2      1                        0          69   \n",
              "2                 1      1                        1          90   \n",
              "3                 0      0                        1          47   \n",
              "4                 2      1                        1          76   \n",
              "..              ...    ...                      ...         ...   \n",
              "979               4      1                        0          88   \n",
              "980               2      0                        1          62   \n",
              "981               2      0                        0          59   \n",
              "982               3      1                        0          68   \n",
              "983               3      0                        1          77   \n",
              "\n",
              "     reading score  writing score  females  male  associate's degree  \\\n",
              "0               72             74        1     0                 0.0   \n",
              "1               90             88        1     0                 0.0   \n",
              "2               95             93        1     0                 0.0   \n",
              "3               57             44        0     1                 1.0   \n",
              "4               78             75        0     1                 0.0   \n",
              "..             ...            ...      ...   ...                 ...   \n",
              "979             99             95        1     0                 0.0   \n",
              "980             55             55        0     1                 0.0   \n",
              "981             71             65        1     0                 0.0   \n",
              "982             78             77        1     0                 0.0   \n",
              "983             86             86        1     0                 0.0   \n",
              "\n",
              "     bachelor's degree  high school  master's degree  some college  \\\n",
              "0                  1.0          0.0              0.0           0.0   \n",
              "1                  0.0          0.0              0.0           1.0   \n",
              "2                  0.0          0.0              1.0           0.0   \n",
              "3                  0.0          0.0              0.0           0.0   \n",
              "4                  0.0          0.0              0.0           1.0   \n",
              "..                 ...          ...              ...           ...   \n",
              "979                0.0          0.0              1.0           0.0   \n",
              "980                0.0          1.0              0.0           0.0   \n",
              "981                0.0          1.0              0.0           0.0   \n",
              "982                0.0          0.0              0.0           1.0   \n",
              "983                0.0          0.0              0.0           1.0   \n",
              "\n",
              "     some high school  \n",
              "0                 0.0  \n",
              "1                 0.0  \n",
              "2                 0.0  \n",
              "3                 0.0  \n",
              "4                 0.0  \n",
              "..                ...  \n",
              "979               0.0  \n",
              "980               0.0  \n",
              "981               0.0  \n",
              "982               0.0  \n",
              "983               0.0  \n",
              "\n",
              "[984 rows x 14 columns]"
            ],
            "text/html": [
              "\n",
              "  <div id=\"df-6e873880-9249-449b-867e-77f4b22ba637\" class=\"colab-df-container\">\n",
              "    <div>\n",
              "<style scoped>\n",
              "    .dataframe tbody tr th:only-of-type {\n",
              "        vertical-align: middle;\n",
              "    }\n",
              "\n",
              "    .dataframe tbody tr th {\n",
              "        vertical-align: top;\n",
              "    }\n",
              "\n",
              "    .dataframe thead th {\n",
              "        text-align: right;\n",
              "    }\n",
              "</style>\n",
              "<table border=\"1\" class=\"dataframe\">\n",
              "  <thead>\n",
              "    <tr style=\"text-align: right;\">\n",
              "      <th></th>\n",
              "      <th>race/ethnicity</th>\n",
              "      <th>lunch</th>\n",
              "      <th>test preparation course</th>\n",
              "      <th>math score</th>\n",
              "      <th>reading score</th>\n",
              "      <th>writing score</th>\n",
              "      <th>females</th>\n",
              "      <th>male</th>\n",
              "      <th>associate's degree</th>\n",
              "      <th>bachelor's degree</th>\n",
              "      <th>high school</th>\n",
              "      <th>master's degree</th>\n",
              "      <th>some college</th>\n",
              "      <th>some high school</th>\n",
              "    </tr>\n",
              "  </thead>\n",
              "  <tbody>\n",
              "    <tr>\n",
              "      <th>0</th>\n",
              "      <td>1</td>\n",
              "      <td>1</td>\n",
              "      <td>1</td>\n",
              "      <td>72</td>\n",
              "      <td>72</td>\n",
              "      <td>74</td>\n",
              "      <td>1</td>\n",
              "      <td>0</td>\n",
              "      <td>0.0</td>\n",
              "      <td>1.0</td>\n",
              "      <td>0.0</td>\n",
              "      <td>0.0</td>\n",
              "      <td>0.0</td>\n",
              "      <td>0.0</td>\n",
              "    </tr>\n",
              "    <tr>\n",
              "      <th>1</th>\n",
              "      <td>2</td>\n",
              "      <td>1</td>\n",
              "      <td>0</td>\n",
              "      <td>69</td>\n",
              "      <td>90</td>\n",
              "      <td>88</td>\n",
              "      <td>1</td>\n",
              "      <td>0</td>\n",
              "      <td>0.0</td>\n",
              "      <td>0.0</td>\n",
              "      <td>0.0</td>\n",
              "      <td>0.0</td>\n",
              "      <td>1.0</td>\n",
              "      <td>0.0</td>\n",
              "    </tr>\n",
              "    <tr>\n",
              "      <th>2</th>\n",
              "      <td>1</td>\n",
              "      <td>1</td>\n",
              "      <td>1</td>\n",
              "      <td>90</td>\n",
              "      <td>95</td>\n",
              "      <td>93</td>\n",
              "      <td>1</td>\n",
              "      <td>0</td>\n",
              "      <td>0.0</td>\n",
              "      <td>0.0</td>\n",
              "      <td>0.0</td>\n",
              "      <td>1.0</td>\n",
              "      <td>0.0</td>\n",
              "      <td>0.0</td>\n",
              "    </tr>\n",
              "    <tr>\n",
              "      <th>3</th>\n",
              "      <td>0</td>\n",
              "      <td>0</td>\n",
              "      <td>1</td>\n",
              "      <td>47</td>\n",
              "      <td>57</td>\n",
              "      <td>44</td>\n",
              "      <td>0</td>\n",
              "      <td>1</td>\n",
              "      <td>1.0</td>\n",
              "      <td>0.0</td>\n",
              "      <td>0.0</td>\n",
              "      <td>0.0</td>\n",
              "      <td>0.0</td>\n",
              "      <td>0.0</td>\n",
              "    </tr>\n",
              "    <tr>\n",
              "      <th>4</th>\n",
              "      <td>2</td>\n",
              "      <td>1</td>\n",
              "      <td>1</td>\n",
              "      <td>76</td>\n",
              "      <td>78</td>\n",
              "      <td>75</td>\n",
              "      <td>0</td>\n",
              "      <td>1</td>\n",
              "      <td>0.0</td>\n",
              "      <td>0.0</td>\n",
              "      <td>0.0</td>\n",
              "      <td>0.0</td>\n",
              "      <td>1.0</td>\n",
              "      <td>0.0</td>\n",
              "    </tr>\n",
              "    <tr>\n",
              "      <th>...</th>\n",
              "      <td>...</td>\n",
              "      <td>...</td>\n",
              "      <td>...</td>\n",
              "      <td>...</td>\n",
              "      <td>...</td>\n",
              "      <td>...</td>\n",
              "      <td>...</td>\n",
              "      <td>...</td>\n",
              "      <td>...</td>\n",
              "      <td>...</td>\n",
              "      <td>...</td>\n",
              "      <td>...</td>\n",
              "      <td>...</td>\n",
              "      <td>...</td>\n",
              "    </tr>\n",
              "    <tr>\n",
              "      <th>979</th>\n",
              "      <td>4</td>\n",
              "      <td>1</td>\n",
              "      <td>0</td>\n",
              "      <td>88</td>\n",
              "      <td>99</td>\n",
              "      <td>95</td>\n",
              "      <td>1</td>\n",
              "      <td>0</td>\n",
              "      <td>0.0</td>\n",
              "      <td>0.0</td>\n",
              "      <td>0.0</td>\n",
              "      <td>1.0</td>\n",
              "      <td>0.0</td>\n",
              "      <td>0.0</td>\n",
              "    </tr>\n",
              "    <tr>\n",
              "      <th>980</th>\n",
              "      <td>2</td>\n",
              "      <td>0</td>\n",
              "      <td>1</td>\n",
              "      <td>62</td>\n",
              "      <td>55</td>\n",
              "      <td>55</td>\n",
              "      <td>0</td>\n",
              "      <td>1</td>\n",
              "      <td>0.0</td>\n",
              "      <td>0.0</td>\n",
              "      <td>1.0</td>\n",
              "      <td>0.0</td>\n",
              "      <td>0.0</td>\n",
              "      <td>0.0</td>\n",
              "    </tr>\n",
              "    <tr>\n",
              "      <th>981</th>\n",
              "      <td>2</td>\n",
              "      <td>0</td>\n",
              "      <td>0</td>\n",
              "      <td>59</td>\n",
              "      <td>71</td>\n",
              "      <td>65</td>\n",
              "      <td>1</td>\n",
              "      <td>0</td>\n",
              "      <td>0.0</td>\n",
              "      <td>0.0</td>\n",
              "      <td>1.0</td>\n",
              "      <td>0.0</td>\n",
              "      <td>0.0</td>\n",
              "      <td>0.0</td>\n",
              "    </tr>\n",
              "    <tr>\n",
              "      <th>982</th>\n",
              "      <td>3</td>\n",
              "      <td>1</td>\n",
              "      <td>0</td>\n",
              "      <td>68</td>\n",
              "      <td>78</td>\n",
              "      <td>77</td>\n",
              "      <td>1</td>\n",
              "      <td>0</td>\n",
              "      <td>0.0</td>\n",
              "      <td>0.0</td>\n",
              "      <td>0.0</td>\n",
              "      <td>0.0</td>\n",
              "      <td>1.0</td>\n",
              "      <td>0.0</td>\n",
              "    </tr>\n",
              "    <tr>\n",
              "      <th>983</th>\n",
              "      <td>3</td>\n",
              "      <td>0</td>\n",
              "      <td>1</td>\n",
              "      <td>77</td>\n",
              "      <td>86</td>\n",
              "      <td>86</td>\n",
              "      <td>1</td>\n",
              "      <td>0</td>\n",
              "      <td>0.0</td>\n",
              "      <td>0.0</td>\n",
              "      <td>0.0</td>\n",
              "      <td>0.0</td>\n",
              "      <td>1.0</td>\n",
              "      <td>0.0</td>\n",
              "    </tr>\n",
              "  </tbody>\n",
              "</table>\n",
              "<p>984 rows × 14 columns</p>\n",
              "</div>\n",
              "    <div class=\"colab-df-buttons\">\n",
              "\n",
              "  <div class=\"colab-df-container\">\n",
              "    <button class=\"colab-df-convert\" onclick=\"convertToInteractive('df-6e873880-9249-449b-867e-77f4b22ba637')\"\n",
              "            title=\"Convert this dataframe to an interactive table.\"\n",
              "            style=\"display:none;\">\n",
              "\n",
              "  <svg xmlns=\"http://www.w3.org/2000/svg\" height=\"24px\" viewBox=\"0 -960 960 960\">\n",
              "    <path d=\"M120-120v-720h720v720H120Zm60-500h600v-160H180v160Zm220 220h160v-160H400v160Zm0 220h160v-160H400v160ZM180-400h160v-160H180v160Zm440 0h160v-160H620v160ZM180-180h160v-160H180v160Zm440 0h160v-160H620v160Z\"/>\n",
              "  </svg>\n",
              "    </button>\n",
              "\n",
              "  <style>\n",
              "    .colab-df-container {\n",
              "      display:flex;\n",
              "      gap: 12px;\n",
              "    }\n",
              "\n",
              "    .colab-df-convert {\n",
              "      background-color: #E8F0FE;\n",
              "      border: none;\n",
              "      border-radius: 50%;\n",
              "      cursor: pointer;\n",
              "      display: none;\n",
              "      fill: #1967D2;\n",
              "      height: 32px;\n",
              "      padding: 0 0 0 0;\n",
              "      width: 32px;\n",
              "    }\n",
              "\n",
              "    .colab-df-convert:hover {\n",
              "      background-color: #E2EBFA;\n",
              "      box-shadow: 0px 1px 2px rgba(60, 64, 67, 0.3), 0px 1px 3px 1px rgba(60, 64, 67, 0.15);\n",
              "      fill: #174EA6;\n",
              "    }\n",
              "\n",
              "    .colab-df-buttons div {\n",
              "      margin-bottom: 4px;\n",
              "    }\n",
              "\n",
              "    [theme=dark] .colab-df-convert {\n",
              "      background-color: #3B4455;\n",
              "      fill: #D2E3FC;\n",
              "    }\n",
              "\n",
              "    [theme=dark] .colab-df-convert:hover {\n",
              "      background-color: #434B5C;\n",
              "      box-shadow: 0px 1px 3px 1px rgba(0, 0, 0, 0.15);\n",
              "      filter: drop-shadow(0px 1px 2px rgba(0, 0, 0, 0.3));\n",
              "      fill: #FFFFFF;\n",
              "    }\n",
              "  </style>\n",
              "\n",
              "    <script>\n",
              "      const buttonEl =\n",
              "        document.querySelector('#df-6e873880-9249-449b-867e-77f4b22ba637 button.colab-df-convert');\n",
              "      buttonEl.style.display =\n",
              "        google.colab.kernel.accessAllowed ? 'block' : 'none';\n",
              "\n",
              "      async function convertToInteractive(key) {\n",
              "        const element = document.querySelector('#df-6e873880-9249-449b-867e-77f4b22ba637');\n",
              "        const dataTable =\n",
              "          await google.colab.kernel.invokeFunction('convertToInteractive',\n",
              "                                                    [key], {});\n",
              "        if (!dataTable) return;\n",
              "\n",
              "        const docLinkHtml = 'Like what you see? Visit the ' +\n",
              "          '<a target=\"_blank\" href=https://colab.research.google.com/notebooks/data_table.ipynb>data table notebook</a>'\n",
              "          + ' to learn more about interactive tables.';\n",
              "        element.innerHTML = '';\n",
              "        dataTable['output_type'] = 'display_data';\n",
              "        await google.colab.output.renderOutput(dataTable, element);\n",
              "        const docLink = document.createElement('div');\n",
              "        docLink.innerHTML = docLinkHtml;\n",
              "        element.appendChild(docLink);\n",
              "      }\n",
              "    </script>\n",
              "  </div>\n",
              "\n",
              "\n",
              "<div id=\"df-aa64cb9d-ce55-4650-869b-d58e092a5ef7\">\n",
              "  <button class=\"colab-df-quickchart\" onclick=\"quickchart('df-aa64cb9d-ce55-4650-869b-d58e092a5ef7')\"\n",
              "            title=\"Suggest charts\"\n",
              "            style=\"display:none;\">\n",
              "\n",
              "<svg xmlns=\"http://www.w3.org/2000/svg\" height=\"24px\"viewBox=\"0 0 24 24\"\n",
              "     width=\"24px\">\n",
              "    <g>\n",
              "        <path d=\"M19 3H5c-1.1 0-2 .9-2 2v14c0 1.1.9 2 2 2h14c1.1 0 2-.9 2-2V5c0-1.1-.9-2-2-2zM9 17H7v-7h2v7zm4 0h-2V7h2v10zm4 0h-2v-4h2v4z\"/>\n",
              "    </g>\n",
              "</svg>\n",
              "  </button>\n",
              "\n",
              "<style>\n",
              "  .colab-df-quickchart {\n",
              "      --bg-color: #E8F0FE;\n",
              "      --fill-color: #1967D2;\n",
              "      --hover-bg-color: #E2EBFA;\n",
              "      --hover-fill-color: #174EA6;\n",
              "      --disabled-fill-color: #AAA;\n",
              "      --disabled-bg-color: #DDD;\n",
              "  }\n",
              "\n",
              "  [theme=dark] .colab-df-quickchart {\n",
              "      --bg-color: #3B4455;\n",
              "      --fill-color: #D2E3FC;\n",
              "      --hover-bg-color: #434B5C;\n",
              "      --hover-fill-color: #FFFFFF;\n",
              "      --disabled-bg-color: #3B4455;\n",
              "      --disabled-fill-color: #666;\n",
              "  }\n",
              "\n",
              "  .colab-df-quickchart {\n",
              "    background-color: var(--bg-color);\n",
              "    border: none;\n",
              "    border-radius: 50%;\n",
              "    cursor: pointer;\n",
              "    display: none;\n",
              "    fill: var(--fill-color);\n",
              "    height: 32px;\n",
              "    padding: 0;\n",
              "    width: 32px;\n",
              "  }\n",
              "\n",
              "  .colab-df-quickchart:hover {\n",
              "    background-color: var(--hover-bg-color);\n",
              "    box-shadow: 0 1px 2px rgba(60, 64, 67, 0.3), 0 1px 3px 1px rgba(60, 64, 67, 0.15);\n",
              "    fill: var(--button-hover-fill-color);\n",
              "  }\n",
              "\n",
              "  .colab-df-quickchart-complete:disabled,\n",
              "  .colab-df-quickchart-complete:disabled:hover {\n",
              "    background-color: var(--disabled-bg-color);\n",
              "    fill: var(--disabled-fill-color);\n",
              "    box-shadow: none;\n",
              "  }\n",
              "\n",
              "  .colab-df-spinner {\n",
              "    border: 2px solid var(--fill-color);\n",
              "    border-color: transparent;\n",
              "    border-bottom-color: var(--fill-color);\n",
              "    animation:\n",
              "      spin 1s steps(1) infinite;\n",
              "  }\n",
              "\n",
              "  @keyframes spin {\n",
              "    0% {\n",
              "      border-color: transparent;\n",
              "      border-bottom-color: var(--fill-color);\n",
              "      border-left-color: var(--fill-color);\n",
              "    }\n",
              "    20% {\n",
              "      border-color: transparent;\n",
              "      border-left-color: var(--fill-color);\n",
              "      border-top-color: var(--fill-color);\n",
              "    }\n",
              "    30% {\n",
              "      border-color: transparent;\n",
              "      border-left-color: var(--fill-color);\n",
              "      border-top-color: var(--fill-color);\n",
              "      border-right-color: var(--fill-color);\n",
              "    }\n",
              "    40% {\n",
              "      border-color: transparent;\n",
              "      border-right-color: var(--fill-color);\n",
              "      border-top-color: var(--fill-color);\n",
              "    }\n",
              "    60% {\n",
              "      border-color: transparent;\n",
              "      border-right-color: var(--fill-color);\n",
              "    }\n",
              "    80% {\n",
              "      border-color: transparent;\n",
              "      border-right-color: var(--fill-color);\n",
              "      border-bottom-color: var(--fill-color);\n",
              "    }\n",
              "    90% {\n",
              "      border-color: transparent;\n",
              "      border-bottom-color: var(--fill-color);\n",
              "    }\n",
              "  }\n",
              "</style>\n",
              "\n",
              "  <script>\n",
              "    async function quickchart(key) {\n",
              "      const quickchartButtonEl =\n",
              "        document.querySelector('#' + key + ' button');\n",
              "      quickchartButtonEl.disabled = true;  // To prevent multiple clicks.\n",
              "      quickchartButtonEl.classList.add('colab-df-spinner');\n",
              "      try {\n",
              "        const charts = await google.colab.kernel.invokeFunction(\n",
              "            'suggestCharts', [key], {});\n",
              "      } catch (error) {\n",
              "        console.error('Error during call to suggestCharts:', error);\n",
              "      }\n",
              "      quickchartButtonEl.classList.remove('colab-df-spinner');\n",
              "      quickchartButtonEl.classList.add('colab-df-quickchart-complete');\n",
              "    }\n",
              "    (() => {\n",
              "      let quickchartButtonEl =\n",
              "        document.querySelector('#df-aa64cb9d-ce55-4650-869b-d58e092a5ef7 button');\n",
              "      quickchartButtonEl.style.display =\n",
              "        google.colab.kernel.accessAllowed ? 'block' : 'none';\n",
              "    })();\n",
              "  </script>\n",
              "</div>\n",
              "\n",
              "  <div id=\"id_ce133ad3-6239-4075-8cf1-f7c1495654b2\">\n",
              "    <style>\n",
              "      .colab-df-generate {\n",
              "        background-color: #E8F0FE;\n",
              "        border: none;\n",
              "        border-radius: 50%;\n",
              "        cursor: pointer;\n",
              "        display: none;\n",
              "        fill: #1967D2;\n",
              "        height: 32px;\n",
              "        padding: 0 0 0 0;\n",
              "        width: 32px;\n",
              "      }\n",
              "\n",
              "      .colab-df-generate:hover {\n",
              "        background-color: #E2EBFA;\n",
              "        box-shadow: 0px 1px 2px rgba(60, 64, 67, 0.3), 0px 1px 3px 1px rgba(60, 64, 67, 0.15);\n",
              "        fill: #174EA6;\n",
              "      }\n",
              "\n",
              "      [theme=dark] .colab-df-generate {\n",
              "        background-color: #3B4455;\n",
              "        fill: #D2E3FC;\n",
              "      }\n",
              "\n",
              "      [theme=dark] .colab-df-generate:hover {\n",
              "        background-color: #434B5C;\n",
              "        box-shadow: 0px 1px 3px 1px rgba(0, 0, 0, 0.15);\n",
              "        filter: drop-shadow(0px 1px 2px rgba(0, 0, 0, 0.3));\n",
              "        fill: #FFFFFF;\n",
              "      }\n",
              "    </style>\n",
              "    <button class=\"colab-df-generate\" onclick=\"generateWithVariable('df')\"\n",
              "            title=\"Generate code using this dataframe.\"\n",
              "            style=\"display:none;\">\n",
              "\n",
              "  <svg xmlns=\"http://www.w3.org/2000/svg\" height=\"24px\"viewBox=\"0 0 24 24\"\n",
              "       width=\"24px\">\n",
              "    <path d=\"M7,19H8.4L18.45,9,17,7.55,7,17.6ZM5,21V16.75L18.45,3.32a2,2,0,0,1,2.83,0l1.4,1.43a1.91,1.91,0,0,1,.58,1.4,1.91,1.91,0,0,1-.58,1.4L9.25,21ZM18.45,9,17,7.55Zm-12,3A5.31,5.31,0,0,0,4.9,8.1,5.31,5.31,0,0,0,1,6.5,5.31,5.31,0,0,0,4.9,4.9,5.31,5.31,0,0,0,6.5,1,5.31,5.31,0,0,0,8.1,4.9,5.31,5.31,0,0,0,12,6.5,5.46,5.46,0,0,0,6.5,12Z\"/>\n",
              "  </svg>\n",
              "    </button>\n",
              "    <script>\n",
              "      (() => {\n",
              "      const buttonEl =\n",
              "        document.querySelector('#id_ce133ad3-6239-4075-8cf1-f7c1495654b2 button.colab-df-generate');\n",
              "      buttonEl.style.display =\n",
              "        google.colab.kernel.accessAllowed ? 'block' : 'none';\n",
              "\n",
              "      buttonEl.onclick = () => {\n",
              "        google.colab.notebook.generateWithVariable('df');\n",
              "      }\n",
              "      })();\n",
              "    </script>\n",
              "  </div>\n",
              "\n",
              "    </div>\n",
              "  </div>\n"
            ],
            "application/vnd.google.colaboratory.intrinsic+json": {
              "type": "dataframe",
              "variable_name": "df",
              "summary": "{\n  \"name\": \"df\",\n  \"rows\": 984,\n  \"fields\": [\n    {\n      \"column\": \"race/ethnicity\",\n      \"properties\": {\n        \"dtype\": \"number\",\n        \"std\": 1,\n        \"min\": 0,\n        \"max\": 4,\n        \"num_unique_values\": 5,\n        \"samples\": [\n          2,\n          4,\n          0\n        ],\n        \"semantic_type\": \"\",\n        \"description\": \"\"\n      }\n    },\n    {\n      \"column\": \"lunch\",\n      \"properties\": {\n        \"dtype\": \"number\",\n        \"std\": 0,\n        \"min\": 0,\n        \"max\": 1,\n        \"num_unique_values\": 2,\n        \"samples\": [\n          0,\n          1\n        ],\n        \"semantic_type\": \"\",\n        \"description\": \"\"\n      }\n    },\n    {\n      \"column\": \"test preparation course\",\n      \"properties\": {\n        \"dtype\": \"number\",\n        \"std\": 0,\n        \"min\": 0,\n        \"max\": 1,\n        \"num_unique_values\": 2,\n        \"samples\": [\n          0,\n          1\n        ],\n        \"semantic_type\": \"\",\n        \"description\": \"\"\n      }\n    },\n    {\n      \"column\": \"math score\",\n      \"properties\": {\n        \"dtype\": \"number\",\n        \"std\": 14,\n        \"min\": 29,\n        \"max\": 100,\n        \"num_unique_values\": 70,\n        \"samples\": [\n          62,\n          72\n        ],\n        \"semantic_type\": \"\",\n        \"description\": \"\"\n      }\n    },\n    {\n      \"column\": \"reading score\",\n      \"properties\": {\n        \"dtype\": \"number\",\n        \"std\": 13,\n        \"min\": 31,\n        \"max\": 100,\n        \"num_unique_values\": 64,\n        \"samples\": [\n          62,\n          97\n        ],\n        \"semantic_type\": \"\",\n        \"description\": \"\"\n      }\n    },\n    {\n      \"column\": \"writing score\",\n      \"properties\": {\n        \"dtype\": \"number\",\n        \"std\": 14,\n        \"min\": 33,\n        \"max\": 100,\n        \"num_unique_values\": 68,\n        \"samples\": [\n          89,\n          46\n        ],\n        \"semantic_type\": \"\",\n        \"description\": \"\"\n      }\n    },\n    {\n      \"column\": \"females\",\n      \"properties\": {\n        \"dtype\": \"number\",\n        \"std\": 0,\n        \"min\": 0,\n        \"max\": 1,\n        \"num_unique_values\": 2,\n        \"samples\": [\n          0,\n          1\n        ],\n        \"semantic_type\": \"\",\n        \"description\": \"\"\n      }\n    },\n    {\n      \"column\": \"male\",\n      \"properties\": {\n        \"dtype\": \"number\",\n        \"std\": 0,\n        \"min\": 0,\n        \"max\": 1,\n        \"num_unique_values\": 2,\n        \"samples\": [\n          1,\n          0\n        ],\n        \"semantic_type\": \"\",\n        \"description\": \"\"\n      }\n    },\n    {\n      \"column\": \"associate's degree\",\n      \"properties\": {\n        \"dtype\": \"number\",\n        \"std\": 0.4175265507098736,\n        \"min\": 0.0,\n        \"max\": 1.0,\n        \"num_unique_values\": 2,\n        \"samples\": [\n          1.0,\n          0.0\n        ],\n        \"semantic_type\": \"\",\n        \"description\": \"\"\n      }\n    },\n    {\n      \"column\": \"bachelor's degree\",\n      \"properties\": {\n        \"dtype\": \"number\",\n        \"std\": 0.325031641774401,\n        \"min\": 0.0,\n        \"max\": 1.0,\n        \"num_unique_values\": 2,\n        \"samples\": [\n          0.0,\n          1.0\n        ],\n        \"semantic_type\": \"\",\n        \"description\": \"\"\n      }\n    },\n    {\n      \"column\": \"high school\",\n      \"properties\": {\n        \"dtype\": \"number\",\n        \"std\": 0.3949232874632162,\n        \"min\": 0.0,\n        \"max\": 1.0,\n        \"num_unique_values\": 2,\n        \"samples\": [\n          1.0,\n          0.0\n        ],\n        \"semantic_type\": \"\",\n        \"description\": \"\"\n      }\n    },\n    {\n      \"column\": \"master's degree\",\n      \"properties\": {\n        \"dtype\": \"number\",\n        \"std\": 0.23753223987202304,\n        \"min\": 0.0,\n        \"max\": 1.0,\n        \"num_unique_values\": 2,\n        \"samples\": [\n          1.0,\n          0.0\n        ],\n        \"semantic_type\": \"\",\n        \"description\": \"\"\n      }\n    },\n    {\n      \"column\": \"some college\",\n      \"properties\": {\n        \"dtype\": \"number\",\n        \"std\": 0.41819579801749895,\n        \"min\": 0.0,\n        \"max\": 1.0,\n        \"num_unique_values\": 2,\n        \"samples\": [\n          1.0,\n          0.0\n        ],\n        \"semantic_type\": \"\",\n        \"description\": \"\"\n      }\n    },\n    {\n      \"column\": \"some high school\",\n      \"properties\": {\n        \"dtype\": \"number\",\n        \"std\": 0.3817181632723247,\n        \"min\": 0.0,\n        \"max\": 1.0,\n        \"num_unique_values\": 2,\n        \"samples\": [\n          1.0,\n          0.0\n        ],\n        \"semantic_type\": \"\",\n        \"description\": \"\"\n      }\n    }\n  ]\n}"
            }
          },
          "metadata": {},
          "execution_count": 4
        }
      ]
    },
    {
      "cell_type": "code",
      "source": [
        "# Podemos crear un df a partir de un diccionario:\n",
        "data = {'Name': ['Alice', 'Bob', 'Charlie', 'David'],\n",
        "        'Age': [25, 30, 35, 28],\n",
        "        'City': ['New York', 'San Francisco', 'Los Angeles', 'Chicago']}\n",
        "df=pd.DataFrame(data)\n",
        "df\n",
        "# x=df[['columna']] crear un df a partir de una columna o varias\n",
        "# df.iloc[0,0]"
      ],
      "metadata": {
        "colab": {
          "base_uri": "https://localhost:8080/",
          "height": 175
        },
        "id": "aw0TlZFbkS7L",
        "outputId": "d1971eb1-b9da-4186-c65a-3736ddd68c00"
      },
      "id": "aw0TlZFbkS7L",
      "execution_count": null,
      "outputs": [
        {
          "output_type": "execute_result",
          "data": {
            "text/plain": [
              "      Name  Age           City\n",
              "0    Alice   25       New York\n",
              "1      Bob   30  San Francisco\n",
              "2  Charlie   35    Los Angeles\n",
              "3    David   28        Chicago"
            ],
            "text/html": [
              "\n",
              "  <div id=\"df-912e2509-0c7b-45b0-b1f6-05a35a36bed5\" class=\"colab-df-container\">\n",
              "    <div>\n",
              "<style scoped>\n",
              "    .dataframe tbody tr th:only-of-type {\n",
              "        vertical-align: middle;\n",
              "    }\n",
              "\n",
              "    .dataframe tbody tr th {\n",
              "        vertical-align: top;\n",
              "    }\n",
              "\n",
              "    .dataframe thead th {\n",
              "        text-align: right;\n",
              "    }\n",
              "</style>\n",
              "<table border=\"1\" class=\"dataframe\">\n",
              "  <thead>\n",
              "    <tr style=\"text-align: right;\">\n",
              "      <th></th>\n",
              "      <th>Name</th>\n",
              "      <th>Age</th>\n",
              "      <th>City</th>\n",
              "    </tr>\n",
              "  </thead>\n",
              "  <tbody>\n",
              "    <tr>\n",
              "      <th>0</th>\n",
              "      <td>Alice</td>\n",
              "      <td>25</td>\n",
              "      <td>New York</td>\n",
              "    </tr>\n",
              "    <tr>\n",
              "      <th>1</th>\n",
              "      <td>Bob</td>\n",
              "      <td>30</td>\n",
              "      <td>San Francisco</td>\n",
              "    </tr>\n",
              "    <tr>\n",
              "      <th>2</th>\n",
              "      <td>Charlie</td>\n",
              "      <td>35</td>\n",
              "      <td>Los Angeles</td>\n",
              "    </tr>\n",
              "    <tr>\n",
              "      <th>3</th>\n",
              "      <td>David</td>\n",
              "      <td>28</td>\n",
              "      <td>Chicago</td>\n",
              "    </tr>\n",
              "  </tbody>\n",
              "</table>\n",
              "</div>\n",
              "    <div class=\"colab-df-buttons\">\n",
              "\n",
              "  <div class=\"colab-df-container\">\n",
              "    <button class=\"colab-df-convert\" onclick=\"convertToInteractive('df-912e2509-0c7b-45b0-b1f6-05a35a36bed5')\"\n",
              "            title=\"Convert this dataframe to an interactive table.\"\n",
              "            style=\"display:none;\">\n",
              "\n",
              "  <svg xmlns=\"http://www.w3.org/2000/svg\" height=\"24px\" viewBox=\"0 -960 960 960\">\n",
              "    <path d=\"M120-120v-720h720v720H120Zm60-500h600v-160H180v160Zm220 220h160v-160H400v160Zm0 220h160v-160H400v160ZM180-400h160v-160H180v160Zm440 0h160v-160H620v160ZM180-180h160v-160H180v160Zm440 0h160v-160H620v160Z\"/>\n",
              "  </svg>\n",
              "    </button>\n",
              "\n",
              "  <style>\n",
              "    .colab-df-container {\n",
              "      display:flex;\n",
              "      gap: 12px;\n",
              "    }\n",
              "\n",
              "    .colab-df-convert {\n",
              "      background-color: #E8F0FE;\n",
              "      border: none;\n",
              "      border-radius: 50%;\n",
              "      cursor: pointer;\n",
              "      display: none;\n",
              "      fill: #1967D2;\n",
              "      height: 32px;\n",
              "      padding: 0 0 0 0;\n",
              "      width: 32px;\n",
              "    }\n",
              "\n",
              "    .colab-df-convert:hover {\n",
              "      background-color: #E2EBFA;\n",
              "      box-shadow: 0px 1px 2px rgba(60, 64, 67, 0.3), 0px 1px 3px 1px rgba(60, 64, 67, 0.15);\n",
              "      fill: #174EA6;\n",
              "    }\n",
              "\n",
              "    .colab-df-buttons div {\n",
              "      margin-bottom: 4px;\n",
              "    }\n",
              "\n",
              "    [theme=dark] .colab-df-convert {\n",
              "      background-color: #3B4455;\n",
              "      fill: #D2E3FC;\n",
              "    }\n",
              "\n",
              "    [theme=dark] .colab-df-convert:hover {\n",
              "      background-color: #434B5C;\n",
              "      box-shadow: 0px 1px 3px 1px rgba(0, 0, 0, 0.15);\n",
              "      filter: drop-shadow(0px 1px 2px rgba(0, 0, 0, 0.3));\n",
              "      fill: #FFFFFF;\n",
              "    }\n",
              "  </style>\n",
              "\n",
              "    <script>\n",
              "      const buttonEl =\n",
              "        document.querySelector('#df-912e2509-0c7b-45b0-b1f6-05a35a36bed5 button.colab-df-convert');\n",
              "      buttonEl.style.display =\n",
              "        google.colab.kernel.accessAllowed ? 'block' : 'none';\n",
              "\n",
              "      async function convertToInteractive(key) {\n",
              "        const element = document.querySelector('#df-912e2509-0c7b-45b0-b1f6-05a35a36bed5');\n",
              "        const dataTable =\n",
              "          await google.colab.kernel.invokeFunction('convertToInteractive',\n",
              "                                                    [key], {});\n",
              "        if (!dataTable) return;\n",
              "\n",
              "        const docLinkHtml = 'Like what you see? Visit the ' +\n",
              "          '<a target=\"_blank\" href=https://colab.research.google.com/notebooks/data_table.ipynb>data table notebook</a>'\n",
              "          + ' to learn more about interactive tables.';\n",
              "        element.innerHTML = '';\n",
              "        dataTable['output_type'] = 'display_data';\n",
              "        await google.colab.output.renderOutput(dataTable, element);\n",
              "        const docLink = document.createElement('div');\n",
              "        docLink.innerHTML = docLinkHtml;\n",
              "        element.appendChild(docLink);\n",
              "      }\n",
              "    </script>\n",
              "  </div>\n",
              "\n",
              "\n",
              "<div id=\"df-8b0244ec-84a1-4ee8-a029-beb31c667847\">\n",
              "  <button class=\"colab-df-quickchart\" onclick=\"quickchart('df-8b0244ec-84a1-4ee8-a029-beb31c667847')\"\n",
              "            title=\"Suggest charts\"\n",
              "            style=\"display:none;\">\n",
              "\n",
              "<svg xmlns=\"http://www.w3.org/2000/svg\" height=\"24px\"viewBox=\"0 0 24 24\"\n",
              "     width=\"24px\">\n",
              "    <g>\n",
              "        <path d=\"M19 3H5c-1.1 0-2 .9-2 2v14c0 1.1.9 2 2 2h14c1.1 0 2-.9 2-2V5c0-1.1-.9-2-2-2zM9 17H7v-7h2v7zm4 0h-2V7h2v10zm4 0h-2v-4h2v4z\"/>\n",
              "    </g>\n",
              "</svg>\n",
              "  </button>\n",
              "\n",
              "<style>\n",
              "  .colab-df-quickchart {\n",
              "      --bg-color: #E8F0FE;\n",
              "      --fill-color: #1967D2;\n",
              "      --hover-bg-color: #E2EBFA;\n",
              "      --hover-fill-color: #174EA6;\n",
              "      --disabled-fill-color: #AAA;\n",
              "      --disabled-bg-color: #DDD;\n",
              "  }\n",
              "\n",
              "  [theme=dark] .colab-df-quickchart {\n",
              "      --bg-color: #3B4455;\n",
              "      --fill-color: #D2E3FC;\n",
              "      --hover-bg-color: #434B5C;\n",
              "      --hover-fill-color: #FFFFFF;\n",
              "      --disabled-bg-color: #3B4455;\n",
              "      --disabled-fill-color: #666;\n",
              "  }\n",
              "\n",
              "  .colab-df-quickchart {\n",
              "    background-color: var(--bg-color);\n",
              "    border: none;\n",
              "    border-radius: 50%;\n",
              "    cursor: pointer;\n",
              "    display: none;\n",
              "    fill: var(--fill-color);\n",
              "    height: 32px;\n",
              "    padding: 0;\n",
              "    width: 32px;\n",
              "  }\n",
              "\n",
              "  .colab-df-quickchart:hover {\n",
              "    background-color: var(--hover-bg-color);\n",
              "    box-shadow: 0 1px 2px rgba(60, 64, 67, 0.3), 0 1px 3px 1px rgba(60, 64, 67, 0.15);\n",
              "    fill: var(--button-hover-fill-color);\n",
              "  }\n",
              "\n",
              "  .colab-df-quickchart-complete:disabled,\n",
              "  .colab-df-quickchart-complete:disabled:hover {\n",
              "    background-color: var(--disabled-bg-color);\n",
              "    fill: var(--disabled-fill-color);\n",
              "    box-shadow: none;\n",
              "  }\n",
              "\n",
              "  .colab-df-spinner {\n",
              "    border: 2px solid var(--fill-color);\n",
              "    border-color: transparent;\n",
              "    border-bottom-color: var(--fill-color);\n",
              "    animation:\n",
              "      spin 1s steps(1) infinite;\n",
              "  }\n",
              "\n",
              "  @keyframes spin {\n",
              "    0% {\n",
              "      border-color: transparent;\n",
              "      border-bottom-color: var(--fill-color);\n",
              "      border-left-color: var(--fill-color);\n",
              "    }\n",
              "    20% {\n",
              "      border-color: transparent;\n",
              "      border-left-color: var(--fill-color);\n",
              "      border-top-color: var(--fill-color);\n",
              "    }\n",
              "    30% {\n",
              "      border-color: transparent;\n",
              "      border-left-color: var(--fill-color);\n",
              "      border-top-color: var(--fill-color);\n",
              "      border-right-color: var(--fill-color);\n",
              "    }\n",
              "    40% {\n",
              "      border-color: transparent;\n",
              "      border-right-color: var(--fill-color);\n",
              "      border-top-color: var(--fill-color);\n",
              "    }\n",
              "    60% {\n",
              "      border-color: transparent;\n",
              "      border-right-color: var(--fill-color);\n",
              "    }\n",
              "    80% {\n",
              "      border-color: transparent;\n",
              "      border-right-color: var(--fill-color);\n",
              "      border-bottom-color: var(--fill-color);\n",
              "    }\n",
              "    90% {\n",
              "      border-color: transparent;\n",
              "      border-bottom-color: var(--fill-color);\n",
              "    }\n",
              "  }\n",
              "</style>\n",
              "\n",
              "  <script>\n",
              "    async function quickchart(key) {\n",
              "      const quickchartButtonEl =\n",
              "        document.querySelector('#' + key + ' button');\n",
              "      quickchartButtonEl.disabled = true;  // To prevent multiple clicks.\n",
              "      quickchartButtonEl.classList.add('colab-df-spinner');\n",
              "      try {\n",
              "        const charts = await google.colab.kernel.invokeFunction(\n",
              "            'suggestCharts', [key], {});\n",
              "      } catch (error) {\n",
              "        console.error('Error during call to suggestCharts:', error);\n",
              "      }\n",
              "      quickchartButtonEl.classList.remove('colab-df-spinner');\n",
              "      quickchartButtonEl.classList.add('colab-df-quickchart-complete');\n",
              "    }\n",
              "    (() => {\n",
              "      let quickchartButtonEl =\n",
              "        document.querySelector('#df-8b0244ec-84a1-4ee8-a029-beb31c667847 button');\n",
              "      quickchartButtonEl.style.display =\n",
              "        google.colab.kernel.accessAllowed ? 'block' : 'none';\n",
              "    })();\n",
              "  </script>\n",
              "</div>\n",
              "\n",
              "  <div id=\"id_4b189bfa-6c86-4afe-bf73-8a845543b036\">\n",
              "    <style>\n",
              "      .colab-df-generate {\n",
              "        background-color: #E8F0FE;\n",
              "        border: none;\n",
              "        border-radius: 50%;\n",
              "        cursor: pointer;\n",
              "        display: none;\n",
              "        fill: #1967D2;\n",
              "        height: 32px;\n",
              "        padding: 0 0 0 0;\n",
              "        width: 32px;\n",
              "      }\n",
              "\n",
              "      .colab-df-generate:hover {\n",
              "        background-color: #E2EBFA;\n",
              "        box-shadow: 0px 1px 2px rgba(60, 64, 67, 0.3), 0px 1px 3px 1px rgba(60, 64, 67, 0.15);\n",
              "        fill: #174EA6;\n",
              "      }\n",
              "\n",
              "      [theme=dark] .colab-df-generate {\n",
              "        background-color: #3B4455;\n",
              "        fill: #D2E3FC;\n",
              "      }\n",
              "\n",
              "      [theme=dark] .colab-df-generate:hover {\n",
              "        background-color: #434B5C;\n",
              "        box-shadow: 0px 1px 3px 1px rgba(0, 0, 0, 0.15);\n",
              "        filter: drop-shadow(0px 1px 2px rgba(0, 0, 0, 0.3));\n",
              "        fill: #FFFFFF;\n",
              "      }\n",
              "    </style>\n",
              "    <button class=\"colab-df-generate\" onclick=\"generateWithVariable('df')\"\n",
              "            title=\"Generate code using this dataframe.\"\n",
              "            style=\"display:none;\">\n",
              "\n",
              "  <svg xmlns=\"http://www.w3.org/2000/svg\" height=\"24px\"viewBox=\"0 0 24 24\"\n",
              "       width=\"24px\">\n",
              "    <path d=\"M7,19H8.4L18.45,9,17,7.55,7,17.6ZM5,21V16.75L18.45,3.32a2,2,0,0,1,2.83,0l1.4,1.43a1.91,1.91,0,0,1,.58,1.4,1.91,1.91,0,0,1-.58,1.4L9.25,21ZM18.45,9,17,7.55Zm-12,3A5.31,5.31,0,0,0,4.9,8.1,5.31,5.31,0,0,0,1,6.5,5.31,5.31,0,0,0,4.9,4.9,5.31,5.31,0,0,0,6.5,1,5.31,5.31,0,0,0,8.1,4.9,5.31,5.31,0,0,0,12,6.5,5.46,5.46,0,0,0,6.5,12Z\"/>\n",
              "  </svg>\n",
              "    </button>\n",
              "    <script>\n",
              "      (() => {\n",
              "      const buttonEl =\n",
              "        document.querySelector('#id_4b189bfa-6c86-4afe-bf73-8a845543b036 button.colab-df-generate');\n",
              "      buttonEl.style.display =\n",
              "        google.colab.kernel.accessAllowed ? 'block' : 'none';\n",
              "\n",
              "      buttonEl.onclick = () => {\n",
              "        google.colab.notebook.generateWithVariable('df');\n",
              "      }\n",
              "      })();\n",
              "    </script>\n",
              "  </div>\n",
              "\n",
              "    </div>\n",
              "  </div>\n"
            ],
            "application/vnd.google.colaboratory.intrinsic+json": {
              "type": "dataframe",
              "variable_name": "df",
              "summary": "{\n  \"name\": \"df\",\n  \"rows\": 4,\n  \"fields\": [\n    {\n      \"column\": \"Name\",\n      \"properties\": {\n        \"dtype\": \"string\",\n        \"num_unique_values\": 4,\n        \"samples\": [\n          \"Bob\",\n          \"David\",\n          \"Alice\"\n        ],\n        \"semantic_type\": \"\",\n        \"description\": \"\"\n      }\n    },\n    {\n      \"column\": \"Age\",\n      \"properties\": {\n        \"dtype\": \"number\",\n        \"std\": 4,\n        \"min\": 25,\n        \"max\": 35,\n        \"num_unique_values\": 4,\n        \"samples\": [\n          30,\n          28,\n          25\n        ],\n        \"semantic_type\": \"\",\n        \"description\": \"\"\n      }\n    },\n    {\n      \"column\": \"City\",\n      \"properties\": {\n        \"dtype\": \"string\",\n        \"num_unique_values\": 4,\n        \"samples\": [\n          \"San Francisco\",\n          \"Chicago\",\n          \"New York\"\n        ],\n        \"semantic_type\": \"\",\n        \"description\": \"\"\n      }\n    }\n  ]\n}"
            }
          },
          "metadata": {},
          "execution_count": 10
        }
      ]
    },
    {
      "cell_type": "code",
      "source": [
        "print(df.loc[2])    # Access the second row by label"
      ],
      "metadata": {
        "colab": {
          "base_uri": "https://localhost:8080/"
        },
        "id": "8-cKM9vvPj-p",
        "outputId": "12b723dd-9e5c-4a42-b4e0-d9345fcb15fd"
      },
      "id": "8-cKM9vvPj-p",
      "execution_count": null,
      "outputs": [
        {
          "output_type": "stream",
          "name": "stdout",
          "text": [
            "Name        Charlie\n",
            "Age              35\n",
            "City    Los Angeles\n",
            "Name: 2, dtype: object\n"
          ]
        }
      ]
    },
    {
      "cell_type": "code",
      "source": [
        "# Access the third row by position\n",
        "print(df.iloc[2])"
      ],
      "metadata": {
        "colab": {
          "base_uri": "https://localhost:8080/"
        },
        "id": "bJbmO072PsZy",
        "outputId": "ee966854-da07-496d-acb6-ee05c642572e"
      },
      "id": "bJbmO072PsZy",
      "execution_count": null,
      "outputs": [
        {
          "output_type": "stream",
          "name": "stdout",
          "text": [
            "Name        Charlie\n",
            "Age              35\n",
            "City    Los Angeles\n",
            "Name: 2, dtype: object\n"
          ]
        }
      ]
    },
    {
      "cell_type": "code",
      "source": [
        "# Create a Series from a list\n",
        "data = [10, 20, 30, 40, 50]\n",
        "s = pd.Series(data)\n",
        "print(s)"
      ],
      "metadata": {
        "colab": {
          "base_uri": "https://localhost:8080/"
        },
        "id": "_ibF1G5HW-z-",
        "outputId": "52f76e0b-564d-4729-f491-180f15449c0d"
      },
      "id": "_ibF1G5HW-z-",
      "execution_count": null,
      "outputs": [
        {
          "output_type": "stream",
          "name": "stdout",
          "text": [
            "0    10\n",
            "1    20\n",
            "2    30\n",
            "3    40\n",
            "4    50\n",
            "dtype: int64\n"
          ]
        }
      ]
    },
    {
      "cell_type": "markdown",
      "source": [],
      "metadata": {
        "id": "BwVRkSaKJcxd"
      },
      "id": "BwVRkSaKJcxd"
    },
    {
      "cell_type": "code",
      "source": [
        "print(s.iloc[3]) # Access the element at position 3 (value 40)"
      ],
      "metadata": {
        "colab": {
          "base_uri": "https://localhost:8080/"
        },
        "id": "NfgxrUDp59Q9",
        "outputId": "6032f484-3ea5-4f45-aa23-42f84ff5c1b0"
      },
      "id": "NfgxrUDp59Q9",
      "execution_count": null,
      "outputs": [
        {
          "output_type": "stream",
          "name": "stdout",
          "text": [
            "40\n"
          ]
        }
      ]
    },
    {
      "cell_type": "code",
      "source": [
        "print(df[['Name', 'Age']])  # Select specific columns\n",
        "print(df[1:3])             # Select specific rows"
      ],
      "metadata": {
        "colab": {
          "base_uri": "https://localhost:8080/"
        },
        "id": "N1e82O8GRajA",
        "outputId": "3f7d3024-2d54-44a0-e14c-3263895c1c90"
      },
      "id": "N1e82O8GRajA",
      "execution_count": null,
      "outputs": [
        {
          "output_type": "stream",
          "name": "stdout",
          "text": [
            "      Name  Age\n",
            "0    Alice   25\n",
            "1      Bob   30\n",
            "2  Charlie   35\n",
            "3    David   28\n",
            "      Name  Age           City\n",
            "1      Bob   30  San Francisco\n",
            "2  Charlie   35    Los Angeles\n"
          ]
        }
      ]
    },
    {
      "cell_type": "code",
      "source": [
        "unique_dates = df['Age'].unique()\n",
        "print(unique_dates)"
      ],
      "metadata": {
        "colab": {
          "base_uri": "https://localhost:8080/"
        },
        "id": "PlfYR8_mRkj3",
        "outputId": "9674e662-b66f-444d-d956-53e31c2fbe27"
      },
      "id": "PlfYR8_mRkj3",
      "execution_count": null,
      "outputs": [
        {
          "output_type": "stream",
          "name": "stdout",
          "text": [
            "[25 30 35 28]\n"
          ]
        }
      ]
    },
    {
      "cell_type": "code",
      "source": [
        "high_above_102 = df[df['Age'] > 25]\n",
        "high_above_102"
      ],
      "metadata": {
        "colab": {
          "base_uri": "https://localhost:8080/",
          "height": 143
        },
        "id": "23E-O9d2R0GO",
        "outputId": "acd6f496-8a5f-4217-9149-8daddd83311c"
      },
      "id": "23E-O9d2R0GO",
      "execution_count": null,
      "outputs": [
        {
          "output_type": "execute_result",
          "data": {
            "text/plain": [
              "      Name  Age           City\n",
              "1      Bob   30  San Francisco\n",
              "2  Charlie   35    Los Angeles\n",
              "3    David   28        Chicago"
            ],
            "text/html": [
              "\n",
              "  <div id=\"df-da9a2f97-d031-420e-9f08-5fcabcd3b8dc\" class=\"colab-df-container\">\n",
              "    <div>\n",
              "<style scoped>\n",
              "    .dataframe tbody tr th:only-of-type {\n",
              "        vertical-align: middle;\n",
              "    }\n",
              "\n",
              "    .dataframe tbody tr th {\n",
              "        vertical-align: top;\n",
              "    }\n",
              "\n",
              "    .dataframe thead th {\n",
              "        text-align: right;\n",
              "    }\n",
              "</style>\n",
              "<table border=\"1\" class=\"dataframe\">\n",
              "  <thead>\n",
              "    <tr style=\"text-align: right;\">\n",
              "      <th></th>\n",
              "      <th>Name</th>\n",
              "      <th>Age</th>\n",
              "      <th>City</th>\n",
              "    </tr>\n",
              "  </thead>\n",
              "  <tbody>\n",
              "    <tr>\n",
              "      <th>1</th>\n",
              "      <td>Bob</td>\n",
              "      <td>30</td>\n",
              "      <td>San Francisco</td>\n",
              "    </tr>\n",
              "    <tr>\n",
              "      <th>2</th>\n",
              "      <td>Charlie</td>\n",
              "      <td>35</td>\n",
              "      <td>Los Angeles</td>\n",
              "    </tr>\n",
              "    <tr>\n",
              "      <th>3</th>\n",
              "      <td>David</td>\n",
              "      <td>28</td>\n",
              "      <td>Chicago</td>\n",
              "    </tr>\n",
              "  </tbody>\n",
              "</table>\n",
              "</div>\n",
              "    <div class=\"colab-df-buttons\">\n",
              "\n",
              "  <div class=\"colab-df-container\">\n",
              "    <button class=\"colab-df-convert\" onclick=\"convertToInteractive('df-da9a2f97-d031-420e-9f08-5fcabcd3b8dc')\"\n",
              "            title=\"Convert this dataframe to an interactive table.\"\n",
              "            style=\"display:none;\">\n",
              "\n",
              "  <svg xmlns=\"http://www.w3.org/2000/svg\" height=\"24px\" viewBox=\"0 -960 960 960\">\n",
              "    <path d=\"M120-120v-720h720v720H120Zm60-500h600v-160H180v160Zm220 220h160v-160H400v160Zm0 220h160v-160H400v160ZM180-400h160v-160H180v160Zm440 0h160v-160H620v160ZM180-180h160v-160H180v160Zm440 0h160v-160H620v160Z\"/>\n",
              "  </svg>\n",
              "    </button>\n",
              "\n",
              "  <style>\n",
              "    .colab-df-container {\n",
              "      display:flex;\n",
              "      gap: 12px;\n",
              "    }\n",
              "\n",
              "    .colab-df-convert {\n",
              "      background-color: #E8F0FE;\n",
              "      border: none;\n",
              "      border-radius: 50%;\n",
              "      cursor: pointer;\n",
              "      display: none;\n",
              "      fill: #1967D2;\n",
              "      height: 32px;\n",
              "      padding: 0 0 0 0;\n",
              "      width: 32px;\n",
              "    }\n",
              "\n",
              "    .colab-df-convert:hover {\n",
              "      background-color: #E2EBFA;\n",
              "      box-shadow: 0px 1px 2px rgba(60, 64, 67, 0.3), 0px 1px 3px 1px rgba(60, 64, 67, 0.15);\n",
              "      fill: #174EA6;\n",
              "    }\n",
              "\n",
              "    .colab-df-buttons div {\n",
              "      margin-bottom: 4px;\n",
              "    }\n",
              "\n",
              "    [theme=dark] .colab-df-convert {\n",
              "      background-color: #3B4455;\n",
              "      fill: #D2E3FC;\n",
              "    }\n",
              "\n",
              "    [theme=dark] .colab-df-convert:hover {\n",
              "      background-color: #434B5C;\n",
              "      box-shadow: 0px 1px 3px 1px rgba(0, 0, 0, 0.15);\n",
              "      filter: drop-shadow(0px 1px 2px rgba(0, 0, 0, 0.3));\n",
              "      fill: #FFFFFF;\n",
              "    }\n",
              "  </style>\n",
              "\n",
              "    <script>\n",
              "      const buttonEl =\n",
              "        document.querySelector('#df-da9a2f97-d031-420e-9f08-5fcabcd3b8dc button.colab-df-convert');\n",
              "      buttonEl.style.display =\n",
              "        google.colab.kernel.accessAllowed ? 'block' : 'none';\n",
              "\n",
              "      async function convertToInteractive(key) {\n",
              "        const element = document.querySelector('#df-da9a2f97-d031-420e-9f08-5fcabcd3b8dc');\n",
              "        const dataTable =\n",
              "          await google.colab.kernel.invokeFunction('convertToInteractive',\n",
              "                                                    [key], {});\n",
              "        if (!dataTable) return;\n",
              "\n",
              "        const docLinkHtml = 'Like what you see? Visit the ' +\n",
              "          '<a target=\"_blank\" href=https://colab.research.google.com/notebooks/data_table.ipynb>data table notebook</a>'\n",
              "          + ' to learn more about interactive tables.';\n",
              "        element.innerHTML = '';\n",
              "        dataTable['output_type'] = 'display_data';\n",
              "        await google.colab.output.renderOutput(dataTable, element);\n",
              "        const docLink = document.createElement('div');\n",
              "        docLink.innerHTML = docLinkHtml;\n",
              "        element.appendChild(docLink);\n",
              "      }\n",
              "    </script>\n",
              "  </div>\n",
              "\n",
              "\n",
              "<div id=\"df-15294d2a-37ff-4a06-a137-2cff1e693810\">\n",
              "  <button class=\"colab-df-quickchart\" onclick=\"quickchart('df-15294d2a-37ff-4a06-a137-2cff1e693810')\"\n",
              "            title=\"Suggest charts\"\n",
              "            style=\"display:none;\">\n",
              "\n",
              "<svg xmlns=\"http://www.w3.org/2000/svg\" height=\"24px\"viewBox=\"0 0 24 24\"\n",
              "     width=\"24px\">\n",
              "    <g>\n",
              "        <path d=\"M19 3H5c-1.1 0-2 .9-2 2v14c0 1.1.9 2 2 2h14c1.1 0 2-.9 2-2V5c0-1.1-.9-2-2-2zM9 17H7v-7h2v7zm4 0h-2V7h2v10zm4 0h-2v-4h2v4z\"/>\n",
              "    </g>\n",
              "</svg>\n",
              "  </button>\n",
              "\n",
              "<style>\n",
              "  .colab-df-quickchart {\n",
              "      --bg-color: #E8F0FE;\n",
              "      --fill-color: #1967D2;\n",
              "      --hover-bg-color: #E2EBFA;\n",
              "      --hover-fill-color: #174EA6;\n",
              "      --disabled-fill-color: #AAA;\n",
              "      --disabled-bg-color: #DDD;\n",
              "  }\n",
              "\n",
              "  [theme=dark] .colab-df-quickchart {\n",
              "      --bg-color: #3B4455;\n",
              "      --fill-color: #D2E3FC;\n",
              "      --hover-bg-color: #434B5C;\n",
              "      --hover-fill-color: #FFFFFF;\n",
              "      --disabled-bg-color: #3B4455;\n",
              "      --disabled-fill-color: #666;\n",
              "  }\n",
              "\n",
              "  .colab-df-quickchart {\n",
              "    background-color: var(--bg-color);\n",
              "    border: none;\n",
              "    border-radius: 50%;\n",
              "    cursor: pointer;\n",
              "    display: none;\n",
              "    fill: var(--fill-color);\n",
              "    height: 32px;\n",
              "    padding: 0;\n",
              "    width: 32px;\n",
              "  }\n",
              "\n",
              "  .colab-df-quickchart:hover {\n",
              "    background-color: var(--hover-bg-color);\n",
              "    box-shadow: 0 1px 2px rgba(60, 64, 67, 0.3), 0 1px 3px 1px rgba(60, 64, 67, 0.15);\n",
              "    fill: var(--button-hover-fill-color);\n",
              "  }\n",
              "\n",
              "  .colab-df-quickchart-complete:disabled,\n",
              "  .colab-df-quickchart-complete:disabled:hover {\n",
              "    background-color: var(--disabled-bg-color);\n",
              "    fill: var(--disabled-fill-color);\n",
              "    box-shadow: none;\n",
              "  }\n",
              "\n",
              "  .colab-df-spinner {\n",
              "    border: 2px solid var(--fill-color);\n",
              "    border-color: transparent;\n",
              "    border-bottom-color: var(--fill-color);\n",
              "    animation:\n",
              "      spin 1s steps(1) infinite;\n",
              "  }\n",
              "\n",
              "  @keyframes spin {\n",
              "    0% {\n",
              "      border-color: transparent;\n",
              "      border-bottom-color: var(--fill-color);\n",
              "      border-left-color: var(--fill-color);\n",
              "    }\n",
              "    20% {\n",
              "      border-color: transparent;\n",
              "      border-left-color: var(--fill-color);\n",
              "      border-top-color: var(--fill-color);\n",
              "    }\n",
              "    30% {\n",
              "      border-color: transparent;\n",
              "      border-left-color: var(--fill-color);\n",
              "      border-top-color: var(--fill-color);\n",
              "      border-right-color: var(--fill-color);\n",
              "    }\n",
              "    40% {\n",
              "      border-color: transparent;\n",
              "      border-right-color: var(--fill-color);\n",
              "      border-top-color: var(--fill-color);\n",
              "    }\n",
              "    60% {\n",
              "      border-color: transparent;\n",
              "      border-right-color: var(--fill-color);\n",
              "    }\n",
              "    80% {\n",
              "      border-color: transparent;\n",
              "      border-right-color: var(--fill-color);\n",
              "      border-bottom-color: var(--fill-color);\n",
              "    }\n",
              "    90% {\n",
              "      border-color: transparent;\n",
              "      border-bottom-color: var(--fill-color);\n",
              "    }\n",
              "  }\n",
              "</style>\n",
              "\n",
              "  <script>\n",
              "    async function quickchart(key) {\n",
              "      const quickchartButtonEl =\n",
              "        document.querySelector('#' + key + ' button');\n",
              "      quickchartButtonEl.disabled = true;  // To prevent multiple clicks.\n",
              "      quickchartButtonEl.classList.add('colab-df-spinner');\n",
              "      try {\n",
              "        const charts = await google.colab.kernel.invokeFunction(\n",
              "            'suggestCharts', [key], {});\n",
              "      } catch (error) {\n",
              "        console.error('Error during call to suggestCharts:', error);\n",
              "      }\n",
              "      quickchartButtonEl.classList.remove('colab-df-spinner');\n",
              "      quickchartButtonEl.classList.add('colab-df-quickchart-complete');\n",
              "    }\n",
              "    (() => {\n",
              "      let quickchartButtonEl =\n",
              "        document.querySelector('#df-15294d2a-37ff-4a06-a137-2cff1e693810 button');\n",
              "      quickchartButtonEl.style.display =\n",
              "        google.colab.kernel.accessAllowed ? 'block' : 'none';\n",
              "    })();\n",
              "  </script>\n",
              "</div>\n",
              "\n",
              "  <div id=\"id_d48f4342-b223-4b13-bffb-eb567570c432\">\n",
              "    <style>\n",
              "      .colab-df-generate {\n",
              "        background-color: #E8F0FE;\n",
              "        border: none;\n",
              "        border-radius: 50%;\n",
              "        cursor: pointer;\n",
              "        display: none;\n",
              "        fill: #1967D2;\n",
              "        height: 32px;\n",
              "        padding: 0 0 0 0;\n",
              "        width: 32px;\n",
              "      }\n",
              "\n",
              "      .colab-df-generate:hover {\n",
              "        background-color: #E2EBFA;\n",
              "        box-shadow: 0px 1px 2px rgba(60, 64, 67, 0.3), 0px 1px 3px 1px rgba(60, 64, 67, 0.15);\n",
              "        fill: #174EA6;\n",
              "      }\n",
              "\n",
              "      [theme=dark] .colab-df-generate {\n",
              "        background-color: #3B4455;\n",
              "        fill: #D2E3FC;\n",
              "      }\n",
              "\n",
              "      [theme=dark] .colab-df-generate:hover {\n",
              "        background-color: #434B5C;\n",
              "        box-shadow: 0px 1px 3px 1px rgba(0, 0, 0, 0.15);\n",
              "        filter: drop-shadow(0px 1px 2px rgba(0, 0, 0, 0.3));\n",
              "        fill: #FFFFFF;\n",
              "      }\n",
              "    </style>\n",
              "    <button class=\"colab-df-generate\" onclick=\"generateWithVariable('high_above_102')\"\n",
              "            title=\"Generate code using this dataframe.\"\n",
              "            style=\"display:none;\">\n",
              "\n",
              "  <svg xmlns=\"http://www.w3.org/2000/svg\" height=\"24px\"viewBox=\"0 0 24 24\"\n",
              "       width=\"24px\">\n",
              "    <path d=\"M7,19H8.4L18.45,9,17,7.55,7,17.6ZM5,21V16.75L18.45,3.32a2,2,0,0,1,2.83,0l1.4,1.43a1.91,1.91,0,0,1,.58,1.4,1.91,1.91,0,0,1-.58,1.4L9.25,21ZM18.45,9,17,7.55Zm-12,3A5.31,5.31,0,0,0,4.9,8.1,5.31,5.31,0,0,0,1,6.5,5.31,5.31,0,0,0,4.9,4.9,5.31,5.31,0,0,0,6.5,1,5.31,5.31,0,0,0,8.1,4.9,5.31,5.31,0,0,0,12,6.5,5.46,5.46,0,0,0,6.5,12Z\"/>\n",
              "  </svg>\n",
              "    </button>\n",
              "    <script>\n",
              "      (() => {\n",
              "      const buttonEl =\n",
              "        document.querySelector('#id_d48f4342-b223-4b13-bffb-eb567570c432 button.colab-df-generate');\n",
              "      buttonEl.style.display =\n",
              "        google.colab.kernel.accessAllowed ? 'block' : 'none';\n",
              "\n",
              "      buttonEl.onclick = () => {\n",
              "        google.colab.notebook.generateWithVariable('high_above_102');\n",
              "      }\n",
              "      })();\n",
              "    </script>\n",
              "  </div>\n",
              "\n",
              "    </div>\n",
              "  </div>\n"
            ],
            "application/vnd.google.colaboratory.intrinsic+json": {
              "type": "dataframe",
              "variable_name": "high_above_102",
              "summary": "{\n  \"name\": \"high_above_102\",\n  \"rows\": 3,\n  \"fields\": [\n    {\n      \"column\": \"Name\",\n      \"properties\": {\n        \"dtype\": \"string\",\n        \"num_unique_values\": 3,\n        \"samples\": [\n          \"Bob\",\n          \"Charlie\",\n          \"David\"\n        ],\n        \"semantic_type\": \"\",\n        \"description\": \"\"\n      }\n    },\n    {\n      \"column\": \"Age\",\n      \"properties\": {\n        \"dtype\": \"number\",\n        \"std\": 3,\n        \"min\": 28,\n        \"max\": 35,\n        \"num_unique_values\": 3,\n        \"samples\": [\n          30,\n          35,\n          28\n        ],\n        \"semantic_type\": \"\",\n        \"description\": \"\"\n      }\n    },\n    {\n      \"column\": \"City\",\n      \"properties\": {\n        \"dtype\": \"string\",\n        \"num_unique_values\": 3,\n        \"samples\": [\n          \"San Francisco\",\n          \"Los Angeles\",\n          \"Chicago\"\n        ],\n        \"semantic_type\": \"\",\n        \"description\": \"\"\n      }\n    }\n  ]\n}"
            }
          },
          "metadata": {},
          "execution_count": 19
        }
      ]
    },
    {
      "cell_type": "code",
      "source": [
        "df.to_csv('trading_data.csv', index=False)"
      ],
      "metadata": {
        "id": "ujndmaEAR7Y0"
      },
      "id": "ujndmaEAR7Y0",
      "execution_count": null,
      "outputs": []
    },
    {
      "cell_type": "markdown",
      "source": [
        "NUMPY"
      ],
      "metadata": {
        "id": "NdduEcMCv1gt"
      },
      "id": "NdduEcMCv1gt"
    },
    {
      "cell_type": "code",
      "source": [
        "import numpy as np\n",
        "# Checking NumPy Version\n",
        "print(np.__version__)"
      ],
      "metadata": {
        "colab": {
          "base_uri": "https://localhost:8080/"
        },
        "id": "qxGxS4j2nsJZ",
        "outputId": "d8a20ef3-bebd-478c-b952-9a54bb6eb513"
      },
      "id": "qxGxS4j2nsJZ",
      "execution_count": null,
      "outputs": [
        {
          "output_type": "stream",
          "name": "stdout",
          "text": [
            "1.25.2\n"
          ]
        }
      ]
    },
    {
      "cell_type": "code",
      "source": [
        "!pip3 install numpy --upgrade"
      ],
      "metadata": {
        "colab": {
          "base_uri": "https://localhost:8080/"
        },
        "id": "UfZlJbQ-qstC",
        "outputId": "95d1568c-73aa-4ae1-fdf7-e574c169fcba"
      },
      "id": "UfZlJbQ-qstC",
      "execution_count": null,
      "outputs": [
        {
          "output_type": "stream",
          "name": "stdout",
          "text": [
            "Requirement already satisfied: numpy in /usr/local/lib/python3.10/dist-packages (1.26.4)\n"
          ]
        }
      ]
    },
    {
      "cell_type": "code",
      "source": [
        "!pip install numpy --upgrade"
      ],
      "metadata": {
        "colab": {
          "base_uri": "https://localhost:8080/"
        },
        "id": "NyenxjLErFY7",
        "outputId": "5c7d6b5d-34b1-40a0-a0f9-73879154d5dd"
      },
      "id": "NyenxjLErFY7",
      "execution_count": null,
      "outputs": [
        {
          "output_type": "stream",
          "name": "stdout",
          "text": [
            "Requirement already satisfied: numpy in /usr/local/lib/python3.10/dist-packages (1.26.4)\n"
          ]
        }
      ]
    },
    {
      "cell_type": "code",
      "source": [
        "print(np.__version__)"
      ],
      "metadata": {
        "colab": {
          "base_uri": "https://localhost:8080/"
        },
        "id": "gMvH2G8oq2ji",
        "outputId": "93181f2a-9299-4f60-c385-7fd4ad8405bf"
      },
      "id": "gMvH2G8oq2ji",
      "execution_count": null,
      "outputs": [
        {
          "output_type": "stream",
          "name": "stdout",
          "text": [
            "1.25.2\n"
          ]
        }
      ]
    },
    {
      "cell_type": "code",
      "source": [
        "# SI NO USAMOS NUMPY VAMOS A TENER MUCHAS LÍNEAS DE CÓDIGO:\n",
        "u=[1,0]\n",
        "v=[0,1]\n",
        "z=[]\n",
        "for n,m in zip(u,v):\n",
        "  z.append(n+m)"
      ],
      "metadata": {
        "id": "Fs9UPULviOI6"
      },
      "id": "Fs9UPULviOI6",
      "execution_count": null,
      "outputs": []
    },
    {
      "cell_type": "code",
      "source": [
        "z"
      ],
      "metadata": {
        "colab": {
          "base_uri": "https://localhost:8080/"
        },
        "id": "3ngAeyV_AiQN",
        "outputId": "b5119fa0-847d-47f3-f542-02d4e3f7f5a2"
      },
      "id": "3ngAeyV_AiQN",
      "execution_count": null,
      "outputs": [
        {
          "output_type": "execute_result",
          "data": {
            "text/plain": [
              "[1, 1]"
            ]
          },
          "metadata": {},
          "execution_count": 3
        }
      ]
    },
    {
      "cell_type": "code",
      "source": [
        "import numpy as np\n",
        "g=np.array([2,5])\n",
        "l=np.array([0,1])\n",
        "f=[]\n",
        "f=g+l\n",
        "f"
      ],
      "metadata": {
        "colab": {
          "base_uri": "https://localhost:8080/"
        },
        "id": "1EFWlgJpsZ47",
        "outputId": "651ba748-5b45-4170-9b4f-c636ffedc0b6"
      },
      "id": "1EFWlgJpsZ47",
      "execution_count": null,
      "outputs": [
        {
          "output_type": "execute_result",
          "data": {
            "text/plain": [
              "array([2, 6])"
            ]
          },
          "metadata": {},
          "execution_count": 5
        }
      ]
    },
    {
      "cell_type": "code",
      "source": [
        "a=np.array([5,6])\n",
        "b=2*a\n",
        "b"
      ],
      "metadata": {
        "colab": {
          "base_uri": "https://localhost:8080/"
        },
        "id": "Z4QJEjq9tbyN",
        "outputId": "f4f25192-f8b7-47e5-99e0-1e8374dbdf63"
      },
      "id": "Z4QJEjq9tbyN",
      "execution_count": null,
      "outputs": [
        {
          "output_type": "execute_result",
          "data": {
            "text/plain": [
              "array([10, 12])"
            ]
          },
          "metadata": {},
          "execution_count": 8
        }
      ]
    },
    {
      "cell_type": "code",
      "source": [
        "# PRODUCT OF TWO NUMPY ARRAYS\n",
        "u=np.array([1,2])\n",
        "v=np.array([3,1])\n",
        "r=u*v\n",
        "r"
      ],
      "metadata": {
        "colab": {
          "base_uri": "https://localhost:8080/"
        },
        "id": "22ooaEOWuiHE",
        "outputId": "8f7d0b88-7002-44f9-d0c0-aabe1f38fde0"
      },
      "id": "22ooaEOWuiHE",
      "execution_count": null,
      "outputs": [
        {
          "output_type": "execute_result",
          "data": {
            "text/plain": [
              "array([3, 2])"
            ]
          },
          "metadata": {},
          "execution_count": 17
        }
      ]
    },
    {
      "cell_type": "code",
      "source": [
        "# how would you perform the dot product between the numpy arrays u and v?\n",
        "# PRODUCTO DE PUNTO (representa los similares que son dos vectores)\n",
        "# s=1*3+2*1=3+4=5\n",
        "s=np.dot(u,v)\n",
        "s"
      ],
      "metadata": {
        "colab": {
          "base_uri": "https://localhost:8080/"
        },
        "id": "QJ46mao2vfIx",
        "outputId": "3311da1c-f2eb-40f5-8459-f09733001a9e"
      },
      "id": "QJ46mao2vfIx",
      "execution_count": null,
      "outputs": [
        {
          "output_type": "execute_result",
          "data": {
            "text/plain": [
              "5"
            ]
          },
          "metadata": {},
          "execution_count": 18
        }
      ]
    },
    {
      "cell_type": "code",
      "source": [
        "# ADDING CONSTANT TO AN NUMPY ARRAY\n",
        "u=np.array([1,2,3-1])\n",
        "# añadimos un valor escalar a la matriz:\n",
        "v=u+1\n",
        "v # se produce broadcasting"
      ],
      "metadata": {
        "colab": {
          "base_uri": "https://localhost:8080/"
        },
        "id": "1ewR0IZGwt91",
        "outputId": "0764a21a-e617-453c-91f3-f143262469b4"
      },
      "id": "1ewR0IZGwt91",
      "execution_count": null,
      "outputs": [
        {
          "output_type": "execute_result",
          "data": {
            "text/plain": [
              "array([2, 3, 3])"
            ]
          },
          "metadata": {},
          "execution_count": 19
        }
      ]
    },
    {
      "cell_type": "code",
      "source": [
        "# Función universal, es un afunción que opera en matrices ND:\n",
        "mean_v=v.mean()\n",
        "mean_v"
      ],
      "metadata": {
        "colab": {
          "base_uri": "https://localhost:8080/"
        },
        "id": "dAksXNQixYoX",
        "outputId": "2edcaa22-2922-4360-ac94-5bd0dad7dd93"
      },
      "id": "dAksXNQixYoX",
      "execution_count": null,
      "outputs": [
        {
          "output_type": "execute_result",
          "data": {
            "text/plain": [
              "2.6666666666666665"
            ]
          },
          "metadata": {},
          "execution_count": 21
        }
      ]
    },
    {
      "cell_type": "code",
      "source": [
        "max_v=v.max()\n",
        "max_v"
      ],
      "metadata": {
        "colab": {
          "base_uri": "https://localhost:8080/"
        },
        "id": "GYGF2368x11Q",
        "outputId": "676f89c7-1d3c-4b09-ef22-34869a2516f4"
      },
      "id": "GYGF2368x11Q",
      "execution_count": null,
      "outputs": [
        {
          "output_type": "execute_result",
          "data": {
            "text/plain": [
              "3"
            ]
          },
          "metadata": {},
          "execution_count": 22
        }
      ]
    },
    {
      "cell_type": "code",
      "source": [
        "j=np.pi\n",
        "j"
      ],
      "metadata": {
        "colab": {
          "base_uri": "https://localhost:8080/"
        },
        "id": "nTTnGZZ90YbJ",
        "outputId": "dcc96ce0-b7f7-43b1-d618-e826b27cd5b1"
      },
      "id": "nTTnGZZ90YbJ",
      "execution_count": null,
      "outputs": [
        {
          "output_type": "execute_result",
          "data": {
            "text/plain": [
              "3.141592653589793"
            ]
          },
          "metadata": {},
          "execution_count": 23
        }
      ]
    },
    {
      "cell_type": "code",
      "source": [
        "x=np.array([0,np.pi*2,1000])\n",
        "x"
      ],
      "metadata": {
        "colab": {
          "base_uri": "https://localhost:8080/"
        },
        "id": "1pZo9lIH0imx",
        "outputId": "99098c9a-1669-443c-bf48-de472815b9cb"
      },
      "id": "1pZo9lIH0imx",
      "execution_count": null,
      "outputs": [
        {
          "output_type": "execute_result",
          "data": {
            "text/plain": [
              "array([   0.        ,    6.28318531, 1000.        ])"
            ]
          },
          "metadata": {},
          "execution_count": 32
        }
      ]
    },
    {
      "cell_type": "code",
      "source": [
        "x=np.linspace(0,np.pi*2,1000)\n",
        "x"
      ],
      "metadata": {
        "colab": {
          "base_uri": "https://localhost:8080/"
        },
        "id": "ApViGUTg7gPH",
        "outputId": "4c67c571-25d0-467a-ff68-4d755158a1c5"
      },
      "id": "ApViGUTg7gPH",
      "execution_count": null,
      "outputs": [
        {
          "output_type": "execute_result",
          "data": {
            "text/plain": [
              "array([0.        , 0.00628947, 0.01257895, 0.01886842, 0.0251579 ,\n",
              "       0.03144737, 0.03773685, 0.04402632, 0.0503158 , 0.05660527,\n",
              "       0.06289475, 0.06918422, 0.0754737 , 0.08176317, 0.08805265,\n",
              "       0.09434212, 0.1006316 , 0.10692107, 0.11321055, 0.11950002,\n",
              "       0.1257895 , 0.13207897, 0.13836845, 0.14465792, 0.15094739,\n",
              "       0.15723687, 0.16352634, 0.16981582, 0.17610529, 0.18239477,\n",
              "       0.18868424, 0.19497372, 0.20126319, 0.20755267, 0.21384214,\n",
              "       0.22013162, 0.22642109, 0.23271057, 0.23900004, 0.24528952,\n",
              "       0.25157899, 0.25786847, 0.26415794, 0.27044742, 0.27673689,\n",
              "       0.28302637, 0.28931584, 0.29560531, 0.30189479, 0.30818426,\n",
              "       0.31447374, 0.32076321, 0.32705269, 0.33334216, 0.33963164,\n",
              "       0.34592111, 0.35221059, 0.35850006, 0.36478954, 0.37107901,\n",
              "       0.37736849, 0.38365796, 0.38994744, 0.39623691, 0.40252639,\n",
              "       0.40881586, 0.41510534, 0.42139481, 0.42768429, 0.43397376,\n",
              "       0.44026323, 0.44655271, 0.45284218, 0.45913166, 0.46542113,\n",
              "       0.47171061, 0.47800008, 0.48428956, 0.49057903, 0.49686851,\n",
              "       0.50315798, 0.50944746, 0.51573693, 0.52202641, 0.52831588,\n",
              "       0.53460536, 0.54089483, 0.54718431, 0.55347378, 0.55976326,\n",
              "       0.56605273, 0.57234221, 0.57863168, 0.58492115, 0.59121063,\n",
              "       0.5975001 , 0.60378958, 0.61007905, 0.61636853, 0.622658  ,\n",
              "       0.62894748, 0.63523695, 0.64152643, 0.6478159 , 0.65410538,\n",
              "       0.66039485, 0.66668433, 0.6729738 , 0.67926328, 0.68555275,\n",
              "       0.69184223, 0.6981317 , 0.70442118, 0.71071065, 0.71700013,\n",
              "       0.7232896 , 0.72957907, 0.73586855, 0.74215802, 0.7484475 ,\n",
              "       0.75473697, 0.76102645, 0.76731592, 0.7736054 , 0.77989487,\n",
              "       0.78618435, 0.79247382, 0.7987633 , 0.80505277, 0.81134225,\n",
              "       0.81763172, 0.8239212 , 0.83021067, 0.83650015, 0.84278962,\n",
              "       0.8490791 , 0.85536857, 0.86165805, 0.86794752, 0.87423699,\n",
              "       0.88052647, 0.88681594, 0.89310542, 0.89939489, 0.90568437,\n",
              "       0.91197384, 0.91826332, 0.92455279, 0.93084227, 0.93713174,\n",
              "       0.94342122, 0.94971069, 0.95600017, 0.96228964, 0.96857912,\n",
              "       0.97486859, 0.98115807, 0.98744754, 0.99373702, 1.00002649,\n",
              "       1.00631597, 1.01260544, 1.01889491, 1.02518439, 1.03147386,\n",
              "       1.03776334, 1.04405281, 1.05034229, 1.05663176, 1.06292124,\n",
              "       1.06921071, 1.07550019, 1.08178966, 1.08807914, 1.09436861,\n",
              "       1.10065809, 1.10694756, 1.11323704, 1.11952651, 1.12581599,\n",
              "       1.13210546, 1.13839494, 1.14468441, 1.15097389, 1.15726336,\n",
              "       1.16355283, 1.16984231, 1.17613178, 1.18242126, 1.18871073,\n",
              "       1.19500021, 1.20128968, 1.20757916, 1.21386863, 1.22015811,\n",
              "       1.22644758, 1.23273706, 1.23902653, 1.24531601, 1.25160548,\n",
              "       1.25789496, 1.26418443, 1.27047391, 1.27676338, 1.28305286,\n",
              "       1.28934233, 1.29563181, 1.30192128, 1.30821075, 1.31450023,\n",
              "       1.3207897 , 1.32707918, 1.33336865, 1.33965813, 1.3459476 ,\n",
              "       1.35223708, 1.35852655, 1.36481603, 1.3711055 , 1.37739498,\n",
              "       1.38368445, 1.38997393, 1.3962634 , 1.40255288, 1.40884235,\n",
              "       1.41513183, 1.4214213 , 1.42771078, 1.43400025, 1.44028973,\n",
              "       1.4465792 , 1.45286867, 1.45915815, 1.46544762, 1.4717371 ,\n",
              "       1.47802657, 1.48431605, 1.49060552, 1.496895  , 1.50318447,\n",
              "       1.50947395, 1.51576342, 1.5220529 , 1.52834237, 1.53463185,\n",
              "       1.54092132, 1.5472108 , 1.55350027, 1.55978975, 1.56607922,\n",
              "       1.5723687 , 1.57865817, 1.58494765, 1.59123712, 1.59752659,\n",
              "       1.60381607, 1.61010554, 1.61639502, 1.62268449, 1.62897397,\n",
              "       1.63526344, 1.64155292, 1.64784239, 1.65413187, 1.66042134,\n",
              "       1.66671082, 1.67300029, 1.67928977, 1.68557924, 1.69186872,\n",
              "       1.69815819, 1.70444767, 1.71073714, 1.71702662, 1.72331609,\n",
              "       1.72960557, 1.73589504, 1.74218451, 1.74847399, 1.75476346,\n",
              "       1.76105294, 1.76734241, 1.77363189, 1.77992136, 1.78621084,\n",
              "       1.79250031, 1.79878979, 1.80507926, 1.81136874, 1.81765821,\n",
              "       1.82394769, 1.83023716, 1.83652664, 1.84281611, 1.84910559,\n",
              "       1.85539506, 1.86168454, 1.86797401, 1.87426349, 1.88055296,\n",
              "       1.88684243, 1.89313191, 1.89942138, 1.90571086, 1.91200033,\n",
              "       1.91828981, 1.92457928, 1.93086876, 1.93715823, 1.94344771,\n",
              "       1.94973718, 1.95602666, 1.96231613, 1.96860561, 1.97489508,\n",
              "       1.98118456, 1.98747403, 1.99376351, 2.00005298, 2.00634246,\n",
              "       2.01263193, 2.01892141, 2.02521088, 2.03150035, 2.03778983,\n",
              "       2.0440793 , 2.05036878, 2.05665825, 2.06294773, 2.0692372 ,\n",
              "       2.07552668, 2.08181615, 2.08810563, 2.0943951 , 2.10068458,\n",
              "       2.10697405, 2.11326353, 2.119553  , 2.12584248, 2.13213195,\n",
              "       2.13842143, 2.1447109 , 2.15100038, 2.15728985, 2.16357932,\n",
              "       2.1698688 , 2.17615827, 2.18244775, 2.18873722, 2.1950267 ,\n",
              "       2.20131617, 2.20760565, 2.21389512, 2.2201846 , 2.22647407,\n",
              "       2.23276355, 2.23905302, 2.2453425 , 2.25163197, 2.25792145,\n",
              "       2.26421092, 2.2705004 , 2.27678987, 2.28307935, 2.28936882,\n",
              "       2.2956583 , 2.30194777, 2.30823724, 2.31452672, 2.32081619,\n",
              "       2.32710567, 2.33339514, 2.33968462, 2.34597409, 2.35226357,\n",
              "       2.35855304, 2.36484252, 2.37113199, 2.37742147, 2.38371094,\n",
              "       2.39000042, 2.39628989, 2.40257937, 2.40886884, 2.41515832,\n",
              "       2.42144779, 2.42773727, 2.43402674, 2.44031622, 2.44660569,\n",
              "       2.45289516, 2.45918464, 2.46547411, 2.47176359, 2.47805306,\n",
              "       2.48434254, 2.49063201, 2.49692149, 2.50321096, 2.50950044,\n",
              "       2.51578991, 2.52207939, 2.52836886, 2.53465834, 2.54094781,\n",
              "       2.54723729, 2.55352676, 2.55981624, 2.56610571, 2.57239519,\n",
              "       2.57868466, 2.58497414, 2.59126361, 2.59755308, 2.60384256,\n",
              "       2.61013203, 2.61642151, 2.62271098, 2.62900046, 2.63528993,\n",
              "       2.64157941, 2.64786888, 2.65415836, 2.66044783, 2.66673731,\n",
              "       2.67302678, 2.67931626, 2.68560573, 2.69189521, 2.69818468,\n",
              "       2.70447416, 2.71076363, 2.71705311, 2.72334258, 2.72963206,\n",
              "       2.73592153, 2.742211  , 2.74850048, 2.75478995, 2.76107943,\n",
              "       2.7673689 , 2.77365838, 2.77994785, 2.78623733, 2.7925268 ,\n",
              "       2.79881628, 2.80510575, 2.81139523, 2.8176847 , 2.82397418,\n",
              "       2.83026365, 2.83655313, 2.8428426 , 2.84913208, 2.85542155,\n",
              "       2.86171103, 2.8680005 , 2.87428998, 2.88057945, 2.88686892,\n",
              "       2.8931584 , 2.89944787, 2.90573735, 2.91202682, 2.9183163 ,\n",
              "       2.92460577, 2.93089525, 2.93718472, 2.9434742 , 2.94976367,\n",
              "       2.95605315, 2.96234262, 2.9686321 , 2.97492157, 2.98121105,\n",
              "       2.98750052, 2.99379   , 3.00007947, 3.00636895, 3.01265842,\n",
              "       3.0189479 , 3.02523737, 3.03152684, 3.03781632, 3.04410579,\n",
              "       3.05039527, 3.05668474, 3.06297422, 3.06926369, 3.07555317,\n",
              "       3.08184264, 3.08813212, 3.09442159, 3.10071107, 3.10700054,\n",
              "       3.11329002, 3.11957949, 3.12586897, 3.13215844, 3.13844792,\n",
              "       3.14473739, 3.15102687, 3.15731634, 3.16360582, 3.16989529,\n",
              "       3.17618476, 3.18247424, 3.18876371, 3.19505319, 3.20134266,\n",
              "       3.20763214, 3.21392161, 3.22021109, 3.22650056, 3.23279004,\n",
              "       3.23907951, 3.24536899, 3.25165846, 3.25794794, 3.26423741,\n",
              "       3.27052689, 3.27681636, 3.28310584, 3.28939531, 3.29568479,\n",
              "       3.30197426, 3.30826374, 3.31455321, 3.32084268, 3.32713216,\n",
              "       3.33342163, 3.33971111, 3.34600058, 3.35229006, 3.35857953,\n",
              "       3.36486901, 3.37115848, 3.37744796, 3.38373743, 3.39002691,\n",
              "       3.39631638, 3.40260586, 3.40889533, 3.41518481, 3.42147428,\n",
              "       3.42776376, 3.43405323, 3.44034271, 3.44663218, 3.45292166,\n",
              "       3.45921113, 3.4655006 , 3.47179008, 3.47807955, 3.48436903,\n",
              "       3.4906585 , 3.49694798, 3.50323745, 3.50952693, 3.5158164 ,\n",
              "       3.52210588, 3.52839535, 3.53468483, 3.5409743 , 3.54726378,\n",
              "       3.55355325, 3.55984273, 3.5661322 , 3.57242168, 3.57871115,\n",
              "       3.58500063, 3.5912901 , 3.59757958, 3.60386905, 3.61015852,\n",
              "       3.616448  , 3.62273747, 3.62902695, 3.63531642, 3.6416059 ,\n",
              "       3.64789537, 3.65418485, 3.66047432, 3.6667638 , 3.67305327,\n",
              "       3.67934275, 3.68563222, 3.6919217 , 3.69821117, 3.70450065,\n",
              "       3.71079012, 3.7170796 , 3.72336907, 3.72965855, 3.73594802,\n",
              "       3.7422375 , 3.74852697, 3.75481644, 3.76110592, 3.76739539,\n",
              "       3.77368487, 3.77997434, 3.78626382, 3.79255329, 3.79884277,\n",
              "       3.80513224, 3.81142172, 3.81771119, 3.82400067, 3.83029014,\n",
              "       3.83657962, 3.84286909, 3.84915857, 3.85544804, 3.86173752,\n",
              "       3.86802699, 3.87431647, 3.88060594, 3.88689542, 3.89318489,\n",
              "       3.89947436, 3.90576384, 3.91205331, 3.91834279, 3.92463226,\n",
              "       3.93092174, 3.93721121, 3.94350069, 3.94979016, 3.95607964,\n",
              "       3.96236911, 3.96865859, 3.97494806, 3.98123754, 3.98752701,\n",
              "       3.99381649, 4.00010596, 4.00639544, 4.01268491, 4.01897439,\n",
              "       4.02526386, 4.03155334, 4.03784281, 4.04413228, 4.05042176,\n",
              "       4.05671123, 4.06300071, 4.06929018, 4.07557966, 4.08186913,\n",
              "       4.08815861, 4.09444808, 4.10073756, 4.10702703, 4.11331651,\n",
              "       4.11960598, 4.12589546, 4.13218493, 4.13847441, 4.14476388,\n",
              "       4.15105336, 4.15734283, 4.16363231, 4.16992178, 4.17621126,\n",
              "       4.18250073, 4.1887902 , 4.19507968, 4.20136915, 4.20765863,\n",
              "       4.2139481 , 4.22023758, 4.22652705, 4.23281653, 4.239106  ,\n",
              "       4.24539548, 4.25168495, 4.25797443, 4.2642639 , 4.27055338,\n",
              "       4.27684285, 4.28313233, 4.2894218 , 4.29571128, 4.30200075,\n",
              "       4.30829023, 4.3145797 , 4.32086918, 4.32715865, 4.33344812,\n",
              "       4.3397376 , 4.34602707, 4.35231655, 4.35860602, 4.3648955 ,\n",
              "       4.37118497, 4.37747445, 4.38376392, 4.3900534 , 4.39634287,\n",
              "       4.40263235, 4.40892182, 4.4152113 , 4.42150077, 4.42779025,\n",
              "       4.43407972, 4.4403692 , 4.44665867, 4.45294815, 4.45923762,\n",
              "       4.4655271 , 4.47181657, 4.47810604, 4.48439552, 4.49068499,\n",
              "       4.49697447, 4.50326394, 4.50955342, 4.51584289, 4.52213237,\n",
              "       4.52842184, 4.53471132, 4.54100079, 4.54729027, 4.55357974,\n",
              "       4.55986922, 4.56615869, 4.57244817, 4.57873764, 4.58502712,\n",
              "       4.59131659, 4.59760607, 4.60389554, 4.61018502, 4.61647449,\n",
              "       4.62276396, 4.62905344, 4.63534291, 4.64163239, 4.64792186,\n",
              "       4.65421134, 4.66050081, 4.66679029, 4.67307976, 4.67936924,\n",
              "       4.68565871, 4.69194819, 4.69823766, 4.70452714, 4.71081661,\n",
              "       4.71710609, 4.72339556, 4.72968504, 4.73597451, 4.74226399,\n",
              "       4.74855346, 4.75484294, 4.76113241, 4.76742188, 4.77371136,\n",
              "       4.78000083, 4.78629031, 4.79257978, 4.79886926, 4.80515873,\n",
              "       4.81144821, 4.81773768, 4.82402716, 4.83031663, 4.83660611,\n",
              "       4.84289558, 4.84918506, 4.85547453, 4.86176401, 4.86805348,\n",
              "       4.87434296, 4.88063243, 4.88692191, 4.89321138, 4.89950086,\n",
              "       4.90579033, 4.9120798 , 4.91836928, 4.92465875, 4.93094823,\n",
              "       4.9372377 , 4.94352718, 4.94981665, 4.95610613, 4.9623956 ,\n",
              "       4.96868508, 4.97497455, 4.98126403, 4.9875535 , 4.99384298,\n",
              "       5.00013245, 5.00642193, 5.0127114 , 5.01900088, 5.02529035,\n",
              "       5.03157983, 5.0378693 , 5.04415878, 5.05044825, 5.05673772,\n",
              "       5.0630272 , 5.06931667, 5.07560615, 5.08189562, 5.0881851 ,\n",
              "       5.09447457, 5.10076405, 5.10705352, 5.113343  , 5.11963247,\n",
              "       5.12592195, 5.13221142, 5.1385009 , 5.14479037, 5.15107985,\n",
              "       5.15736932, 5.1636588 , 5.16994827, 5.17623775, 5.18252722,\n",
              "       5.1888167 , 5.19510617, 5.20139564, 5.20768512, 5.21397459,\n",
              "       5.22026407, 5.22655354, 5.23284302, 5.23913249, 5.24542197,\n",
              "       5.25171144, 5.25800092, 5.26429039, 5.27057987, 5.27686934,\n",
              "       5.28315882, 5.28944829, 5.29573777, 5.30202724, 5.30831672,\n",
              "       5.31460619, 5.32089567, 5.32718514, 5.33347462, 5.33976409,\n",
              "       5.34605356, 5.35234304, 5.35863251, 5.36492199, 5.37121146,\n",
              "       5.37750094, 5.38379041, 5.39007989, 5.39636936, 5.40265884,\n",
              "       5.40894831, 5.41523779, 5.42152726, 5.42781674, 5.43410621,\n",
              "       5.44039569, 5.44668516, 5.45297464, 5.45926411, 5.46555359,\n",
              "       5.47184306, 5.47813254, 5.48442201, 5.49071148, 5.49700096,\n",
              "       5.50329043, 5.50957991, 5.51586938, 5.52215886, 5.52844833,\n",
              "       5.53473781, 5.54102728, 5.54731676, 5.55360623, 5.55989571,\n",
              "       5.56618518, 5.57247466, 5.57876413, 5.58505361, 5.59134308,\n",
              "       5.59763256, 5.60392203, 5.61021151, 5.61650098, 5.62279046,\n",
              "       5.62907993, 5.6353694 , 5.64165888, 5.64794835, 5.65423783,\n",
              "       5.6605273 , 5.66681678, 5.67310625, 5.67939573, 5.6856852 ,\n",
              "       5.69197468, 5.69826415, 5.70455363, 5.7108431 , 5.71713258,\n",
              "       5.72342205, 5.72971153, 5.736001  , 5.74229048, 5.74857995,\n",
              "       5.75486943, 5.7611589 , 5.76744838, 5.77373785, 5.78002732,\n",
              "       5.7863168 , 5.79260627, 5.79889575, 5.80518522, 5.8114747 ,\n",
              "       5.81776417, 5.82405365, 5.83034312, 5.8366326 , 5.84292207,\n",
              "       5.84921155, 5.85550102, 5.8617905 , 5.86807997, 5.87436945,\n",
              "       5.88065892, 5.8869484 , 5.89323787, 5.89952735, 5.90581682,\n",
              "       5.9121063 , 5.91839577, 5.92468524, 5.93097472, 5.93726419,\n",
              "       5.94355367, 5.94984314, 5.95613262, 5.96242209, 5.96871157,\n",
              "       5.97500104, 5.98129052, 5.98757999, 5.99386947, 6.00015894,\n",
              "       6.00644842, 6.01273789, 6.01902737, 6.02531684, 6.03160632,\n",
              "       6.03789579, 6.04418527, 6.05047474, 6.05676422, 6.06305369,\n",
              "       6.06934316, 6.07563264, 6.08192211, 6.08821159, 6.09450106,\n",
              "       6.10079054, 6.10708001, 6.11336949, 6.11965896, 6.12594844,\n",
              "       6.13223791, 6.13852739, 6.14481686, 6.15110634, 6.15739581,\n",
              "       6.16368529, 6.16997476, 6.17626424, 6.18255371, 6.18884319,\n",
              "       6.19513266, 6.20142214, 6.20771161, 6.21400108, 6.22029056,\n",
              "       6.22658003, 6.23286951, 6.23915898, 6.24544846, 6.25173793,\n",
              "       6.25802741, 6.26431688, 6.27060636, 6.27689583, 6.28318531])"
            ]
          },
          "metadata": {},
          "execution_count": 36
        }
      ]
    },
    {
      "cell_type": "code",
      "source": [
        "y=np.sin(x) # aplica seno a cada elemento\n",
        "y"
      ],
      "metadata": {
        "colab": {
          "base_uri": "https://localhost:8080/"
        },
        "id": "taPZbc4k07pV",
        "outputId": "55fa57b2-2e3c-40a4-ea24-b617446fa8f9"
      },
      "id": "taPZbc4k07pV",
      "execution_count": null,
      "outputs": [
        {
          "output_type": "execute_result",
          "data": {
            "text/plain": [
              "array([ 0.00000000e+00,  6.28943332e-03,  1.25786178e-02,  1.88673048e-02,\n",
              "        2.51552454e-02,  3.14421909e-02,  3.77278927e-02,  4.40121020e-02,\n",
              "        5.02945704e-02,  5.65750492e-02,  6.28532900e-02,  6.91290446e-02,\n",
              "        7.54020646e-02,  8.16721019e-02,  8.79389084e-02,  9.42022363e-02,\n",
              "        1.00461838e-01,  1.06717465e-01,  1.12968871e-01,  1.19215809e-01,\n",
              "        1.25458030e-01,  1.31695289e-01,  1.37927338e-01,  1.44153931e-01,\n",
              "        1.50374822e-01,  1.56589764e-01,  1.62798512e-01,  1.69000820e-01,\n",
              "        1.75196443e-01,  1.81385136e-01,  1.87566653e-01,  1.93740751e-01,\n",
              "        1.99907185e-01,  2.06065711e-01,  2.12216086e-01,  2.18358066e-01,\n",
              "        2.24491409e-01,  2.30615871e-01,  2.36731210e-01,  2.42837185e-01,\n",
              "        2.48933554e-01,  2.55020076e-01,  2.61096510e-01,  2.67162616e-01,\n",
              "        2.73218154e-01,  2.79262883e-01,  2.85296566e-01,  2.91318963e-01,\n",
              "        2.97329837e-01,  3.03328948e-01,  3.09316061e-01,  3.15290939e-01,\n",
              "        3.21253344e-01,  3.27203041e-01,  3.33139795e-01,  3.39063370e-01,\n",
              "        3.44973534e-01,  3.50870051e-01,  3.56752688e-01,  3.62621214e-01,\n",
              "        3.68475395e-01,  3.74315000e-01,  3.80139798e-01,  3.85949559e-01,\n",
              "        3.91744053e-01,  3.97523050e-01,  4.03286322e-01,  4.09033642e-01,\n",
              "        4.14764781e-01,  4.20479513e-01,  4.26177612e-01,  4.31858853e-01,\n",
              "        4.37523010e-01,  4.43169861e-01,  4.48799180e-01,  4.54410746e-01,\n",
              "        4.60004337e-01,  4.65579732e-01,  4.71136709e-01,  4.76675049e-01,\n",
              "        4.82194534e-01,  4.87694944e-01,  4.93176062e-01,  4.98637671e-01,\n",
              "        5.04079556e-01,  5.09501500e-01,  5.14903290e-01,  5.20284712e-01,\n",
              "        5.25645553e-01,  5.30985600e-01,  5.36304643e-01,  5.41602472e-01,\n",
              "        5.46878875e-01,  5.52133646e-01,  5.57366576e-01,  5.62577458e-01,\n",
              "        5.67766086e-01,  5.72932255e-01,  5.78075760e-01,  5.83196397e-01,\n",
              "        5.88293965e-01,  5.93368262e-01,  5.98419086e-01,  6.03446239e-01,\n",
              "        6.08449521e-01,  6.13428734e-01,  6.18383682e-01,  6.23314168e-01,\n",
              "        6.28219997e-01,  6.33100976e-01,  6.37956911e-01,  6.42787610e-01,\n",
              "        6.47592882e-01,  6.52372537e-01,  6.57126385e-01,  6.61854240e-01,\n",
              "        6.66555913e-01,  6.71231219e-01,  6.75879973e-01,  6.80501991e-01,\n",
              "        6.85097090e-01,  6.89665089e-01,  6.94205806e-01,  6.98719062e-01,\n",
              "        7.03204679e-01,  7.07662479e-01,  7.12092285e-01,  7.16493923e-01,\n",
              "        7.20867219e-01,  7.25211999e-01,  7.29528091e-01,  7.33815325e-01,\n",
              "        7.38073532e-01,  7.42302542e-01,  7.46502188e-01,  7.50672305e-01,\n",
              "        7.54812728e-01,  7.58923291e-01,  7.63003834e-01,  7.67054195e-01,\n",
              "        7.71074213e-01,  7.75063729e-01,  7.79022586e-01,  7.82950626e-01,\n",
              "        7.86847695e-01,  7.90713639e-01,  7.94548304e-01,  7.98351539e-01,\n",
              "        8.02123193e-01,  8.05863117e-01,  8.09571163e-01,  8.13247185e-01,\n",
              "        8.16891037e-01,  8.20502575e-01,  8.24081656e-01,  8.27628139e-01,\n",
              "        8.31141882e-01,  8.34622748e-01,  8.38070599e-01,  8.41485297e-01,\n",
              "        8.44866709e-01,  8.48214700e-01,  8.51529138e-01,  8.54809891e-01,\n",
              "        8.58056831e-01,  8.61269828e-01,  8.64448755e-01,  8.67593488e-01,\n",
              "        8.70703900e-01,  8.73779870e-01,  8.76821275e-01,  8.79827996e-01,\n",
              "        8.82799913e-01,  8.85736908e-01,  8.88638867e-01,  8.91505673e-01,\n",
              "        8.94337213e-01,  8.97133376e-01,  8.99894051e-01,  9.02619128e-01,\n",
              "        9.05308500e-01,  9.07962060e-01,  9.10579704e-01,  9.13161327e-01,\n",
              "        9.15706829e-01,  9.18216107e-01,  9.20689063e-01,  9.23125599e-01,\n",
              "        9.25525619e-01,  9.27889027e-01,  9.30215731e-01,  9.32505637e-01,\n",
              "        9.34758657e-01,  9.36974699e-01,  9.39153678e-01,  9.41295506e-01,\n",
              "        9.43400098e-01,  9.45467373e-01,  9.47497247e-01,  9.49489640e-01,\n",
              "        9.51444475e-01,  9.53361672e-01,  9.55241158e-01,  9.57082856e-01,\n",
              "        9.58886695e-01,  9.60652602e-01,  9.62380509e-01,  9.64070347e-01,\n",
              "        9.65722048e-01,  9.67335548e-01,  9.68910783e-01,  9.70447691e-01,\n",
              "        9.71946209e-01,  9.73406281e-01,  9.74827847e-01,  9.76210851e-01,\n",
              "        9.77555239e-01,  9.78860957e-01,  9.80127955e-01,  9.81356181e-01,\n",
              "        9.82545587e-01,  9.83696126e-01,  9.84807753e-01,  9.85880423e-01,\n",
              "        9.86914095e-01,  9.87908727e-01,  9.88864280e-01,  9.89780716e-01,\n",
              "        9.90657999e-01,  9.91496094e-01,  9.92294968e-01,  9.93054589e-01,\n",
              "        9.93774928e-01,  9.94455956e-01,  9.95097645e-01,  9.95699972e-01,\n",
              "        9.96262911e-01,  9.96786440e-01,  9.97270539e-01,  9.97715189e-01,\n",
              "        9.98120372e-01,  9.98486072e-01,  9.98812274e-01,  9.99098966e-01,\n",
              "        9.99346136e-01,  9.99553775e-01,  9.99721874e-01,  9.99850427e-01,\n",
              "        9.99939428e-01,  9.99988874e-01,  9.99998764e-01,  9.99969096e-01,\n",
              "        9.99899872e-01,  9.99791094e-01,  9.99642768e-01,  9.99454898e-01,\n",
              "        9.99227492e-01,  9.98960560e-01,  9.98654111e-01,  9.98308158e-01,\n",
              "        9.97922715e-01,  9.97497797e-01,  9.97033420e-01,  9.96529603e-01,\n",
              "        9.95986366e-01,  9.95403731e-01,  9.94781719e-01,  9.94120357e-01,\n",
              "        9.93419671e-01,  9.92679687e-01,  9.91900435e-01,  9.91081947e-01,\n",
              "        9.90224253e-01,  9.89327390e-01,  9.88391391e-01,  9.87416293e-01,\n",
              "        9.86402137e-01,  9.85348960e-01,  9.84256806e-01,  9.83125718e-01,\n",
              "        9.81955739e-01,  9.80746917e-01,  9.79499299e-01,  9.78212935e-01,\n",
              "        9.76887875e-01,  9.75524172e-01,  9.74121880e-01,  9.72681055e-01,\n",
              "        9.71201752e-01,  9.69684032e-01,  9.68127953e-01,  9.66533578e-01,\n",
              "        9.64900969e-01,  9.63230191e-01,  9.61521310e-01,  9.59774394e-01,\n",
              "        9.57989512e-01,  9.56166735e-01,  9.54306134e-01,  9.52407783e-01,\n",
              "        9.50471757e-01,  9.48498134e-01,  9.46486990e-01,  9.44438405e-01,\n",
              "        9.42352462e-01,  9.40229241e-01,  9.38068827e-01,  9.35871306e-01,\n",
              "        9.33636764e-01,  9.31365289e-01,  9.29056973e-01,  9.26711905e-01,\n",
              "        9.24330180e-01,  9.21911890e-01,  9.19457131e-01,  9.16966002e-01,\n",
              "        9.14438599e-01,  9.11875024e-01,  9.09275378e-01,  9.06639763e-01,\n",
              "        9.03968283e-01,  9.01261046e-01,  8.98518156e-01,  8.95739724e-01,\n",
              "        8.92925858e-01,  8.90076671e-01,  8.87192274e-01,  8.84272783e-01,\n",
              "        8.81318312e-01,  8.78328979e-01,  8.75304901e-01,  8.72246198e-01,\n",
              "        8.69152992e-01,  8.66025404e-01,  8.62863558e-01,  8.59667580e-01,\n",
              "        8.56437596e-01,  8.53173733e-01,  8.49876121e-01,  8.46544890e-01,\n",
              "        8.43180172e-01,  8.39782100e-01,  8.36350809e-01,  8.32886434e-01,\n",
              "        8.29389112e-01,  8.25858981e-01,  8.22296182e-01,  8.18700854e-01,\n",
              "        8.15073141e-01,  8.11413186e-01,  8.07721134e-01,  8.03997130e-01,\n",
              "        8.00241323e-01,  7.96453860e-01,  7.92634891e-01,  7.88784567e-01,\n",
              "        7.84903042e-01,  7.80990468e-01,  7.77046999e-01,  7.73072793e-01,\n",
              "        7.69068007e-01,  7.65032797e-01,  7.60967326e-01,  7.56871752e-01,\n",
              "        7.52746238e-01,  7.48590948e-01,  7.44406046e-01,  7.40191697e-01,\n",
              "        7.35948067e-01,  7.31675326e-01,  7.27373642e-01,  7.23043184e-01,\n",
              "        7.18684125e-01,  7.14296636e-01,  7.09880892e-01,  7.05437067e-01,\n",
              "        7.00965337e-01,  6.96465878e-01,  6.91938869e-01,  6.87384489e-01,\n",
              "        6.82802917e-01,  6.78194336e-01,  6.73558927e-01,  6.68896874e-01,\n",
              "        6.64208361e-01,  6.59493574e-01,  6.54752698e-01,  6.49985923e-01,\n",
              "        6.45193436e-01,  6.40375427e-01,  6.35532086e-01,  6.30663605e-01,\n",
              "        6.25770177e-01,  6.20851995e-01,  6.15909254e-01,  6.10942149e-01,\n",
              "        6.05950876e-01,  6.00935634e-01,  5.95896621e-01,  5.90834035e-01,\n",
              "        5.85748078e-01,  5.80638949e-01,  5.75506853e-01,  5.70351991e-01,\n",
              "        5.65174567e-01,  5.59974786e-01,  5.54752854e-01,  5.49508978e-01,\n",
              "        5.44243365e-01,  5.38956222e-01,  5.33647760e-01,  5.28318189e-01,\n",
              "        5.22967718e-01,  5.17596560e-01,  5.12204928e-01,  5.06793034e-01,\n",
              "        5.01361093e-01,  4.95909319e-01,  4.90437928e-01,  4.84947137e-01,\n",
              "        4.79437162e-01,  4.73908223e-01,  4.68360536e-01,  4.62794323e-01,\n",
              "        4.57209803e-01,  4.51607196e-01,  4.45986726e-01,  4.40348613e-01,\n",
              "        4.34693081e-01,  4.29020354e-01,  4.23330656e-01,  4.17624212e-01,\n",
              "        4.11901248e-01,  4.06161991e-01,  4.00406666e-01,  3.94635503e-01,\n",
              "        3.88848729e-01,  3.83046573e-01,  3.77229264e-01,  3.71397034e-01,\n",
              "        3.65550112e-01,  3.59688730e-01,  3.53813119e-01,  3.47923513e-01,\n",
              "        3.42020143e-01,  3.36103245e-01,  3.30173050e-01,  3.24229795e-01,\n",
              "        3.18273715e-01,  3.12305044e-01,  3.06324020e-01,  3.00330878e-01,\n",
              "        2.94325855e-01,  2.88309190e-01,  2.82281120e-01,  2.76241884e-01,\n",
              "        2.70191721e-01,  2.64130869e-01,  2.58059569e-01,  2.51978061e-01,\n",
              "        2.45886586e-01,  2.39785383e-01,  2.33674696e-01,  2.27554765e-01,\n",
              "        2.21425832e-01,  2.15288141e-01,  2.09141933e-01,  2.02987452e-01,\n",
              "        1.96824941e-01,  1.90654645e-01,  1.84476807e-01,  1.78291671e-01,\n",
              "        1.72099483e-01,  1.65900487e-01,  1.59694928e-01,  1.53483052e-01,\n",
              "        1.47265105e-01,  1.41041332e-01,  1.34811980e-01,  1.28577295e-01,\n",
              "        1.22337524e-01,  1.16092914e-01,  1.09843712e-01,  1.03590164e-01,\n",
              "        9.73325184e-02,  9.10710227e-02,  8.48059245e-02,  7.85374716e-02,\n",
              "        7.22659119e-02,  6.59914936e-02,  5.97144649e-02,  5.34350740e-02,\n",
              "        4.71535694e-02,  4.08701994e-02,  3.45852128e-02,  2.82988581e-02,\n",
              "        2.20113839e-02,  1.57230391e-02,  9.43407223e-03,  3.14473221e-03,\n",
              "       -3.14473221e-03, -9.43407223e-03, -1.57230391e-02, -2.20113839e-02,\n",
              "       -2.82988581e-02, -3.45852128e-02, -4.08701994e-02, -4.71535694e-02,\n",
              "       -5.34350740e-02, -5.97144649e-02, -6.59914936e-02, -7.22659119e-02,\n",
              "       -7.85374716e-02, -8.48059245e-02, -9.10710227e-02, -9.73325184e-02,\n",
              "       -1.03590164e-01, -1.09843712e-01, -1.16092914e-01, -1.22337524e-01,\n",
              "       -1.28577295e-01, -1.34811980e-01, -1.41041332e-01, -1.47265105e-01,\n",
              "       -1.53483052e-01, -1.59694928e-01, -1.65900487e-01, -1.72099483e-01,\n",
              "       -1.78291671e-01, -1.84476807e-01, -1.90654645e-01, -1.96824941e-01,\n",
              "       -2.02987452e-01, -2.09141933e-01, -2.15288141e-01, -2.21425832e-01,\n",
              "       -2.27554765e-01, -2.33674696e-01, -2.39785383e-01, -2.45886586e-01,\n",
              "       -2.51978061e-01, -2.58059569e-01, -2.64130869e-01, -2.70191721e-01,\n",
              "       -2.76241884e-01, -2.82281120e-01, -2.88309190e-01, -2.94325855e-01,\n",
              "       -3.00330878e-01, -3.06324020e-01, -3.12305044e-01, -3.18273715e-01,\n",
              "       -3.24229795e-01, -3.30173050e-01, -3.36103245e-01, -3.42020143e-01,\n",
              "       -3.47923513e-01, -3.53813119e-01, -3.59688730e-01, -3.65550112e-01,\n",
              "       -3.71397034e-01, -3.77229264e-01, -3.83046573e-01, -3.88848729e-01,\n",
              "       -3.94635503e-01, -4.00406666e-01, -4.06161991e-01, -4.11901248e-01,\n",
              "       -4.17624212e-01, -4.23330656e-01, -4.29020354e-01, -4.34693081e-01,\n",
              "       -4.40348613e-01, -4.45986726e-01, -4.51607196e-01, -4.57209803e-01,\n",
              "       -4.62794323e-01, -4.68360536e-01, -4.73908223e-01, -4.79437162e-01,\n",
              "       -4.84947137e-01, -4.90437928e-01, -4.95909319e-01, -5.01361093e-01,\n",
              "       -5.06793034e-01, -5.12204928e-01, -5.17596560e-01, -5.22967718e-01,\n",
              "       -5.28318189e-01, -5.33647760e-01, -5.38956222e-01, -5.44243365e-01,\n",
              "       -5.49508978e-01, -5.54752854e-01, -5.59974786e-01, -5.65174567e-01,\n",
              "       -5.70351991e-01, -5.75506853e-01, -5.80638949e-01, -5.85748078e-01,\n",
              "       -5.90834035e-01, -5.95896621e-01, -6.00935634e-01, -6.05950876e-01,\n",
              "       -6.10942149e-01, -6.15909254e-01, -6.20851995e-01, -6.25770177e-01,\n",
              "       -6.30663605e-01, -6.35532086e-01, -6.40375427e-01, -6.45193436e-01,\n",
              "       -6.49985923e-01, -6.54752698e-01, -6.59493574e-01, -6.64208361e-01,\n",
              "       -6.68896874e-01, -6.73558927e-01, -6.78194336e-01, -6.82802917e-01,\n",
              "       -6.87384489e-01, -6.91938869e-01, -6.96465878e-01, -7.00965337e-01,\n",
              "       -7.05437067e-01, -7.09880892e-01, -7.14296636e-01, -7.18684125e-01,\n",
              "       -7.23043184e-01, -7.27373642e-01, -7.31675326e-01, -7.35948067e-01,\n",
              "       -7.40191697e-01, -7.44406046e-01, -7.48590948e-01, -7.52746238e-01,\n",
              "       -7.56871752e-01, -7.60967326e-01, -7.65032797e-01, -7.69068007e-01,\n",
              "       -7.73072793e-01, -7.77046999e-01, -7.80990468e-01, -7.84903042e-01,\n",
              "       -7.88784567e-01, -7.92634891e-01, -7.96453860e-01, -8.00241323e-01,\n",
              "       -8.03997130e-01, -8.07721134e-01, -8.11413186e-01, -8.15073141e-01,\n",
              "       -8.18700854e-01, -8.22296182e-01, -8.25858981e-01, -8.29389112e-01,\n",
              "       -8.32886434e-01, -8.36350809e-01, -8.39782100e-01, -8.43180172e-01,\n",
              "       -8.46544890e-01, -8.49876121e-01, -8.53173733e-01, -8.56437596e-01,\n",
              "       -8.59667580e-01, -8.62863558e-01, -8.66025404e-01, -8.69152992e-01,\n",
              "       -8.72246198e-01, -8.75304901e-01, -8.78328979e-01, -8.81318312e-01,\n",
              "       -8.84272783e-01, -8.87192274e-01, -8.90076671e-01, -8.92925858e-01,\n",
              "       -8.95739724e-01, -8.98518156e-01, -9.01261046e-01, -9.03968283e-01,\n",
              "       -9.06639763e-01, -9.09275378e-01, -9.11875024e-01, -9.14438599e-01,\n",
              "       -9.16966002e-01, -9.19457131e-01, -9.21911890e-01, -9.24330180e-01,\n",
              "       -9.26711905e-01, -9.29056973e-01, -9.31365289e-01, -9.33636764e-01,\n",
              "       -9.35871306e-01, -9.38068827e-01, -9.40229241e-01, -9.42352462e-01,\n",
              "       -9.44438405e-01, -9.46486990e-01, -9.48498134e-01, -9.50471757e-01,\n",
              "       -9.52407783e-01, -9.54306134e-01, -9.56166735e-01, -9.57989512e-01,\n",
              "       -9.59774394e-01, -9.61521310e-01, -9.63230191e-01, -9.64900969e-01,\n",
              "       -9.66533578e-01, -9.68127953e-01, -9.69684032e-01, -9.71201752e-01,\n",
              "       -9.72681055e-01, -9.74121880e-01, -9.75524172e-01, -9.76887875e-01,\n",
              "       -9.78212935e-01, -9.79499299e-01, -9.80746917e-01, -9.81955739e-01,\n",
              "       -9.83125718e-01, -9.84256806e-01, -9.85348960e-01, -9.86402137e-01,\n",
              "       -9.87416293e-01, -9.88391391e-01, -9.89327390e-01, -9.90224253e-01,\n",
              "       -9.91081947e-01, -9.91900435e-01, -9.92679687e-01, -9.93419671e-01,\n",
              "       -9.94120357e-01, -9.94781719e-01, -9.95403731e-01, -9.95986366e-01,\n",
              "       -9.96529603e-01, -9.97033420e-01, -9.97497797e-01, -9.97922715e-01,\n",
              "       -9.98308158e-01, -9.98654111e-01, -9.98960560e-01, -9.99227492e-01,\n",
              "       -9.99454898e-01, -9.99642768e-01, -9.99791094e-01, -9.99899872e-01,\n",
              "       -9.99969096e-01, -9.99998764e-01, -9.99988874e-01, -9.99939428e-01,\n",
              "       -9.99850427e-01, -9.99721874e-01, -9.99553775e-01, -9.99346136e-01,\n",
              "       -9.99098966e-01, -9.98812274e-01, -9.98486072e-01, -9.98120372e-01,\n",
              "       -9.97715189e-01, -9.97270539e-01, -9.96786440e-01, -9.96262911e-01,\n",
              "       -9.95699972e-01, -9.95097645e-01, -9.94455956e-01, -9.93774928e-01,\n",
              "       -9.93054589e-01, -9.92294968e-01, -9.91496094e-01, -9.90657999e-01,\n",
              "       -9.89780716e-01, -9.88864280e-01, -9.87908727e-01, -9.86914095e-01,\n",
              "       -9.85880423e-01, -9.84807753e-01, -9.83696126e-01, -9.82545587e-01,\n",
              "       -9.81356181e-01, -9.80127955e-01, -9.78860957e-01, -9.77555239e-01,\n",
              "       -9.76210851e-01, -9.74827847e-01, -9.73406281e-01, -9.71946209e-01,\n",
              "       -9.70447691e-01, -9.68910783e-01, -9.67335548e-01, -9.65722048e-01,\n",
              "       -9.64070347e-01, -9.62380509e-01, -9.60652602e-01, -9.58886695e-01,\n",
              "       -9.57082856e-01, -9.55241158e-01, -9.53361672e-01, -9.51444475e-01,\n",
              "       -9.49489640e-01, -9.47497247e-01, -9.45467373e-01, -9.43400098e-01,\n",
              "       -9.41295506e-01, -9.39153678e-01, -9.36974699e-01, -9.34758657e-01,\n",
              "       -9.32505637e-01, -9.30215731e-01, -9.27889027e-01, -9.25525619e-01,\n",
              "       -9.23125599e-01, -9.20689063e-01, -9.18216107e-01, -9.15706829e-01,\n",
              "       -9.13161327e-01, -9.10579704e-01, -9.07962060e-01, -9.05308500e-01,\n",
              "       -9.02619128e-01, -8.99894051e-01, -8.97133376e-01, -8.94337213e-01,\n",
              "       -8.91505673e-01, -8.88638867e-01, -8.85736908e-01, -8.82799913e-01,\n",
              "       -8.79827996e-01, -8.76821275e-01, -8.73779870e-01, -8.70703900e-01,\n",
              "       -8.67593488e-01, -8.64448755e-01, -8.61269828e-01, -8.58056831e-01,\n",
              "       -8.54809891e-01, -8.51529138e-01, -8.48214700e-01, -8.44866709e-01,\n",
              "       -8.41485297e-01, -8.38070599e-01, -8.34622748e-01, -8.31141882e-01,\n",
              "       -8.27628139e-01, -8.24081656e-01, -8.20502575e-01, -8.16891037e-01,\n",
              "       -8.13247185e-01, -8.09571163e-01, -8.05863117e-01, -8.02123193e-01,\n",
              "       -7.98351539e-01, -7.94548304e-01, -7.90713639e-01, -7.86847695e-01,\n",
              "       -7.82950626e-01, -7.79022586e-01, -7.75063729e-01, -7.71074213e-01,\n",
              "       -7.67054195e-01, -7.63003834e-01, -7.58923291e-01, -7.54812728e-01,\n",
              "       -7.50672305e-01, -7.46502188e-01, -7.42302542e-01, -7.38073532e-01,\n",
              "       -7.33815325e-01, -7.29528091e-01, -7.25211999e-01, -7.20867219e-01,\n",
              "       -7.16493923e-01, -7.12092285e-01, -7.07662479e-01, -7.03204679e-01,\n",
              "       -6.98719062e-01, -6.94205806e-01, -6.89665089e-01, -6.85097090e-01,\n",
              "       -6.80501991e-01, -6.75879973e-01, -6.71231219e-01, -6.66555913e-01,\n",
              "       -6.61854240e-01, -6.57126385e-01, -6.52372537e-01, -6.47592882e-01,\n",
              "       -6.42787610e-01, -6.37956911e-01, -6.33100976e-01, -6.28219997e-01,\n",
              "       -6.23314168e-01, -6.18383682e-01, -6.13428734e-01, -6.08449521e-01,\n",
              "       -6.03446239e-01, -5.98419086e-01, -5.93368262e-01, -5.88293965e-01,\n",
              "       -5.83196397e-01, -5.78075760e-01, -5.72932255e-01, -5.67766086e-01,\n",
              "       -5.62577458e-01, -5.57366576e-01, -5.52133646e-01, -5.46878875e-01,\n",
              "       -5.41602472e-01, -5.36304643e-01, -5.30985600e-01, -5.25645553e-01,\n",
              "       -5.20284712e-01, -5.14903290e-01, -5.09501500e-01, -5.04079556e-01,\n",
              "       -4.98637671e-01, -4.93176062e-01, -4.87694944e-01, -4.82194534e-01,\n",
              "       -4.76675049e-01, -4.71136709e-01, -4.65579732e-01, -4.60004337e-01,\n",
              "       -4.54410746e-01, -4.48799180e-01, -4.43169861e-01, -4.37523010e-01,\n",
              "       -4.31858853e-01, -4.26177612e-01, -4.20479513e-01, -4.14764781e-01,\n",
              "       -4.09033642e-01, -4.03286322e-01, -3.97523050e-01, -3.91744053e-01,\n",
              "       -3.85949559e-01, -3.80139798e-01, -3.74315000e-01, -3.68475395e-01,\n",
              "       -3.62621214e-01, -3.56752688e-01, -3.50870051e-01, -3.44973534e-01,\n",
              "       -3.39063370e-01, -3.33139795e-01, -3.27203041e-01, -3.21253344e-01,\n",
              "       -3.15290939e-01, -3.09316061e-01, -3.03328948e-01, -2.97329837e-01,\n",
              "       -2.91318963e-01, -2.85296566e-01, -2.79262883e-01, -2.73218154e-01,\n",
              "       -2.67162616e-01, -2.61096510e-01, -2.55020076e-01, -2.48933554e-01,\n",
              "       -2.42837185e-01, -2.36731210e-01, -2.30615871e-01, -2.24491409e-01,\n",
              "       -2.18358066e-01, -2.12216086e-01, -2.06065711e-01, -1.99907185e-01,\n",
              "       -1.93740751e-01, -1.87566653e-01, -1.81385136e-01, -1.75196443e-01,\n",
              "       -1.69000820e-01, -1.62798512e-01, -1.56589764e-01, -1.50374822e-01,\n",
              "       -1.44153931e-01, -1.37927338e-01, -1.31695289e-01, -1.25458030e-01,\n",
              "       -1.19215809e-01, -1.12968871e-01, -1.06717465e-01, -1.00461838e-01,\n",
              "       -9.42022363e-02, -8.79389084e-02, -8.16721019e-02, -7.54020646e-02,\n",
              "       -6.91290446e-02, -6.28532900e-02, -5.65750492e-02, -5.02945704e-02,\n",
              "       -4.40121020e-02, -3.77278927e-02, -3.14421909e-02, -2.51552454e-02,\n",
              "       -1.88673048e-02, -1.25786178e-02, -6.28943332e-03, -2.44929360e-16])"
            ]
          },
          "metadata": {},
          "execution_count": 37
        }
      ]
    },
    {
      "cell_type": "code",
      "source": [
        "import matplotlib.pyplot as plt\n",
        "%matplotlib inline\n",
        "plt.plot(x,y)"
      ],
      "metadata": {
        "colab": {
          "base_uri": "https://localhost:8080/",
          "height": 447
        },
        "id": "SyYpj7CV4XmU",
        "outputId": "f644aac3-db49-4914-c7a8-06c1a279542c"
      },
      "id": "SyYpj7CV4XmU",
      "execution_count": null,
      "outputs": [
        {
          "output_type": "execute_result",
          "data": {
            "text/plain": [
              "[<matplotlib.lines.Line2D at 0x7b7af4117f40>]"
            ]
          },
          "metadata": {},
          "execution_count": 38
        },
        {
          "output_type": "display_data",
          "data": {
            "text/plain": [
              "<Figure size 640x480 with 1 Axes>"
            ],
            "image/png": "[encoded data removed]"
          },
          "metadata": {}
        }
      ]
    },
    {
      "cell_type": "markdown",
      "source": [
        "numpy.linspace(start, stop, num = int value)\n",
        "\n",
        "start : start of interval range\n",
        "\n",
        "stop : end of interval range\n",
        "\n",
        "num : Number of samples to generate."
      ],
      "metadata": {
        "id": "5QUilatDGy4W"
      },
      "id": "5QUilatDGy4W"
    },
    {
      "cell_type": "code",
      "source": [
        "a=np.linspace(-2,2, num=5) # devuelve nros espaciados uniformemente en un intervalo especificado, o números de muestras a mostrar en este caso 5\n",
        "a"
      ],
      "metadata": {
        "colab": {
          "base_uri": "https://localhost:8080/"
        },
        "id": "e5n6eeXB2hTn",
        "outputId": "fc1f7924-0f01-4796-8b67-deb13d629cce"
      },
      "id": "e5n6eeXB2hTn",
      "execution_count": null,
      "outputs": [
        {
          "output_type": "execute_result",
          "data": {
            "text/plain": [
              "array([-2., -1.,  0.,  1.,  2.])"
            ]
          },
          "metadata": {},
          "execution_count": 11
        }
      ]
    },
    {
      "cell_type": "code",
      "source": [
        "b=np.linspace(-2,2, num=9)\n",
        "b"
      ],
      "metadata": {
        "colab": {
          "base_uri": "https://localhost:8080/"
        },
        "id": "N_5YE3Y43-eK",
        "outputId": "6428dcb0-99d9-4df9-d517-0adeae12a8b2"
      },
      "id": "N_5YE3Y43-eK",
      "execution_count": null,
      "outputs": [
        {
          "output_type": "execute_result",
          "data": {
            "text/plain": [
              "array([-2. , -1.5, -1. , -0.5,  0. ,  0.5,  1. ,  1.5,  2. ])"
            ]
          },
          "metadata": {},
          "execution_count": 11
        }
      ]
    },
    {
      "cell_type": "code",
      "source": [
        "# Slicing\n",
        "# We pass slice like this: [start:end], or [start:end:step]. The element at end index is not being included in the output.\n",
        "gui=a[0:3]\n",
        "gui # tres no está incluido\n",
        "# If we don't pass start its considered 0:\n",
        "# print(arr[:4])"
      ],
      "metadata": {
        "colab": {
          "base_uri": "https://localhost:8080/"
        },
        "id": "ha52WMwcsGbO",
        "outputId": "94830a8b-e5bf-46c0-e099-cc4d8b0348f3"
      },
      "id": "ha52WMwcsGbO",
      "execution_count": null,
      "outputs": [
        {
          "output_type": "execute_result",
          "data": {
            "text/plain": [
              "array([-2., -1.,  0.])"
            ]
          },
          "metadata": {},
          "execution_count": 12
        }
      ]
    },
    {
      "cell_type": "code",
      "source": [
        "# Nros pares\n",
        "arr = np.array([1, 2, 3, 4, 5, 6, 7, 8])\n",
        "print(arr[1:8:2])"
      ],
      "metadata": {
        "colab": {
          "base_uri": "https://localhost:8080/"
        },
        "id": "y1_0NPWYsgjC",
        "outputId": "5e9f148a-3611-4b28-cddd-1f1d7e7e234d"
      },
      "id": "y1_0NPWYsgjC",
      "execution_count": null,
      "outputs": [
        {
          "output_type": "stream",
          "name": "stdout",
          "text": [
            "[2 4 6 8]\n"
          ]
        }
      ]
    },
    {
      "cell_type": "code",
      "source": [
        "# podemos usar una lista para seleccionar más de un índice específico. La lista `select` contiene varios valores:\n",
        "select = [0, 2, 3, 4]\n",
        "select"
      ],
      "metadata": {
        "colab": {
          "base_uri": "https://localhost:8080/"
        },
        "id": "ZmBx3UtM0sRC",
        "outputId": "57ee4951-24cc-46bc-c07a-a66d672de5f6"
      },
      "id": "ZmBx3UtM0sRC",
      "execution_count": null,
      "outputs": [
        {
          "output_type": "execute_result",
          "data": {
            "text/plain": [
              "[0, 2, 3, 4]"
            ]
          },
          "metadata": {},
          "execution_count": 14
        }
      ]
    },
    {
      "cell_type": "code",
      "source": [
        "d = arr[select]\n",
        "d"
      ],
      "metadata": {
        "colab": {
          "base_uri": "https://localhost:8080/"
        },
        "id": "YPWich5N00_H",
        "outputId": "392e335c-2684-4134-b30c-a0153467dc55"
      },
      "id": "YPWich5N00_H",
      "execution_count": null,
      "outputs": [
        {
          "output_type": "execute_result",
          "data": {
            "text/plain": [
              "array([1, 3, 4, 5])"
            ]
          },
          "metadata": {},
          "execution_count": 15
        }
      ]
    },
    {
      "cell_type": "code",
      "source": [
        "# a los que elegi en select les pongo ese valor grande\n",
        "arr[select] = 100000\n",
        "arr"
      ],
      "metadata": {
        "colab": {
          "base_uri": "https://localhost:8080/"
        },
        "id": "_CYj4vZm07F1",
        "outputId": "713e1329-0be7-4495-9bda-9bd35f880bc3"
      },
      "id": "_CYj4vZm07F1",
      "execution_count": null,
      "outputs": [
        {
          "output_type": "execute_result",
          "data": {
            "text/plain": [
              "array([100000,      2, 100000, 100000, 100000,      6,      7,      8])"
            ]
          },
          "metadata": {},
          "execution_count": 18
        }
      ]
    },
    {
      "cell_type": "markdown",
      "source": [
        "The next two attributes will make more sense when we get to higher dimensions but let's review them. The attribute ndim represents the number of array dimensions, or the rank of the array. In this case, one:"
      ],
      "metadata": {
        "id": "zmeqbuiH14fl"
      },
      "id": "zmeqbuiH14fl"
    },
    {
      "cell_type": "code",
      "source": [
        "a = np.array([0, 1, 2, 3, 4])\n",
        "a"
      ],
      "metadata": {
        "colab": {
          "base_uri": "https://localhost:8080/"
        },
        "id": "ZO1ucheS2Ofx",
        "outputId": "2d876e86-559f-4900-ceb3-8365cd9acbef"
      },
      "id": "ZO1ucheS2Ofx",
      "execution_count": null,
      "outputs": [
        {
          "output_type": "execute_result",
          "data": {
            "text/plain": [
              "array([0, 1, 2, 3, 4])"
            ]
          },
          "metadata": {},
          "execution_count": 19
        }
      ]
    },
    {
      "cell_type": "code",
      "source": [
        "# a.ndim: tiene que ver con las dimensiones, el primer corchete que agrupa todo es la primer dimensión y la segunda son el nivel donde se\n",
        "# encuentran las 2 listas anidadas.\n",
        "# a.size es la multiplicación de filas por columnas\n",
        "# a.shape\n",
        "h=np.array([[1, 2, 3], [4, 5, 6]])\n",
        "h.shape # En este ejemplo, la matriz a tiene 2 filas y 3 columnas, por lo que el atributo shape es una tupla (2, 3)."
      ],
      "metadata": {
        "colab": {
          "base_uri": "https://localhost:8080/"
        },
        "id": "5Ip8NtNY1RzH",
        "outputId": "3070fddc-0afa-4b3d-97a4-31c6631a5aa3"
      },
      "id": "5Ip8NtNY1RzH",
      "execution_count": null,
      "outputs": [
        {
          "output_type": "execute_result",
          "data": {
            "text/plain": [
              "(2, 3)"
            ]
          },
          "metadata": {},
          "execution_count": 20
        }
      ]
    },
    {
      "cell_type": "code",
      "source": [
        "h.ndim"
      ],
      "metadata": {
        "colab": {
          "base_uri": "https://localhost:8080/"
        },
        "id": "0LDPiAoKEJmB",
        "outputId": "1c6b352a-13f0-4b05-f291-f8298d0fa365"
      },
      "id": "0LDPiAoKEJmB",
      "execution_count": null,
      "outputs": [
        {
          "output_type": "execute_result",
          "data": {
            "text/plain": [
              "2"
            ]
          },
          "metadata": {},
          "execution_count": 21
        }
      ]
    },
    {
      "cell_type": "markdown",
      "source": [
        "## Array Addition"
      ],
      "metadata": {
        "id": "voplYSYbFIbe"
      },
      "id": "voplYSYbFIbe"
    },
    {
      "cell_type": "code",
      "source": [
        "v = np.array([2, 1])\n",
        "u = np.array([1, 3])\n",
        "z = np.add(u, v)\n",
        "\n",
        "# Plotting functions\n",
        "\n",
        "import time\n",
        "import sys\n",
        "import numpy as np\n",
        "\n",
        "import matplotlib.pyplot as plt\n",
        "\n",
        "\n",
        "def Plotvec1(u, z, v):\n",
        "\n",
        "    ax = plt.axes() # to generate the full window axes\n",
        "    ax.arrow(0, 0, *u, head_width=0.05, color='r', head_length=0.1)# Add an arrow to the  U Axes with arrow head width 0.05, color red and arrow head length 0.1\n",
        "    plt.text(*(u + 0.1), 'u')#Adds the text u to the Axes\n",
        "\n",
        "    ax.arrow(0, 0, *v, head_width=0.05, color='b', head_length=0.1)# Add an arrow to the  v Axes with arrow head width 0.05, color red and arrow head length 0.1\n",
        "    plt.text(*(v + 0.1), 'v')#Adds the text v to the Axes\n",
        "\n",
        "    ax.arrow(0, 0, *z, head_width=0.05, head_length=0.1)\n",
        "    plt.text(*(z + 0.1), 'z')#Adds the text z to the Axes\n",
        "    plt.ylim(-2, 2)#set the ylim to bottom(-2), top(2)\n",
        "    plt.xlim(-2, 2)#set the xlim to left(-2), right(2)\n",
        "\n",
        "Plotvec1(u, z, v)"
      ],
      "metadata": {
        "colab": {
          "base_uri": "https://localhost:8080/",
          "height": 635
        },
        "id": "1WPVty4UFIJ0",
        "outputId": "569a5723-abf1-4aa2-c314-ca313d8b9fb1"
      },
      "id": "1WPVty4UFIJ0",
      "execution_count": null,
      "outputs": [
        {
          "output_type": "display_data",
          "data": {
            "text/plain": [
              "<Figure size 640x480 with 1 Axes>"
            ],
            "image/png": "[encoded data removed]"
          },
          "metadata": {}
        }
      ]
    },
    {
      "cell_type": "code",
      "source": [
        "c = np.subtract(u, v)\n",
        "Plotvec1(u, c, v)"
      ],
      "metadata": {
        "colab": {
          "base_uri": "https://localhost:8080/",
          "height": 542
        },
        "id": "lSSbXq8aEJds",
        "outputId": "8dc41e0f-c09f-4abb-d416-dc3eadbc11df"
      },
      "id": "lSSbXq8aEJds",
      "execution_count": null,
      "outputs": [
        {
          "output_type": "display_data",
          "data": {
            "text/plain": [
              "<Figure size 640x480 with 1 Axes>"
            ],
            "image/png": "[encoded data removed]"
          },
          "metadata": {}
        }
      ]
    },
    {
      "cell_type": "code",
      "source": [
        "j = np.multiply(u, v)\n",
        "Plotvec1(u, j, v)\n",
        "# c = np.divide(a, b)"
      ],
      "metadata": {
        "colab": {
          "base_uri": "https://localhost:8080/",
          "height": 542
        },
        "id": "oRFo0Pq2F1ee",
        "outputId": "9d7e0e80-18dd-489c-be28-f3e0e77be8ad"
      },
      "id": "oRFo0Pq2F1ee",
      "execution_count": null,
      "outputs": [
        {
          "output_type": "display_data",
          "data": {
            "text/plain": [
              "<Figure size 640x480 with 1 Axes>"
            ],
            "image/png": "[encoded data removed]"
          },
          "metadata": {}
        }
      ]
    },
    {
      "cell_type": "markdown",
      "source": [
        "### Dot Product"
      ],
      "metadata": {
        "id": "ybfov6h1GRFx"
      },
      "id": "ybfov6h1GRFx"
    },
    {
      "cell_type": "code",
      "source": [
        "X = np.array([1, 2])\n",
        "Y = np.array([3, 2])\n",
        "np.dot(X, Y)"
      ],
      "metadata": {
        "colab": {
          "base_uri": "https://localhost:8080/"
        },
        "id": "e61RVZdvGGLk",
        "outputId": "16e75487-a3df-445f-b05d-7211258a3aa4"
      },
      "id": "e61RVZdvGGLk",
      "execution_count": null,
      "outputs": [
        {
          "output_type": "execute_result",
          "data": {
            "text/plain": [
              "7"
            ]
          },
          "metadata": {},
          "execution_count": 26
        }
      ]
    },
    {
      "cell_type": "code",
      "source": [
        "# Matrix multiplication\n",
        "matrix1 = np.array([[1, 2], [3, 4]])\n",
        "matrix2 = np.array([[5, 6], [7, 8]])\n",
        "result = np.dot(matrix1, matrix2)\n",
        "print(result)"
      ],
      "metadata": {
        "colab": {
          "base_uri": "https://localhost:8080/"
        },
        "id": "hX1S_lyvNLoC",
        "outputId": "fe8b673c-169b-4aa3-d8e1-c0153fe277ea"
      },
      "id": "hX1S_lyvNLoC",
      "execution_count": null,
      "outputs": [
        {
          "output_type": "stream",
          "name": "stdout",
          "text": [
            "[[19 22]\n",
            " [43 50]]\n"
          ]
        }
      ]
    },
    {
      "cell_type": "markdown",
      "source": [
        "### Adding Constant to a Numpy Array"
      ],
      "metadata": {
        "id": "gSoVbKVPGhhd"
      },
      "id": "gSoVbKVPGhhd"
    },
    {
      "cell_type": "code",
      "source": [
        "u + 1"
      ],
      "metadata": {
        "colab": {
          "base_uri": "https://localhost:8080/"
        },
        "id": "-X9mETaRGimM",
        "outputId": "9987cb1a-2a2e-4a39-e8b3-2db77a857c36"
      },
      "id": "-X9mETaRGimM",
      "execution_count": null,
      "outputs": [
        {
          "output_type": "execute_result",
          "data": {
            "text/plain": [
              "array([2, 4])"
            ]
          },
          "metadata": {},
          "execution_count": 27
        }
      ]
    },
    {
      "cell_type": "code",
      "source": [
        "import time\n",
        "import sys\n",
        "import numpy as np\n",
        "\n",
        "import matplotlib.pyplot as plt\n",
        "\n",
        "\n",
        "def Plotvec2(a,b):\n",
        "    ax = plt.axes()# to generate the full window axes\n",
        "    ax.arrow(0, 0, *a, head_width=0.05, color ='r', head_length=0.1)#Add an arrow to the  a Axes with arrow head width 0.05, color red and arrow head length 0.1\n",
        "    plt.text(*(a + 0.1), 'a')\n",
        "    ax.arrow(0, 0, *b, head_width=0.05, color ='b', head_length=0.1)#Add an arrow to the  b Axes with arrow head width 0.05, color blue and arrow head length 0.1\n",
        "    plt.text(*(b + 0.1), 'b')\n",
        "    plt.ylim(-2, 2)#set the ylim to bottom(-2), top(2)\n",
        "    plt.xlim(-2, 2)#set the xlim to left(-2), right(2)\n",
        "\n",
        "a = np.array([-1, 1])\n",
        "b = np.array([1, 1])\n",
        "Plotvec2(a, b)\n",
        "print(\"The dot product is\", np.dot(a,b))"
      ],
      "metadata": {
        "colab": {
          "base_uri": "https://localhost:8080/",
          "height": 452
        },
        "id": "m4d0P7tXHqMO",
        "outputId": "c0e544c2-9da2-4697-f8d2-0ad1ea49acc6"
      },
      "id": "m4d0P7tXHqMO",
      "execution_count": null,
      "outputs": [
        {
          "output_type": "stream",
          "name": "stdout",
          "text": [
            "The dot product is 0\n"
          ]
        },
        {
          "output_type": "display_data",
          "data": {
            "text/plain": [
              "<Figure size 640x480 with 1 Axes>"
            ],
            "image/png": "[encoded data removed]"
          },
          "metadata": {}
        }
      ]
    },
    {
      "cell_type": "code",
      "source": [
        "arr1 = np.array([1, 2, 3, 4, 5])\n",
        "arr2 = np.array([6, 7, 8, 9, 10])\n",
        "\n",
        "#Starting index in slice is 1 as first even element(2) in array1 is at index 1\n",
        "even_arr1 = arr1[1:5:2]\n",
        "print(\"even for array1\",even_arr1)\n",
        "\n",
        "#Starting index in slice is 0 as first odd element(1) in array1 is at index 0\n",
        "odd_arr1=arr1[0:5:2]\n",
        "print(\"odd for array1\",odd_arr1)\n",
        "\n",
        "#Starting index in slice is 0 as first even element(6) in array2 is at index 0\n",
        "even_arr2 = arr2[0:5:2]\n",
        "print(\"even for array2\",even_arr2)\n",
        "\n",
        "\n",
        "#Starting index in slice is 1 as first odd element(7) in array2 is at index 1\n",
        "odd_arr2=arr2[1:5:2]\n",
        "print(\"odd for array2\",odd_arr2)"
      ],
      "metadata": {
        "colab": {
          "base_uri": "https://localhost:8080/"
        },
        "id": "pTh873dmHw9A",
        "outputId": "9391535f-1040-4c16-d6ad-ee861a911ab5"
      },
      "id": "pTh873dmHw9A",
      "execution_count": null,
      "outputs": [
        {
          "output_type": "stream",
          "name": "stdout",
          "text": [
            "even for array1 [2 4]\n",
            "odd for array1 [1 3 5]\n",
            "even for array2 [ 6  8 10]\n",
            "odd for array2 [7 9]\n"
          ]
        }
      ]
    },
    {
      "cell_type": "markdown",
      "source": [
        "Two Dimensional Numpy"
      ],
      "metadata": {
        "id": "39oWzqM5I9yr"
      },
      "id": "39oWzqM5I9yr"
    },
    {
      "cell_type": "code",
      "source": [
        "x = [[1,2],[3,2]]\n",
        "o=np.array(x)\n",
        "o"
      ],
      "metadata": {
        "colab": {
          "base_uri": "https://localhost:8080/"
        },
        "id": "oPF6r6gwJA6q",
        "outputId": "bb7b91e6-ccee-4256-dc3d-7ee996ae5308"
      },
      "id": "oPF6r6gwJA6q",
      "execution_count": null,
      "outputs": [
        {
          "output_type": "execute_result",
          "data": {
            "text/plain": [
              "array([[1, 2],\n",
              "       [3, 2]])"
            ]
          },
          "metadata": {},
          "execution_count": 43
        }
      ]
    },
    {
      "cell_type": "code",
      "source": [
        "reshaped_x= o.reshape(2, 2)\n",
        "reshaped_x"
      ],
      "metadata": {
        "colab": {
          "base_uri": "https://localhost:8080/"
        },
        "id": "63_LtlgGOGEt",
        "outputId": "45cc5e70-c3e2-4c40-fbef-247915c577f1"
      },
      "id": "63_LtlgGOGEt",
      "execution_count": null,
      "outputs": [
        {
          "output_type": "execute_result",
          "data": {
            "text/plain": [
              "array([[1, 2],\n",
              "       [3, 2]])"
            ]
          },
          "metadata": {},
          "execution_count": 40
        }
      ]
    },
    {
      "cell_type": "code",
      "source": [
        "transposed_o = o.T\n",
        "transposed_o"
      ],
      "metadata": {
        "colab": {
          "base_uri": "https://localhost:8080/"
        },
        "id": "O1FpYtllPX0e",
        "outputId": "d15a35d8-db27-441c-ef18-744c042b502a"
      },
      "id": "O1FpYtllPX0e",
      "execution_count": null,
      "outputs": [
        {
          "output_type": "execute_result",
          "data": {
            "text/plain": [
              "array([[1, 3],\n",
              "       [2, 2]])"
            ]
          },
          "metadata": {},
          "execution_count": 42
        }
      ]
    },
    {
      "cell_type": "code",
      "source": [
        "# Operation\tDescription\tExample\n",
        "arr = np.array([1, 2, 3, 4, 5]) # Array Creation\tCreating a NumPy array.\n",
        "result = arr1 + arr2 # Element-Wise Arithmetic\tElement-wise addition, subtraction, and so on.\n",
        "result = arr * 2 # Scalar Arithmetic\tScalar addition, subtraction, and so on.\n",
        "result = np.sqrt(arr) # Element-Wise Functions\tApplying functions to each element.\n",
        "total = np.sum(arr)<br>average = np.mean(arr) # Sum and Mean\tCalculating the sum and mean of an array.Calculating the sum and mean of an array.\n",
        "max_val = np.max(arr)<br>min_val = np.min(arr) # Maximum and Minimum Values\tFinding the maximum and minimum values.\n",
        "reshaped_arr = arr.reshape(2, 3) # Reshaping\tChanging the shape of an array.\tReformar Cambiar la forma de una matriz.\n",
        "transposed_arr = arr.T # Transposition\tTransposing a multi-dimensional array.\n",
        "result = np.dot(matrix1, matrix2) # Matrix Multiplication\tPerforming matrix multiplication."
      ],
      "metadata": {
        "id": "T2vJwwS8I_wz"
      },
      "id": "T2vJwwS8I_wz",
      "execution_count": null,
      "outputs": []
    },
    {
      "cell_type": "code",
      "source": [
        "a=np.array([-1,1])\n",
        "b=np.array([1,1])\n",
        "np.dot(a,b)"
      ],
      "metadata": {
        "colab": {
          "base_uri": "https://localhost:8080/"
        },
        "id": "enDa1yEZP4s7",
        "outputId": "79a67623-20fd-4a46-cb94-7f89e64daab2"
      },
      "id": "enDa1yEZP4s7",
      "execution_count": null,
      "outputs": [
        {
          "output_type": "execute_result",
          "data": {
            "text/plain": [
              "0"
            ]
          },
          "metadata": {},
          "execution_count": 44
        }
      ]
    },
    {
      "cell_type": "code",
      "source": [
        "X=np.array([[1,0,1],[2,2,2]])\n",
        "out=X[0:2,2]\n",
        "out"
      ],
      "metadata": {
        "colab": {
          "base_uri": "https://localhost:8080/"
        },
        "id": "JjEJU4vjQCQJ",
        "outputId": "68d68fd1-2c61-4765-e558-521a10c00b6c"
      },
      "id": "JjEJU4vjQCQJ",
      "execution_count": null,
      "outputs": [
        {
          "output_type": "execute_result",
          "data": {
            "text/plain": [
              "array([1, 2])"
            ]
          },
          "metadata": {},
          "execution_count": 45
        }
      ]
    },
    {
      "cell_type": "code",
      "source": [
        "X=np.array([[1,0],[0,1]])\n",
        "Y=np.array([[2,2],[2,2]])\n",
        "Z=np.dot(X,Y)\n",
        "Z"
      ],
      "metadata": {
        "colab": {
          "base_uri": "https://localhost:8080/"
        },
        "id": "Ha4kjaYlQFpq",
        "outputId": "8ca5830f-2010-4743-8030-5775372d7920"
      },
      "id": "Ha4kjaYlQFpq",
      "execution_count": null,
      "outputs": [
        {
          "output_type": "execute_result",
          "data": {
            "text/plain": [
              "array([[2, 2],\n",
              "       [2, 2]])"
            ]
          },
          "metadata": {},
          "execution_count": 47
        }
      ]
    },
    {
      "cell_type": "code",
      "source": [
        "with open(\"/content/sample_data/Example1.txt\",\"r\") as file1:\n",
        "\n",
        "    FileContent=file1.read()\n",
        "\n",
        "    print(FileContent)\n"
      ],
      "metadata": {
        "colab": {
          "base_uri": "https://localhost:8080/"
        },
        "id": "buVABlqiQMiB",
        "outputId": "37e2111d-ed54-4efe-e635-49686e897b00"
      },
      "id": "buVABlqiQMiB",
      "execution_count": null,
      "outputs": [
        {
          "output_type": "stream",
          "name": "stdout",
          "text": [
            "Mañana arranca el primer dia de clases!!!!\n"
          ]
        }
      ]
    },
    {
      "cell_type": "code",
      "source": [
        "with open(\"/content/sample_data/Example1.txt\",\"r\") as file1:\n",
        "\n",
        "  FileContent=file1.readlines()\n",
        "\n",
        "  print(FileContent)"
      ],
      "metadata": {
        "colab": {
          "base_uri": "https://localhost:8080/"
        },
        "id": "02zLpCYBW7s2",
        "outputId": "cd601f4c-a560-4ce1-95b0-48e30d0d9193"
      },
      "id": "02zLpCYBW7s2",
      "execution_count": null,
      "outputs": [
        {
          "output_type": "stream",
          "name": "stdout",
          "text": [
            "['Mañana arranca el primer dia de clases!!!!']\n"
          ]
        }
      ]
    },
    {
      "cell_type": "markdown",
      "source": [
        "### REST APIs"
      ],
      "metadata": {
        "id": "kqYioaNXXJxx"
      },
      "id": "kqYioaNXXJxx"
    },
    {
      "cell_type": "markdown",
      "source": [
        "Una API permite que dos piezas de software se comuniquen entre sí. Por ejemplo, tienes tu programa, tienes algunos datos y tienes otros componentes de software. Usas la API para comunicarte con otro software a través de entradas y salidas. Al igual que una función, no tienes que saber cómo la API funciona, solo sus entradas y salidas. Pandas es en realidad un conjunto de componentes de software, muchos de los cuales ni siquiera están escritos en Python. Tienes algunos datos. Tienes un conjunto de componentes de software. Usamos la API de pandas para procesar los datos mediante comunicándonos con los demás componentes del software.  \n",
        "EJEMPLO: Cuando creas un diccionario y luego creas un objeto pandas con el Dataframe constructor, en la jerga de la API, esta es una «instancia». Los datos del diccionario son transmitidos a la API de pandas. Luego usas el marco de datos para comunicarse con la API. Cuando llamas al encabezado del método, el marco de datos se comunica con la API y muestra las primeras filas del marco de datos. Cuando llamas al método, significa que la API calculará y devuelven los valores.  \n",
        "Las API REST son otro tipo popular de API; te permiten comunicarte a través de Internet, lo que te permite aprovechar recursos como el almacenamiento, el acceso a más datos, los algoritmos de inteligencia artificial y mucho más. La RE significa Representacional, la S significa Estado, la T significa Transferencia. En las API restantes, su programa se denomina cliente. La API se comunica con un servicio web al que llamas a través de Internet. Existe un conjunto de reglas relativas a la comunicación, la entrada o solicitud y la salida o la respuesta. Estos son algunos términos comunes. Puedes pensar en ti o en tu código como en un cliente. El servicio web se denomina recurso. El cliente encuentra el servicio a través de un punto final. El cliente envía solicitudes al recurso y la respuesta al cliente. Los métodos HTTP son una forma de transmitir datos a través de Internet Le decimos a las API de Rest qué hacer enviando una solicitud. La solicitud se comunica normalmente a través de un mensaje HTTP. El mensaje HTTP suele contener un archivo JSON. Contiene instrucciones para qué operación nos gustaría que el servicio funcionara. Esta operación se transmite a el servicio web a través de Internet. Y el servicio realiza la operación. De manera similar, el servicio web devuelve una respuesta a través de un mensaje HTTP, donde la información normalmente se devuelve a través de un archivo JSON. Esta información se transmite de vuelta al cliente.  \n",
        "EJEMPLO: Los datos de criptomonedas son excelentes para usar en una API porque se actualiza constantemente y es vital para el comercio de criptomonedas. Usaremos el cliente o contenedor Python de PyCoinGecko para la API de Coin Gecko, actualizado cada minuto por CoinGecko Usamos el contenedor, o cliente, porque es fácil Úsalo para que puedas centrarte en la tarea de recopilar datos, también presentaremos las series temporales de los pandas funciones para tratar datos de series temporales. El uso de PyCoinGecko para recopilar datos es sencillo. Todo lo que necesitamos es instalar e importar la biblioteca, y luego crear un objeto de cliente, y finalmente, usar una función para solicitar nuestros datos. En esta función obtenemos datos sobre bitcoin, en dólares estadounidenses, durante los últimos 30 días. En este caso, nuestra respuesta es un JSON expresado como un diccionario de Python de listas anidadas que incluyen precios, capitalización bursátil y volúmenes totales que contienen la marca de tiempo de Unix y el precio en ese momento. Solo nos interesa el precio, así que eso es lo que seleccionaremos utilizando el precio clave. Para simplificar las cosas, podemos convertir nuestra lista anidada en un DataFrame. Con la marca de tiempo y el precio de las columnas, es difícil entender la marca de tiempo de la columna. La convertiremos en una versión más legible formatea usando la función pandas to_datetime.\n",
        "Usando esta función to_datetime, creamos datos de tiempo legibles, la entrada es la columna de marca de tiempo, la unidad de tiempo se establece en milisegundos. Anexamos la salida a la fecha de la nueva columna.\n",
        "Ahora queremos crear un diagrama de velas. Para obtener los datos de las velas diarias, agruparemos por fecha para encontrar el precio mínimo, máximo, primero y último de cada día. Por último, utilizaremos plotly para crear el gráfico de velas y graficarlo. Ahora podemos ver el gráfico de velas abriendo el archivo HTML y haciendo clic en confiar en HTML en la parte superior izquierda de la pestaña. Debería tener un aspecto parecido a este."
      ],
      "metadata": {
        "id": "6zbIyk7dAanA"
      },
      "id": "6zbIyk7dAanA"
    },
    {
      "cell_type": "code",
      "source": [
        "!pip install pycoingecko\n",
        "from pycoingecko import CoinGeckoAPI\n",
        "cg=CoinGeckoAPI()\n",
        "bitcoin_data=cg.get_coin_market_chart_by_id(id='bitcoin', vs_currency='usd',days=5)\n",
        "\n",
        "for key, value in bitcoin_data.items():\n",
        "    print(f\"{key}: {value}\")"
      ],
      "metadata": {
        "colab": {
          "base_uri": "https://localhost:8080/"
        },
        "id": "SY6FFkhdCDEr",
        "outputId": "13712e3c-dec8-45d7-c92d-0ec911a5027f"
      },
      "id": "SY6FFkhdCDEr",
      "execution_count": null,
      "outputs": [
        {
          "output_type": "stream",
          "name": "stdout",
          "text": [
            "Collecting pycoingecko\n",
            "  Downloading pycoingecko-3.1.0-py3-none-any.whl (8.8 kB)\n",
            "Requirement already satisfied: requests in /usr/local/lib/python3.10/dist-packages (from pycoingecko) (2.31.0)\n",
            "Requirement already satisfied: charset-normalizer<4,>=2 in /usr/local/lib/python3.10/dist-packages (from requests->pycoingecko) (3.3.2)\n",
            "Requirement already satisfied: idna<4,>=2.5 in /usr/local/lib/python3.10/dist-packages (from requests->pycoingecko) (3.6)\n",
            "Requirement already satisfied: urllib3<3,>=1.21.1 in /usr/local/lib/python3.10/dist-packages (from requests->pycoingecko) (2.0.7)\n",
            "Requirement already satisfied: certifi>=2017.4.17 in /usr/local/lib/python3.10/dist-packages (from requests->pycoingecko) (2024.2.2)\n",
            "Installing collected packages: pycoingecko\n",
            "Successfully installed pycoingecko-3.1.0\n",
            "prices: [[1709074805759, 56918.454940304226], [1709078423373, 57003.52673730811], [1709082057013, 56994.916552693576], [1709085642138, 56857.608882839384], [1709089268707, 56951.85869803529], [1709092914065, 56958.15831123478], [1709096454511, 57227.46105933989], [1709100079772, 57116.64046654168], [1709103641844, 57135.482349711136], [1709107224089, 58123.24153531823], [1709110959555, 59508.88968993828], [1709114533651, 59325.37345452618], [1709118014350, 59266.18106118569], [1709121709561, 58983.94738732378], [1709125229259, 59397.89259241082], [1709128968990, 60465.38088698786], [1709132493958, 61142.98509518815], [1709136097018, 60925.10725370209], [1709139685108, 62496.70796054818], [1709143248159, 61236.56819459582], [1709146914036, 61203.7868191401], [1709150492423, 61006.464690927794], [1709154071256, 60426.396959183345], [1709157666948, 60504.09754571494], [1709161213417, 61348.393440923515], [1709164870725, 62518.58004146406], [1709168455578, 61353.4196653466], [1709172121555, 61354.959518742406], [1709175763804, 61753.20998644972], [1709179471349, 61594.439045000516], [1709183000738, 62494.350476384025], [1709186417808, 62327.58781450792], [1709190059272, 62938.70597072361], [1709193736654, 62713.90519421873], [1709197227008, 62791.57565972651], [1709200851380, 62794.27161842451], [1709204505873, 62701.975438427515], [1709208048925, 62935.77379531405], [1709211638432, 62656.37152404855], [1709215228146, 62946.002884387686], [1709218873445, 62864.06830866907], [1709222425200, 62894.738255044256], [1709226149850, 62202.76775685036], [1709229678412, 60990.475367372026], [1709233288700, 60585.35760074892], [1709236886710, 61621.67903482536], [1709240407238, 62183.046816187816], [1709244025804, 61248.938610897836], [1709247633666, 61254.54420248091], [1709251303668, 61200.70004129649], [1709254901278, 61508.70820248523], [1709258423479, 61211.74764786715], [1709262009287, 60924.702970892286], [1709265643028, 61162.43461561184], [1709269251074, 61488.640229402146], [1709272822330, 61333.43230766569], [1709276472097, 61542.78597549285], [1709280068696, 61479.23728988253], [1709283674631, 61923.57468203881], [1709287231281, 62196.55098258529], [1709290851830, 62059.25963582293], [1709294458876, 61906.519119786026], [1709298034679, 62230.09782049514], [1709301692141, 62459.437318647986], [1709305283893, 61940.7571693274], [1709308826725, 61269.633056139486], [1709312490800, 61438.69777959979], [1709316032924, 61906.533172523355], [1709319664717, 62372.780911497866], [1709323217985, 62216.769824702555], [1709326873182, 63136.302404384645], [1709330530139, 62616.536184078905], [1709334069910, 62480.7018344766], [1709337674944, 62417.56852075608], [1709341297176, 62379.319799026576], [1709344837595, 62071.00549728284], [1709348408367, 62091.01223670745], [1709352061388, 62360.17657145625], [1709355666517, 62100.09578395322], [1709359233266, 62059.833345490944], [1709362801620, 62139.72788215239], [1709366403002, 62055.51777383278], [1709370014581, 62087.12602319153], [1709373600801, 61826.56586113645], [1709377222568, 61940.22352760256], [1709380800782, 61995.48619854439], [1709384456672, 62152.98898572995], [1709388057422, 62000.19670197883], [1709391603788, 61954.00119685987], [1709395247749, 61845.40984799314], [1709398800994, 61825.238012023525], [1709402464243, 61829.11604356462], [1709406056554, 62072.735163302386], [1709409617270, 62139.13246135046], [1709413204380, 61938.16361888773], [1709416831087, 61905.6129875157], [1709420400523, 61855.96916139969], [1709424000517, 62067.86680212177], [1709427643084, 61805.6416646246], [1709431205783, 61810.000041579755], [1709434810901, 61804.21737177578], [1709438461423, 61957.831014902345], [1709442013004, 62050.496621344304], [1709445601526, 61943.181831565045], [1709449207100, 61922.47002067176], [1709452866574, 61680.8179338041], [1709456449072, 61642.54190363651], [1709460003082, 61781.37403787676], [1709463671301, 61690.28920230212], [1709467200180, 61835.119055980664], [1709470802185, 62282.92888550066], [1709474421017, 62304.44256101848], [1709478052164, 62207.535232280985], [1709481607244, 62258.139703191366], [1709485254587, 62849.59736841246], [1709488805435, 62595.22319023893], [1709492462690, 62869.9604184581], [1709496015319, 62721.51912918059], [1709499641045, 62804.78642280516], [1709503226351, 62823.34746844529], [1709505837000, 63202.08900304305]]\n",
            "market_caps: [[1709074805759, 1117944458595.1775], [1709078423373, 1118963733317.3013], [1709082057013, 1120695561748.8418], [1709085642138, 1116416040977.7747], [1709089268707, 1118556235877.317], [1709092914065, 1118740964371.3025], [1709096454511, 1123896947847.3635], [1709100079772, 1122459476200.2952], [1709103641844, 1123437402405.4797], [1709107224089, 1136576276814.633], [1709110959555, 1168880663280.831], [1709114533651, 1166180331668.5151], [1709118014350, 1163268242073.485], [1709121709561, 1161178818221.9902], [1709125229259, 1166710656119.664], [1709128968990, 1175113827980.9563], [1709132493958, 1187157433401.2688], [1709136097018, 1198994350469.4634], [1709139685108, 1212703029181.2449], [1709143248159, 1202250332756.9578], [1709146914036, 1196734191154.9211], [1709150492423, 1196674492301.2803], [1709154071256, 1186792564197.4485], [1709157666948, 1187243436185.6746], [1709161213417, 1203038968177.5745], [1709164870725, 1225273849241.6978], [1709168455578, 1207488109596.7732], [1709172121555, 1205040916683.6294], [1709175763804, 1209233042442.2266], [1709179471349, 1207889092900.2483], [1709183000738, 1227425352573.8088], [1709186417808, 1222317889093.2395], [1709190059272, 1245894227340.013], [1709193736654, 1231744558750.7554], [1709197227008, 1230003317657.0444], [1709200851380, 1228284265415.457], [1709204505873, 1229839687357.9229], [1709208048925, 1236513981420.7615], [1709211638432, 1227628063478.8442], [1709215228146, 1232642479031.5066], [1709218873445, 1235603513613.5818], [1709222425200, 1236824273911.2515], [1709226149850, 1221724126092.9236], [1709229678412, 1197915451452.4382], [1709233288700, 1189552897746.05], [1709236886710, 1207505023517.5376], [1709240407238, 1220271305198.8367], [1709244025804, 1198262112618.3218], [1709247633666, 1196836674210.0479], [1709251303668, 1206725326872.1362], [1709254901278, 1207659069972.4697], [1709258423479, 1206043366550.8005], [1709262009287, 1195878939487.2205], [1709265643028, 1200798614154.3909], [1709269251074, 1207727159429.315], [1709272822330, 1206873864299.2454], [1709276472097, 1210044659716.7278], [1709280068696, 1209017174728.2068], [1709283674631, 1220993867563.5547], [1709287231281, 1221298079997.99], [1709290851830, 1217581321482.057], [1709294458876, 1217244399752.081], [1709298034679, 1227876942745.71], [1709301692141, 1229497906667.7422], [1709305283893, 1214002414942.1587], [1709308826725, 1206552647597.9714], [1709312490800, 1207849267637.6335], [1709316032924, 1218667015232.796], [1709319664717, 1226329146157.0398], [1709323217985, 1223427064768.0251], [1709326873182, 1228976946852.605], [1709330530139, 1229539217940.5437], [1709334069910, 1226159254454.9976], [1709337674944, 1226012707277.906], [1709341297176, 1223310274381.282], [1709344837595, 1221980761194.5532], [1709348408367, 1219701243456.2527], [1709352061388, 1224899603596.0483], [1709355666517, 1219793741524.9028], [1709359233266, 1218960691236.978], [1709362801620, 1220905930758.8884], [1709366403002, 1217553547950.3997], [1709370014581, 1220212015629.0552], [1709373600801, 1217155990693.4365], [1709377222568, 1217261525780.631], [1709380800782, 1218675493838.2], [1709384456672, 1221996979767.053], [1709388057422, 1218357422356.9368], [1709391603788, 1214491226929.3242], [1709395247749, 1216245852529.8293], [1709398800994, 1212661172264.6753], [1709402464243, 1217103077611.535], [1709406056554, 1218769598011.8591], [1709409617270, 1219979144187.665], [1709413204380, 1216782473179.733], [1709416831087, 1216049449716.5042], [1709420400523, 1215056692083.1519], [1709424000517, 1219383305483.4985], [1709427643084, 1214303212082.2207], [1709431205783, 1213939399003.1965], [1709434810901, 1213977827780.8826], [1709438461423, 1217037260009.289], [1709442013004, 1218625994717.4534], [1709445601526, 1217434466203.8804], [1709449207100, 1216964968971.568], [1709452866574, 1211606614392.5264], [1709456449072, 1212551325264.076], [1709460003082, 1212945969736.9846], [1709463671301, 1211889923293.3037], [1709467200180, 1214313367383.875], [1709470802185, 1223071487036.1318], [1709474421017, 1223755648160.265], [1709478052164, 1223216106687.8057], [1709481607244, 1222271539876.3994], [1709485254587, 1234595285249.5193], [1709488805435, 1231046234501.473], [1709492462690, 1232267747348.5923], [1709496015319, 1233137647160.3467], [1709499641045, 1233843647618.6812], [1709503226351, 1233636560615.6567], [1709505837000, 1242157421835.203]]\n",
            "total_volumes: [[1709074805759, 45504125369.506355], [1709078423373, 51983799587.1939], [1709082057013, 51668863845.501076], [1709085642138, 41174718286.08609], [1709089268707, 41502108499.62158], [1709092914065, 43066130181.59337], [1709096454511, 42173888391.447716], [1709100079772, 35818547836.77433], [1709103641844, 40882239092.67253], [1709107224089, 24525512954.547817], [1709110959555, 46037231438.46321], [1709114533651, 47374168827.22449], [1709118014350, 47809319938.27881], [1709121709561, 39540984440.151115], [1709125229259, 42708951813.18045], [1709128968990, 51328355986.83787], [1709132493958, 55815518910.58223], [1709136097018, 55287774684.25641], [1709139685108, 60490158615.25319], [1709143248159, 70870612616.83463], [1709146914036, 77558462470.89178], [1709150492423, 79450165136.72177], [1709154071256, 80898882801.58424], [1709157666948, 81987047638.36406], [1709161213417, 84327637925.88936], [1709164870725, 86896465049.57669], [1709168455578, 89196209525.41898], [1709172121555, 90687208216.35928], [1709175763804, 92110986789.5304], [1709179471349, 92719506688.80232], [1709183000738, 77620879105.11717], [1709186417808, 95943470565.21587], [1709190059272, 100190083678.78897], [1709193736654, 99280569075.97072], [1709197227008, 98398275168.06242], [1709200851380, 86238786758.79967], [1709204505873, 95356283731.85904], [1709208048925, 85478834645.85771], [1709211638432, 93765936531.0907], [1709215228146, 90713927321.959], [1709218873445, 78875236955.1518], [1709222425200, 85846094237.62488], [1709226149850, 85132813621.3606], [1709229678412, 74988578738.92221], [1709233288700, 70349190484.73605], [1709236886710, 69839977016.40472], [1709240407238, 69217836342.63173], [1709244025804, 69944359184.51135], [1709247633666, 59990667070.911736], [1709251303668, 67515353973.84128], [1709254901278, 65387119890.563934], [1709258423479, 64798847076.15837], [1709262009287, 64230096120.93902], [1709265643028, 63538094950.53823], [1709269251074, 62659945978.8885], [1709272822330, 61510411374.147064], [1709276472097, 49646647800.11199], [1709280068696, 57479109454.67726], [1709283674631, 56377066777.59654], [1709287231281, 56329837660.48505], [1709290851830, 55863224157.82006], [1709294458876, 54938245595.15223], [1709298034679, 54445388107.8368], [1709301692141, 53557318621.62735], [1709305283893, 45563625107.61652], [1709308826725, 52332193040.90581], [1709312490800, 50958285930.8927], [1709316032924, 46306030567.391655], [1709319664717, 46106211022.4711], [1709323217985, 44742693864.77855], [1709326873182, 44551682936.29308], [1709330530139, 41627107001.16353], [1709334069910, 42189464511.34621], [1709337674944, 42007811992.90731], [1709341297176, 42400104310.38667], [1709344837595, 42174157561.21612], [1709348408367, 41642709514.09712], [1709352061388, 41551664101.9581], [1709355666517, 41776877852.60982], [1709359233266, 41981955031.148994], [1709362801620, 41194594597.303345], [1709366403002, 41383621657.31219], [1709370014581, 40185447644.11519], [1709373600801, 39659047866.944115], [1709377222568, 39082611704.79348], [1709380800782, 38671296067.30341], [1709384456672, 37732639367.585785], [1709388057422, 28869471643.18058], [1709391603788, 35668837216.642296], [1709395247749, 34185562510.239872], [1709398800994, 32972557130.412216], [1709402464243, 27621252154.757996], [1709406056554, 30062536896.33809], [1709409617270, 29939109487.493546], [1709413204380, 21734535280.39118], [1709416831087, 26127232656.91363], [1709420400523, 22152605053.419746], [1709424000517, 25198213831.25236], [1709427643084, 24015244235.713223], [1709431205783, 23817942938.391922], [1709434810901, 23242722351.092163], [1709438461423, 22969425890.291523], [1709442013004, 22270105305.389103], [1709445601526, 21780256176.6058], [1709449207100, 21194180890.45839], [1709452866574, 22070962909.013412], [1709456449072, 22196676071.542606], [1709460003082, 19396366053.041916], [1709463671301, 20725605289.02978], [1709467200180, 21391825899.750072], [1709470802185, 17858323861.837708], [1709474421017, 20326206694.886402], [1709478052164, 23970127557.827686], [1709481607244, 23511285939.723286], [1709485254587, 20389122802.79163], [1709488805435, 25188334939.464046], [1709492462690, 23619845677.03051], [1709496015319, 25450443720.803337], [1709499641045, 25056218163.552387], [1709503226351, 21503858052.90596], [1709505837000, 20006874746.7995]]\n"
          ]
        }
      ]
    },
    {
      "cell_type": "code",
      "source": [
        "import pycoingecko\n",
        "print(dir(pycoingecko)) # para ver los paquetes"
      ],
      "metadata": {
        "colab": {
          "base_uri": "https://localhost:8080/"
        },
        "id": "ezNGjgSdC991",
        "outputId": "d9a02a83-666d-44ab-aa37-481a54898870"
      },
      "id": "ezNGjgSdC991",
      "execution_count": null,
      "outputs": [
        {
          "output_type": "stream",
          "name": "stdout",
          "text": [
            "['CoinGeckoAPI', '__builtins__', '__cached__', '__doc__', '__file__', '__loader__', '__name__', '__package__', '__path__', '__spec__', 'api', 'utils']\n"
          ]
        }
      ]
    },
    {
      "cell_type": "code",
      "source": [
        "import pandas as pd\n",
        "data=pd.DataFrame(bitcoin_data, columns=['TimeStamp','prices'])\n",
        "# Desempaquetar las listas en la columna 'prices'\n",
        "data[['TimeStamp', 'prices']] = pd.DataFrame(data['prices'].tolist(), index=data.index)\n",
        "\n",
        "# Convertir la columna 'TimeStamp' a formato de fecha\n",
        "data['Date'] = pd.to_datetime(data['TimeStamp'], unit='ms')\n",
        "\n",
        "data"
      ],
      "metadata": {
        "colab": {
          "base_uri": "https://localhost:8080/",
          "height": 424
        },
        "id": "QJ-yzH1eRR8J",
        "outputId": "79a80235-1248-45cb-de68-283e916fcb54"
      },
      "id": "QJ-yzH1eRR8J",
      "execution_count": null,
      "outputs": [
        {
          "output_type": "execute_result",
          "data": {
            "text/plain": [
              "         TimeStamp        prices                    Date\n",
              "0    1709074805759  56918.454940 2024-02-27 23:00:05.759\n",
              "1    1709078423373  57003.526737 2024-02-28 00:00:23.373\n",
              "2    1709082057013  56994.916553 2024-02-28 01:00:57.013\n",
              "3    1709085642138  56857.608883 2024-02-28 02:00:42.138\n",
              "4    1709089268707  56951.858698 2024-02-28 03:01:08.707\n",
              "..             ...           ...                     ...\n",
              "116  1709492462690  62869.960418 2024-03-03 19:01:02.690\n",
              "117  1709496015319  62721.519129 2024-03-03 20:00:15.319\n",
              "118  1709499641045  62804.786423 2024-03-03 21:00:41.045\n",
              "119  1709503226351  62823.347468 2024-03-03 22:00:26.351\n",
              "120  1709505837000  63202.089003 2024-03-03 22:43:57.000\n",
              "\n",
              "[121 rows x 3 columns]"
            ],
            "text/html": [
              "\n",
              "  <div id=\"df-c228e156-360a-4a89-8c07-6b3681ed4112\" class=\"colab-df-container\">\n",
              "    <div>\n",
              "<style scoped>\n",
              "    .dataframe tbody tr th:only-of-type {\n",
              "        vertical-align: middle;\n",
              "    }\n",
              "\n",
              "    .dataframe tbody tr th {\n",
              "        vertical-align: top;\n",
              "    }\n",
              "\n",
              "    .dataframe thead th {\n",
              "        text-align: right;\n",
              "    }\n",
              "</style>\n",
              "<table border=\"1\" class=\"dataframe\">\n",
              "  <thead>\n",
              "    <tr style=\"text-align: right;\">\n",
              "      <th></th>\n",
              "      <th>TimeStamp</th>\n",
              "      <th>prices</th>\n",
              "      <th>Date</th>\n",
              "    </tr>\n",
              "  </thead>\n",
              "  <tbody>\n",
              "    <tr>\n",
              "      <th>0</th>\n",
              "      <td>1709074805759</td>\n",
              "      <td>56918.454940</td>\n",
              "      <td>2024-02-27 23:00:05.759</td>\n",
              "    </tr>\n",
              "    <tr>\n",
              "      <th>1</th>\n",
              "      <td>1709078423373</td>\n",
              "      <td>57003.526737</td>\n",
              "      <td>2024-02-28 00:00:23.373</td>\n",
              "    </tr>\n",
              "    <tr>\n",
              "      <th>2</th>\n",
              "      <td>1709082057013</td>\n",
              "      <td>56994.916553</td>\n",
              "      <td>2024-02-28 01:00:57.013</td>\n",
              "    </tr>\n",
              "    <tr>\n",
              "      <th>3</th>\n",
              "      <td>1709085642138</td>\n",
              "      <td>56857.608883</td>\n",
              "      <td>2024-02-28 02:00:42.138</td>\n",
              "    </tr>\n",
              "    <tr>\n",
              "      <th>4</th>\n",
              "      <td>1709089268707</td>\n",
              "      <td>56951.858698</td>\n",
              "      <td>2024-02-28 03:01:08.707</td>\n",
              "    </tr>\n",
              "    <tr>\n",
              "      <th>...</th>\n",
              "      <td>...</td>\n",
              "      <td>...</td>\n",
              "      <td>...</td>\n",
              "    </tr>\n",
              "    <tr>\n",
              "      <th>116</th>\n",
              "      <td>1709492462690</td>\n",
              "      <td>62869.960418</td>\n",
              "      <td>2024-03-03 19:01:02.690</td>\n",
              "    </tr>\n",
              "    <tr>\n",
              "      <th>117</th>\n",
              "      <td>1709496015319</td>\n",
              "      <td>62721.519129</td>\n",
              "      <td>2024-03-03 20:00:15.319</td>\n",
              "    </tr>\n",
              "    <tr>\n",
              "      <th>118</th>\n",
              "      <td>1709499641045</td>\n",
              "      <td>62804.786423</td>\n",
              "      <td>2024-03-03 21:00:41.045</td>\n",
              "    </tr>\n",
              "    <tr>\n",
              "      <th>119</th>\n",
              "      <td>1709503226351</td>\n",
              "      <td>62823.347468</td>\n",
              "      <td>2024-03-03 22:00:26.351</td>\n",
              "    </tr>\n",
              "    <tr>\n",
              "      <th>120</th>\n",
              "      <td>1709505837000</td>\n",
              "      <td>63202.089003</td>\n",
              "      <td>2024-03-03 22:43:57.000</td>\n",
              "    </tr>\n",
              "  </tbody>\n",
              "</table>\n",
              "<p>121 rows × 3 columns</p>\n",
              "</div>\n",
              "    <div class=\"colab-df-buttons\">\n",
              "\n",
              "  <div class=\"colab-df-container\">\n",
              "    <button class=\"colab-df-convert\" onclick=\"convertToInteractive('df-c228e156-360a-4a89-8c07-6b3681ed4112')\"\n",
              "            title=\"Convert this dataframe to an interactive table.\"\n",
              "            style=\"display:none;\">\n",
              "\n",
              "  <svg xmlns=\"http://www.w3.org/2000/svg\" height=\"24px\" viewBox=\"0 -960 960 960\">\n",
              "    <path d=\"M120-120v-720h720v720H120Zm60-500h600v-160H180v160Zm220 220h160v-160H400v160Zm0 220h160v-160H400v160ZM180-400h160v-160H180v160Zm440 0h160v-160H620v160ZM180-180h160v-160H180v160Zm440 0h160v-160H620v160Z\"/>\n",
              "  </svg>\n",
              "    </button>\n",
              "\n",
              "  <style>\n",
              "    .colab-df-container {\n",
              "      display:flex;\n",
              "      gap: 12px;\n",
              "    }\n",
              "\n",
              "    .colab-df-convert {\n",
              "      background-color: #E8F0FE;\n",
              "      border: none;\n",
              "      border-radius: 50%;\n",
              "      cursor: pointer;\n",
              "      display: none;\n",
              "      fill: #1967D2;\n",
              "      height: 32px;\n",
              "      padding: 0 0 0 0;\n",
              "      width: 32px;\n",
              "    }\n",
              "\n",
              "    .colab-df-convert:hover {\n",
              "      background-color: #E2EBFA;\n",
              "      box-shadow: 0px 1px 2px rgba(60, 64, 67, 0.3), 0px 1px 3px 1px rgba(60, 64, 67, 0.15);\n",
              "      fill: #174EA6;\n",
              "    }\n",
              "\n",
              "    .colab-df-buttons div {\n",
              "      margin-bottom: 4px;\n",
              "    }\n",
              "\n",
              "    [theme=dark] .colab-df-convert {\n",
              "      background-color: #3B4455;\n",
              "      fill: #D2E3FC;\n",
              "    }\n",
              "\n",
              "    [theme=dark] .colab-df-convert:hover {\n",
              "      background-color: #434B5C;\n",
              "      box-shadow: 0px 1px 3px 1px rgba(0, 0, 0, 0.15);\n",
              "      filter: drop-shadow(0px 1px 2px rgba(0, 0, 0, 0.3));\n",
              "      fill: #FFFFFF;\n",
              "    }\n",
              "  </style>\n",
              "\n",
              "    <script>\n",
              "      const buttonEl =\n",
              "        document.querySelector('#df-c228e156-360a-4a89-8c07-6b3681ed4112 button.colab-df-convert');\n",
              "      buttonEl.style.display =\n",
              "        google.colab.kernel.accessAllowed ? 'block' : 'none';\n",
              "\n",
              "      async function convertToInteractive(key) {\n",
              "        const element = document.querySelector('#df-c228e156-360a-4a89-8c07-6b3681ed4112');\n",
              "        const dataTable =\n",
              "          await google.colab.kernel.invokeFunction('convertToInteractive',\n",
              "                                                    [key], {});\n",
              "        if (!dataTable) return;\n",
              "\n",
              "        const docLinkHtml = 'Like what you see? Visit the ' +\n",
              "          '<a target=\"_blank\" href=https://colab.research.google.com/notebooks/data_table.ipynb>data table notebook</a>'\n",
              "          + ' to learn more about interactive tables.';\n",
              "        element.innerHTML = '';\n",
              "        dataTable['output_type'] = 'display_data';\n",
              "        await google.colab.output.renderOutput(dataTable, element);\n",
              "        const docLink = document.createElement('div');\n",
              "        docLink.innerHTML = docLinkHtml;\n",
              "        element.appendChild(docLink);\n",
              "      }\n",
              "    </script>\n",
              "  </div>\n",
              "\n",
              "\n",
              "<div id=\"df-8b388b1b-ba27-48fd-9cfa-848eb3d0f62e\">\n",
              "  <button class=\"colab-df-quickchart\" onclick=\"quickchart('df-8b388b1b-ba27-48fd-9cfa-848eb3d0f62e')\"\n",
              "            title=\"Suggest charts\"\n",
              "            style=\"display:none;\">\n",
              "\n",
              "<svg xmlns=\"http://www.w3.org/2000/svg\" height=\"24px\"viewBox=\"0 0 24 24\"\n",
              "     width=\"24px\">\n",
              "    <g>\n",
              "        <path d=\"M19 3H5c-1.1 0-2 .9-2 2v14c0 1.1.9 2 2 2h14c1.1 0 2-.9 2-2V5c0-1.1-.9-2-2-2zM9 17H7v-7h2v7zm4 0h-2V7h2v10zm4 0h-2v-4h2v4z\"/>\n",
              "    </g>\n",
              "</svg>\n",
              "  </button>\n",
              "\n",
              "<style>\n",
              "  .colab-df-quickchart {\n",
              "      --bg-color: #E8F0FE;\n",
              "      --fill-color: #1967D2;\n",
              "      --hover-bg-color: #E2EBFA;\n",
              "      --hover-fill-color: #174EA6;\n",
              "      --disabled-fill-color: #AAA;\n",
              "      --disabled-bg-color: #DDD;\n",
              "  }\n",
              "\n",
              "  [theme=dark] .colab-df-quickchart {\n",
              "      --bg-color: #3B4455;\n",
              "      --fill-color: #D2E3FC;\n",
              "      --hover-bg-color: #434B5C;\n",
              "      --hover-fill-color: #FFFFFF;\n",
              "      --disabled-bg-color: #3B4455;\n",
              "      --disabled-fill-color: #666;\n",
              "  }\n",
              "\n",
              "  .colab-df-quickchart {\n",
              "    background-color: var(--bg-color);\n",
              "    border: none;\n",
              "    border-radius: 50%;\n",
              "    cursor: pointer;\n",
              "    display: none;\n",
              "    fill: var(--fill-color);\n",
              "    height: 32px;\n",
              "    padding: 0;\n",
              "    width: 32px;\n",
              "  }\n",
              "\n",
              "  .colab-df-quickchart:hover {\n",
              "    background-color: var(--hover-bg-color);\n",
              "    box-shadow: 0 1px 2px rgba(60, 64, 67, 0.3), 0 1px 3px 1px rgba(60, 64, 67, 0.15);\n",
              "    fill: var(--button-hover-fill-color);\n",
              "  }\n",
              "\n",
              "  .colab-df-quickchart-complete:disabled,\n",
              "  .colab-df-quickchart-complete:disabled:hover {\n",
              "    background-color: var(--disabled-bg-color);\n",
              "    fill: var(--disabled-fill-color);\n",
              "    box-shadow: none;\n",
              "  }\n",
              "\n",
              "  .colab-df-spinner {\n",
              "    border: 2px solid var(--fill-color);\n",
              "    border-color: transparent;\n",
              "    border-bottom-color: var(--fill-color);\n",
              "    animation:\n",
              "      spin 1s steps(1) infinite;\n",
              "  }\n",
              "\n",
              "  @keyframes spin {\n",
              "    0% {\n",
              "      border-color: transparent;\n",
              "      border-bottom-color: var(--fill-color);\n",
              "      border-left-color: var(--fill-color);\n",
              "    }\n",
              "    20% {\n",
              "      border-color: transparent;\n",
              "      border-left-color: var(--fill-color);\n",
              "      border-top-color: var(--fill-color);\n",
              "    }\n",
              "    30% {\n",
              "      border-color: transparent;\n",
              "      border-left-color: var(--fill-color);\n",
              "      border-top-color: var(--fill-color);\n",
              "      border-right-color: var(--fill-color);\n",
              "    }\n",
              "    40% {\n",
              "      border-color: transparent;\n",
              "      border-right-color: var(--fill-color);\n",
              "      border-top-color: var(--fill-color);\n",
              "    }\n",
              "    60% {\n",
              "      border-color: transparent;\n",
              "      border-right-color: var(--fill-color);\n",
              "    }\n",
              "    80% {\n",
              "      border-color: transparent;\n",
              "      border-right-color: var(--fill-color);\n",
              "      border-bottom-color: var(--fill-color);\n",
              "    }\n",
              "    90% {\n",
              "      border-color: transparent;\n",
              "      border-bottom-color: var(--fill-color);\n",
              "    }\n",
              "  }\n",
              "</style>\n",
              "\n",
              "  <script>\n",
              "    async function quickchart(key) {\n",
              "      const quickchartButtonEl =\n",
              "        document.querySelector('#' + key + ' button');\n",
              "      quickchartButtonEl.disabled = true;  // To prevent multiple clicks.\n",
              "      quickchartButtonEl.classList.add('colab-df-spinner');\n",
              "      try {\n",
              "        const charts = await google.colab.kernel.invokeFunction(\n",
              "            'suggestCharts', [key], {});\n",
              "      } catch (error) {\n",
              "        console.error('Error during call to suggestCharts:', error);\n",
              "      }\n",
              "      quickchartButtonEl.classList.remove('colab-df-spinner');\n",
              "      quickchartButtonEl.classList.add('colab-df-quickchart-complete');\n",
              "    }\n",
              "    (() => {\n",
              "      let quickchartButtonEl =\n",
              "        document.querySelector('#df-8b388b1b-ba27-48fd-9cfa-848eb3d0f62e button');\n",
              "      quickchartButtonEl.style.display =\n",
              "        google.colab.kernel.accessAllowed ? 'block' : 'none';\n",
              "    })();\n",
              "  </script>\n",
              "</div>\n",
              "\n",
              "  <div id=\"id_15fdafa0-3cbf-47a2-af32-24ffa6032da8\">\n",
              "    <style>\n",
              "      .colab-df-generate {\n",
              "        background-color: #E8F0FE;\n",
              "        border: none;\n",
              "        border-radius: 50%;\n",
              "        cursor: pointer;\n",
              "        display: none;\n",
              "        fill: #1967D2;\n",
              "        height: 32px;\n",
              "        padding: 0 0 0 0;\n",
              "        width: 32px;\n",
              "      }\n",
              "\n",
              "      .colab-df-generate:hover {\n",
              "        background-color: #E2EBFA;\n",
              "        box-shadow: 0px 1px 2px rgba(60, 64, 67, 0.3), 0px 1px 3px 1px rgba(60, 64, 67, 0.15);\n",
              "        fill: #174EA6;\n",
              "      }\n",
              "\n",
              "      [theme=dark] .colab-df-generate {\n",
              "        background-color: #3B4455;\n",
              "        fill: #D2E3FC;\n",
              "      }\n",
              "\n",
              "      [theme=dark] .colab-df-generate:hover {\n",
              "        background-color: #434B5C;\n",
              "        box-shadow: 0px 1px 3px 1px rgba(0, 0, 0, 0.15);\n",
              "        filter: drop-shadow(0px 1px 2px rgba(0, 0, 0, 0.3));\n",
              "        fill: #FFFFFF;\n",
              "      }\n",
              "    </style>\n",
              "    <button class=\"colab-df-generate\" onclick=\"generateWithVariable('data')\"\n",
              "            title=\"Generate code using this dataframe.\"\n",
              "            style=\"display:none;\">\n",
              "\n",
              "  <svg xmlns=\"http://www.w3.org/2000/svg\" height=\"24px\"viewBox=\"0 0 24 24\"\n",
              "       width=\"24px\">\n",
              "    <path d=\"M7,19H8.4L18.45,9,17,7.55,7,17.6ZM5,21V16.75L18.45,3.32a2,2,0,0,1,2.83,0l1.4,1.43a1.91,1.91,0,0,1,.58,1.4,1.91,1.91,0,0,1-.58,1.4L9.25,21ZM18.45,9,17,7.55Zm-12,3A5.31,5.31,0,0,0,4.9,8.1,5.31,5.31,0,0,0,1,6.5,5.31,5.31,0,0,0,4.9,4.9,5.31,5.31,0,0,0,6.5,1,5.31,5.31,0,0,0,8.1,4.9,5.31,5.31,0,0,0,12,6.5,5.46,5.46,0,0,0,6.5,12Z\"/>\n",
              "  </svg>\n",
              "    </button>\n",
              "    <script>\n",
              "      (() => {\n",
              "      const buttonEl =\n",
              "        document.querySelector('#id_15fdafa0-3cbf-47a2-af32-24ffa6032da8 button.colab-df-generate');\n",
              "      buttonEl.style.display =\n",
              "        google.colab.kernel.accessAllowed ? 'block' : 'none';\n",
              "\n",
              "      buttonEl.onclick = () => {\n",
              "        google.colab.notebook.generateWithVariable('data');\n",
              "      }\n",
              "      })();\n",
              "    </script>\n",
              "  </div>\n",
              "\n",
              "    </div>\n",
              "  </div>\n"
            ],
            "application/vnd.google.colaboratory.intrinsic+json": {
              "type": "dataframe",
              "variable_name": "data",
              "summary": "{\n  \"name\": \"data\",\n  \"rows\": 121,\n  \"fields\": [\n    {\n      \"column\": \"TimeStamp\",\n      \"properties\": {\n        \"dtype\": \"number\",\n        \"std\": 126231150,\n        \"min\": 1709074805759,\n        \"max\": 1709505837000,\n        \"num_unique_values\": 121,\n        \"samples\": [\n          1709233288700,\n          1709244025804,\n          1709089268707\n        ],\n        \"semantic_type\": \"\",\n        \"description\": \"\"\n      }\n    },\n    {\n      \"column\": \"prices\",\n      \"properties\": {\n        \"dtype\": \"number\",\n        \"std\": 1523.8353477829962,\n        \"min\": 56857.608882839384,\n        \"max\": 63202.08900304305,\n        \"num_unique_values\": 121,\n        \"samples\": [\n          60585.35760074892,\n          61248.938610897836,\n          56951.85869803529\n        ],\n        \"semantic_type\": \"\",\n        \"description\": \"\"\n      }\n    },\n    {\n      \"column\": \"Date\",\n      \"properties\": {\n        \"dtype\": \"date\",\n        \"min\": \"2024-02-27 23:00:05.759000\",\n        \"max\": \"2024-03-03 22:43:57\",\n        \"num_unique_values\": 121,\n        \"samples\": [\n          \"2024-02-29 19:01:28.700000\",\n          \"2024-02-29 22:00:25.804000\",\n          \"2024-02-28 03:01:08.707000\"\n        ],\n        \"semantic_type\": \"\",\n        \"description\": \"\"\n      }\n    }\n  ]\n}"
            }
          },
          "metadata": {},
          "execution_count": 5
        }
      ]
    },
    {
      "cell_type": "markdown",
      "source": [],
      "metadata": {
        "id": "28HkZt71Sqnn"
      },
      "id": "28HkZt71Sqnn"
    },
    {
      "cell_type": "code",
      "source": [
        "candlestick_data=data.groupby(data.Date.dt.date).agg({'prices':['min','max','first','last']})\n",
        "candlestick_data"
      ],
      "metadata": {
        "colab": {
          "base_uri": "https://localhost:8080/",
          "height": 300
        },
        "id": "zwGF3yXXfFeR",
        "outputId": "baa4219e-3ac7-450c-fe1e-075127dcc814"
      },
      "id": "zwGF3yXXfFeR",
      "execution_count": null,
      "outputs": [
        {
          "output_type": "execute_result",
          "data": {
            "text/plain": [
              "                  prices                                          \n",
              "                     min           max         first          last\n",
              "Date                                                              \n",
              "2024-02-27  56918.454940  56918.454940  56918.454940  56918.454940\n",
              "2024-02-28  56857.608883  62496.707961  57003.526737  61348.393441\n",
              "2024-02-29  60585.357601  62946.002884  62518.580041  61254.544202\n",
              "2024-03-01  60924.702971  63136.302404  61200.700041  62480.701834\n",
              "2024-03-02  61825.238012  62417.568521  62417.568521  61855.969161\n",
              "2024-03-03  61642.541904  63202.089003  62067.866802  63202.089003"
            ],
            "text/html": [
              "\n",
              "  <div id=\"df-14140d95-c1c3-4a39-bb04-2e877d940834\" class=\"colab-df-container\">\n",
              "    <div>\n",
              "<style scoped>\n",
              "    .dataframe tbody tr th:only-of-type {\n",
              "        vertical-align: middle;\n",
              "    }\n",
              "\n",
              "    .dataframe tbody tr th {\n",
              "        vertical-align: top;\n",
              "    }\n",
              "\n",
              "    .dataframe thead tr th {\n",
              "        text-align: left;\n",
              "    }\n",
              "\n",
              "    .dataframe thead tr:last-of-type th {\n",
              "        text-align: right;\n",
              "    }\n",
              "</style>\n",
              "<table border=\"1\" class=\"dataframe\">\n",
              "  <thead>\n",
              "    <tr>\n",
              "      <th></th>\n",
              "      <th colspan=\"4\" halign=\"left\">prices</th>\n",
              "    </tr>\n",
              "    <tr>\n",
              "      <th></th>\n",
              "      <th>min</th>\n",
              "      <th>max</th>\n",
              "      <th>first</th>\n",
              "      <th>last</th>\n",
              "    </tr>\n",
              "    <tr>\n",
              "      <th>Date</th>\n",
              "      <th></th>\n",
              "      <th></th>\n",
              "      <th></th>\n",
              "      <th></th>\n",
              "    </tr>\n",
              "  </thead>\n",
              "  <tbody>\n",
              "    <tr>\n",
              "      <th>2024-02-27</th>\n",
              "      <td>56918.454940</td>\n",
              "      <td>56918.454940</td>\n",
              "      <td>56918.454940</td>\n",
              "      <td>56918.454940</td>\n",
              "    </tr>\n",
              "    <tr>\n",
              "      <th>2024-02-28</th>\n",
              "      <td>56857.608883</td>\n",
              "      <td>62496.707961</td>\n",
              "      <td>57003.526737</td>\n",
              "      <td>61348.393441</td>\n",
              "    </tr>\n",
              "    <tr>\n",
              "      <th>2024-02-29</th>\n",
              "      <td>60585.357601</td>\n",
              "      <td>62946.002884</td>\n",
              "      <td>62518.580041</td>\n",
              "      <td>61254.544202</td>\n",
              "    </tr>\n",
              "    <tr>\n",
              "      <th>2024-03-01</th>\n",
              "      <td>60924.702971</td>\n",
              "      <td>63136.302404</td>\n",
              "      <td>61200.700041</td>\n",
              "      <td>62480.701834</td>\n",
              "    </tr>\n",
              "    <tr>\n",
              "      <th>2024-03-02</th>\n",
              "      <td>61825.238012</td>\n",
              "      <td>62417.568521</td>\n",
              "      <td>62417.568521</td>\n",
              "      <td>61855.969161</td>\n",
              "    </tr>\n",
              "    <tr>\n",
              "      <th>2024-03-03</th>\n",
              "      <td>61642.541904</td>\n",
              "      <td>63202.089003</td>\n",
              "      <td>62067.866802</td>\n",
              "      <td>63202.089003</td>\n",
              "    </tr>\n",
              "  </tbody>\n",
              "</table>\n",
              "</div>\n",
              "    <div class=\"colab-df-buttons\">\n",
              "\n",
              "  <div class=\"colab-df-container\">\n",
              "    <button class=\"colab-df-convert\" onclick=\"convertToInteractive('df-14140d95-c1c3-4a39-bb04-2e877d940834')\"\n",
              "            title=\"Convert this dataframe to an interactive table.\"\n",
              "            style=\"display:none;\">\n",
              "\n",
              "  <svg xmlns=\"http://www.w3.org/2000/svg\" height=\"24px\" viewBox=\"0 -960 960 960\">\n",
              "    <path d=\"M120-120v-720h720v720H120Zm60-500h600v-160H180v160Zm220 220h160v-160H400v160Zm0 220h160v-160H400v160ZM180-400h160v-160H180v160Zm440 0h160v-160H620v160ZM180-180h160v-160H180v160Zm440 0h160v-160H620v160Z\"/>\n",
              "  </svg>\n",
              "    </button>\n",
              "\n",
              "  <style>\n",
              "    .colab-df-container {\n",
              "      display:flex;\n",
              "      gap: 12px;\n",
              "    }\n",
              "\n",
              "    .colab-df-convert {\n",
              "      background-color: #E8F0FE;\n",
              "      border: none;\n",
              "      border-radius: 50%;\n",
              "      cursor: pointer;\n",
              "      display: none;\n",
              "      fill: #1967D2;\n",
              "      height: 32px;\n",
              "      padding: 0 0 0 0;\n",
              "      width: 32px;\n",
              "    }\n",
              "\n",
              "    .colab-df-convert:hover {\n",
              "      background-color: #E2EBFA;\n",
              "      box-shadow: 0px 1px 2px rgba(60, 64, 67, 0.3), 0px 1px 3px 1px rgba(60, 64, 67, 0.15);\n",
              "      fill: #174EA6;\n",
              "    }\n",
              "\n",
              "    .colab-df-buttons div {\n",
              "      margin-bottom: 4px;\n",
              "    }\n",
              "\n",
              "    [theme=dark] .colab-df-convert {\n",
              "      background-color: #3B4455;\n",
              "      fill: #D2E3FC;\n",
              "    }\n",
              "\n",
              "    [theme=dark] .colab-df-convert:hover {\n",
              "      background-color: #434B5C;\n",
              "      box-shadow: 0px 1px 3px 1px rgba(0, 0, 0, 0.15);\n",
              "      filter: drop-shadow(0px 1px 2px rgba(0, 0, 0, 0.3));\n",
              "      fill: #FFFFFF;\n",
              "    }\n",
              "  </style>\n",
              "\n",
              "    <script>\n",
              "      const buttonEl =\n",
              "        document.querySelector('#df-14140d95-c1c3-4a39-bb04-2e877d940834 button.colab-df-convert');\n",
              "      buttonEl.style.display =\n",
              "        google.colab.kernel.accessAllowed ? 'block' : 'none';\n",
              "\n",
              "      async function convertToInteractive(key) {\n",
              "        const element = document.querySelector('#df-14140d95-c1c3-4a39-bb04-2e877d940834');\n",
              "        const dataTable =\n",
              "          await google.colab.kernel.invokeFunction('convertToInteractive',\n",
              "                                                    [key], {});\n",
              "        if (!dataTable) return;\n",
              "\n",
              "        const docLinkHtml = 'Like what you see? Visit the ' +\n",
              "          '<a target=\"_blank\" href=https://colab.research.google.com/notebooks/data_table.ipynb>data table notebook</a>'\n",
              "          + ' to learn more about interactive tables.';\n",
              "        element.innerHTML = '';\n",
              "        dataTable['output_type'] = 'display_data';\n",
              "        await google.colab.output.renderOutput(dataTable, element);\n",
              "        const docLink = document.createElement('div');\n",
              "        docLink.innerHTML = docLinkHtml;\n",
              "        element.appendChild(docLink);\n",
              "      }\n",
              "    </script>\n",
              "  </div>\n",
              "\n",
              "\n",
              "<div id=\"df-0dde93e2-c4d7-4d3d-81d0-a06e529fc270\">\n",
              "  <button class=\"colab-df-quickchart\" onclick=\"quickchart('df-0dde93e2-c4d7-4d3d-81d0-a06e529fc270')\"\n",
              "            title=\"Suggest charts\"\n",
              "            style=\"display:none;\">\n",
              "\n",
              "<svg xmlns=\"http://www.w3.org/2000/svg\" height=\"24px\"viewBox=\"0 0 24 24\"\n",
              "     width=\"24px\">\n",
              "    <g>\n",
              "        <path d=\"M19 3H5c-1.1 0-2 .9-2 2v14c0 1.1.9 2 2 2h14c1.1 0 2-.9 2-2V5c0-1.1-.9-2-2-2zM9 17H7v-7h2v7zm4 0h-2V7h2v10zm4 0h-2v-4h2v4z\"/>\n",
              "    </g>\n",
              "</svg>\n",
              "  </button>\n",
              "\n",
              "<style>\n",
              "  .colab-df-quickchart {\n",
              "      --bg-color: #E8F0FE;\n",
              "      --fill-color: #1967D2;\n",
              "      --hover-bg-color: #E2EBFA;\n",
              "      --hover-fill-color: #174EA6;\n",
              "      --disabled-fill-color: #AAA;\n",
              "      --disabled-bg-color: #DDD;\n",
              "  }\n",
              "\n",
              "  [theme=dark] .colab-df-quickchart {\n",
              "      --bg-color: #3B4455;\n",
              "      --fill-color: #D2E3FC;\n",
              "      --hover-bg-color: #434B5C;\n",
              "      --hover-fill-color: #FFFFFF;\n",
              "      --disabled-bg-color: #3B4455;\n",
              "      --disabled-fill-color: #666;\n",
              "  }\n",
              "\n",
              "  .colab-df-quickchart {\n",
              "    background-color: var(--bg-color);\n",
              "    border: none;\n",
              "    border-radius: 50%;\n",
              "    cursor: pointer;\n",
              "    display: none;\n",
              "    fill: var(--fill-color);\n",
              "    height: 32px;\n",
              "    padding: 0;\n",
              "    width: 32px;\n",
              "  }\n",
              "\n",
              "  .colab-df-quickchart:hover {\n",
              "    background-color: var(--hover-bg-color);\n",
              "    box-shadow: 0 1px 2px rgba(60, 64, 67, 0.3), 0 1px 3px 1px rgba(60, 64, 67, 0.15);\n",
              "    fill: var(--button-hover-fill-color);\n",
              "  }\n",
              "\n",
              "  .colab-df-quickchart-complete:disabled,\n",
              "  .colab-df-quickchart-complete:disabled:hover {\n",
              "    background-color: var(--disabled-bg-color);\n",
              "    fill: var(--disabled-fill-color);\n",
              "    box-shadow: none;\n",
              "  }\n",
              "\n",
              "  .colab-df-spinner {\n",
              "    border: 2px solid var(--fill-color);\n",
              "    border-color: transparent;\n",
              "    border-bottom-color: var(--fill-color);\n",
              "    animation:\n",
              "      spin 1s steps(1) infinite;\n",
              "  }\n",
              "\n",
              "  @keyframes spin {\n",
              "    0% {\n",
              "      border-color: transparent;\n",
              "      border-bottom-color: var(--fill-color);\n",
              "      border-left-color: var(--fill-color);\n",
              "    }\n",
              "    20% {\n",
              "      border-color: transparent;\n",
              "      border-left-color: var(--fill-color);\n",
              "      border-top-color: var(--fill-color);\n",
              "    }\n",
              "    30% {\n",
              "      border-color: transparent;\n",
              "      border-left-color: var(--fill-color);\n",
              "      border-top-color: var(--fill-color);\n",
              "      border-right-color: var(--fill-color);\n",
              "    }\n",
              "    40% {\n",
              "      border-color: transparent;\n",
              "      border-right-color: var(--fill-color);\n",
              "      border-top-color: var(--fill-color);\n",
              "    }\n",
              "    60% {\n",
              "      border-color: transparent;\n",
              "      border-right-color: var(--fill-color);\n",
              "    }\n",
              "    80% {\n",
              "      border-color: transparent;\n",
              "      border-right-color: var(--fill-color);\n",
              "      border-bottom-color: var(--fill-color);\n",
              "    }\n",
              "    90% {\n",
              "      border-color: transparent;\n",
              "      border-bottom-color: var(--fill-color);\n",
              "    }\n",
              "  }\n",
              "</style>\n",
              "\n",
              "  <script>\n",
              "    async function quickchart(key) {\n",
              "      const quickchartButtonEl =\n",
              "        document.querySelector('#' + key + ' button');\n",
              "      quickchartButtonEl.disabled = true;  // To prevent multiple clicks.\n",
              "      quickchartButtonEl.classList.add('colab-df-spinner');\n",
              "      try {\n",
              "        const charts = await google.colab.kernel.invokeFunction(\n",
              "            'suggestCharts', [key], {});\n",
              "      } catch (error) {\n",
              "        console.error('Error during call to suggestCharts:', error);\n",
              "      }\n",
              "      quickchartButtonEl.classList.remove('colab-df-spinner');\n",
              "      quickchartButtonEl.classList.add('colab-df-quickchart-complete');\n",
              "    }\n",
              "    (() => {\n",
              "      let quickchartButtonEl =\n",
              "        document.querySelector('#df-0dde93e2-c4d7-4d3d-81d0-a06e529fc270 button');\n",
              "      quickchartButtonEl.style.display =\n",
              "        google.colab.kernel.accessAllowed ? 'block' : 'none';\n",
              "    })();\n",
              "  </script>\n",
              "</div>\n",
              "\n",
              "  <div id=\"id_f07263c2-e19c-4162-8c40-77902f6be12e\">\n",
              "    <style>\n",
              "      .colab-df-generate {\n",
              "        background-color: #E8F0FE;\n",
              "        border: none;\n",
              "        border-radius: 50%;\n",
              "        cursor: pointer;\n",
              "        display: none;\n",
              "        fill: #1967D2;\n",
              "        height: 32px;\n",
              "        padding: 0 0 0 0;\n",
              "        width: 32px;\n",
              "      }\n",
              "\n",
              "      .colab-df-generate:hover {\n",
              "        background-color: #E2EBFA;\n",
              "        box-shadow: 0px 1px 2px rgba(60, 64, 67, 0.3), 0px 1px 3px 1px rgba(60, 64, 67, 0.15);\n",
              "        fill: #174EA6;\n",
              "      }\n",
              "\n",
              "      [theme=dark] .colab-df-generate {\n",
              "        background-color: #3B4455;\n",
              "        fill: #D2E3FC;\n",
              "      }\n",
              "\n",
              "      [theme=dark] .colab-df-generate:hover {\n",
              "        background-color: #434B5C;\n",
              "        box-shadow: 0px 1px 3px 1px rgba(0, 0, 0, 0.15);\n",
              "        filter: drop-shadow(0px 1px 2px rgba(0, 0, 0, 0.3));\n",
              "        fill: #FFFFFF;\n",
              "      }\n",
              "    </style>\n",
              "    <button class=\"colab-df-generate\" onclick=\"generateWithVariable('candlestick_data')\"\n",
              "            title=\"Generate code using this dataframe.\"\n",
              "            style=\"display:none;\">\n",
              "\n",
              "  <svg xmlns=\"http://www.w3.org/2000/svg\" height=\"24px\"viewBox=\"0 0 24 24\"\n",
              "       width=\"24px\">\n",
              "    <path d=\"M7,19H8.4L18.45,9,17,7.55,7,17.6ZM5,21V16.75L18.45,3.32a2,2,0,0,1,2.83,0l1.4,1.43a1.91,1.91,0,0,1,.58,1.4,1.91,1.91,0,0,1-.58,1.4L9.25,21ZM18.45,9,17,7.55Zm-12,3A5.31,5.31,0,0,0,4.9,8.1,5.31,5.31,0,0,0,1,6.5,5.31,5.31,0,0,0,4.9,4.9,5.31,5.31,0,0,0,6.5,1,5.31,5.31,0,0,0,8.1,4.9,5.31,5.31,0,0,0,12,6.5,5.46,5.46,0,0,0,6.5,12Z\"/>\n",
              "  </svg>\n",
              "    </button>\n",
              "    <script>\n",
              "      (() => {\n",
              "      const buttonEl =\n",
              "        document.querySelector('#id_f07263c2-e19c-4162-8c40-77902f6be12e button.colab-df-generate');\n",
              "      buttonEl.style.display =\n",
              "        google.colab.kernel.accessAllowed ? 'block' : 'none';\n",
              "\n",
              "      buttonEl.onclick = () => {\n",
              "        google.colab.notebook.generateWithVariable('candlestick_data');\n",
              "      }\n",
              "      })();\n",
              "    </script>\n",
              "  </div>\n",
              "\n",
              "    </div>\n",
              "  </div>\n"
            ],
            "application/vnd.google.colaboratory.intrinsic+json": {
              "type": "dataframe",
              "variable_name": "candlestick_data",
              "summary": "{\n  \"name\": \"candlestick_data\",\n  \"rows\": 6,\n  \"fields\": [\n    {\n      \"column\": [\n        \"prices\",\n        \"min\"\n      ],\n      \"properties\": {\n        \"dtype\": \"number\",\n        \"std\": 2295.164756080039,\n        \"min\": 56857.608882839384,\n        \"max\": 61825.238012023525,\n        \"num_unique_values\": 6,\n        \"samples\": [\n          56918.454940304226,\n          56857.608882839384,\n          61642.54190363651\n        ],\n        \"semantic_type\": \"\",\n        \"description\": \"\"\n      }\n    },\n    {\n      \"column\": [\n        \"prices\",\n        \"max\"\n      ],\n      \"properties\": {\n        \"dtype\": \"number\",\n        \"std\": 2439.032344040748,\n        \"min\": 56918.454940304226,\n        \"max\": 63202.08900304305,\n        \"num_unique_values\": 6,\n        \"samples\": [\n          56918.454940304226,\n          62496.70796054818,\n          63202.08900304305\n        ],\n        \"semantic_type\": \"\",\n        \"description\": \"\"\n      }\n    },\n    {\n      \"column\": [\n        \"prices\",\n        \"first\"\n      ],\n      \"properties\": {\n        \"dtype\": \"number\",\n        \"std\": 2669.3295750035636,\n        \"min\": 56918.454940304226,\n        \"max\": 62518.58004146406,\n        \"num_unique_values\": 6,\n        \"samples\": [\n          56918.454940304226,\n          57003.52673730811,\n          62067.86680212177\n        ],\n        \"semantic_type\": \"\",\n        \"description\": \"\"\n      }\n    },\n    {\n      \"column\": [\n        \"prices\",\n        \"last\"\n      ],\n      \"properties\": {\n        \"dtype\": \"number\",\n        \"std\": 2210.5301326677036,\n        \"min\": 56918.454940304226,\n        \"max\": 63202.08900304305,\n        \"num_unique_values\": 6,\n        \"samples\": [\n          56918.454940304226,\n          61348.393440923515,\n          63202.08900304305\n        ],\n        \"semantic_type\": \"\",\n        \"description\": \"\"\n      }\n    }\n  ]\n}"
            }
          },
          "metadata": {},
          "execution_count": 7
        }
      ]
    },
    {
      "cell_type": "code",
      "source": [
        "import plotly.graph_objects as go\n",
        "from plotly.offline import plot\n",
        "fig=go.Figure(data=[go.Candlestick(x=candlestick_data.index,\n",
        "              open=candlestick_data['prices']['first'],\n",
        "              high=candlestick_data['prices']['max'],\n",
        "              low=candlestick_data['prices']['min'],\n",
        "              close=candlestick_data['prices']['last'])\n",
        "                    ])\n",
        "fig.update_layout(xaxis_rangeslider_visible=False, xaxis_title='Date',\n",
        "                  yaxis_title='Price (USD $)', title='Bitcoin Candlestick Chart Over Past 30 Days')\n",
        "plot(fig, filename='Bitcoin_Candlestick_graph.html')"
      ],
      "metadata": {
        "colab": {
          "base_uri": "https://localhost:8080/",
          "height": 35
        },
        "id": "SeYDFW1pscje",
        "outputId": "2e9e48ae-6f5c-4fd0-de6f-4fd0d5b65937"
      },
      "id": "SeYDFW1pscje",
      "execution_count": null,
      "outputs": [
        {
          "output_type": "execute_result",
          "data": {
            "text/plain": [
              "'Bitcoin_Candlestick_graph.html'"
            ],
            "application/vnd.google.colaboratory.intrinsic+json": {
              "type": "string"
            }
          },
          "metadata": {},
          "execution_count": 26
        }
      ]
    },
    {
      "cell_type": "code",
      "source": [
        "from IPython.display import Image\n",
        "\n",
        "# Ruta de la imagen en Google Drive\n",
        "path_drive = \"/content/drive/MyDrive/Captura de pantalla (164).png\"\n",
        "\n",
        "# Mostrar la imagen\n",
        "Image(filename=path_drive)"
      ],
      "metadata": {
        "colab": {
          "base_uri": "https://localhost:8080/",
          "height": 546
        },
        "id": "AKumWTZGc7Co",
        "outputId": "b5cb4827-8a94-44dc-a371-8ab6162fb4ce"
      },
      "id": "AKumWTZGc7Co",
      "execution_count": null,
      "outputs": [
        {
          "output_type": "execute_result",
          "data": {
            "image/png": "[encoded data removed]",
            "text/plain": [
              "<IPython.core.display.Image object>"
            ]
          },
          "metadata": {},
          "execution_count": 7
        }
      ]
    },
    {
      "cell_type": "code",
      "source": [
        "!pip install Pillow\n",
        "from IPython.display import Image, display\n",
        "from PIL import Image as PILImage\n",
        "import requests\n",
        "from io import BytesIO\n",
        "\n",
        "# URL de la imagen en la web\n",
        "imagen_url = \"https://upload.wikimedia.org/wikipedia/commons/6/68/Rafael_Nadal_%2812054444625%29.jpg\"\n",
        "\n",
        "# Descargar la imagen desde la web\n",
        "respuesta = requests.get(imagen_url)\n",
        "imagen_bytes = BytesIO(respuesta.content)\n",
        "\n",
        "# Cargar la imagen con Pillow\n",
        "imagen_original = PILImage.open(imagen_bytes)\n",
        "\n",
        "# Nuevo tamaño deseado (ancho x alto)\n",
        "nuevo_ancho = 300\n",
        "nuevo_alto = 200\n",
        "\n",
        "# Redimensionar la imagen\n",
        "imagen_redimensionada = imagen_original.resize((nuevo_ancho, nuevo_alto))\n",
        "\n",
        "# Mostrar la imagen redimensionada\n",
        "display(Image(data=BytesIO(imagen_redimensionada.tobytes())))"
      ],
      "metadata": {
        "colab": {
          "base_uri": "https://localhost:8080/",
          "height": 349
        },
        "id": "GRiZnrkMeIrR",
        "outputId": "0e66d29e-9c4f-4cc6-a7ec-fca8ca9a8289"
      },
      "id": "GRiZnrkMeIrR",
      "execution_count": null,
      "outputs": [
        {
          "output_type": "stream",
          "name": "stdout",
          "text": [
            "Requirement already satisfied: Pillow in /usr/local/lib/python3.10/dist-packages (9.4.0)\n"
          ]
        },
        {
          "output_type": "error",
          "ename": "UnidentifiedImageError",
          "evalue": "cannot identify image file <_io.BytesIO object at 0x796cad0a5cb0>",
          "traceback": [
            "\u001b[0;31m---------------------------------------------------------------------------\u001b[0m",
            "\u001b[0;31mUnidentifiedImageError\u001b[0m                    Traceback (most recent call last)",
            "\u001b[0;32m<ipython-input-9-36b4db6a0670>\u001b[0m in \u001b[0;36m<cell line: 15>\u001b[0;34m()\u001b[0m\n\u001b[1;32m     13\u001b[0m \u001b[0;34m\u001b[0m\u001b[0m\n\u001b[1;32m     14\u001b[0m \u001b[0;31m# Cargar la imagen con Pillow\u001b[0m\u001b[0;34m\u001b[0m\u001b[0;34m\u001b[0m\u001b[0m\n\u001b[0;32m---> 15\u001b[0;31m \u001b[0mimagen_original\u001b[0m \u001b[0;34m=\u001b[0m \u001b[0mPILImage\u001b[0m\u001b[0;34m.\u001b[0m\u001b[0mopen\u001b[0m\u001b[0;34m(\u001b[0m\u001b[0mimagen_bytes\u001b[0m\u001b[0;34m)\u001b[0m\u001b[0;34m\u001b[0m\u001b[0;34m\u001b[0m\u001b[0m\n\u001b[0m\u001b[1;32m     16\u001b[0m \u001b[0;34m\u001b[0m\u001b[0m\n\u001b[1;32m     17\u001b[0m \u001b[0;31m# Nuevo tamaño deseado (ancho x alto)\u001b[0m\u001b[0;34m\u001b[0m\u001b[0;34m\u001b[0m\u001b[0m\n",
            "\u001b[0;32m/usr/local/lib/python3.10/dist-packages/PIL/Image.py\u001b[0m in \u001b[0;36mopen\u001b[0;34m(fp, mode, formats)\u001b[0m\n\u001b[1;32m   3281\u001b[0m         \u001b[0mwarnings\u001b[0m\u001b[0;34m.\u001b[0m\u001b[0mwarn\u001b[0m\u001b[0;34m(\u001b[0m\u001b[0mmessage\u001b[0m\u001b[0;34m)\u001b[0m\u001b[0;34m\u001b[0m\u001b[0;34m\u001b[0m\u001b[0m\n\u001b[1;32m   3282\u001b[0m     \u001b[0mmsg\u001b[0m \u001b[0;34m=\u001b[0m \u001b[0;34m\"cannot identify image file %r\"\u001b[0m \u001b[0;34m%\u001b[0m \u001b[0;34m(\u001b[0m\u001b[0mfilename\u001b[0m \u001b[0;32mif\u001b[0m \u001b[0mfilename\u001b[0m \u001b[0;32melse\u001b[0m \u001b[0mfp\u001b[0m\u001b[0;34m)\u001b[0m\u001b[0;34m\u001b[0m\u001b[0;34m\u001b[0m\u001b[0m\n\u001b[0;32m-> 3283\u001b[0;31m     \u001b[0;32mraise\u001b[0m \u001b[0mUnidentifiedImageError\u001b[0m\u001b[0;34m(\u001b[0m\u001b[0mmsg\u001b[0m\u001b[0;34m)\u001b[0m\u001b[0;34m\u001b[0m\u001b[0;34m\u001b[0m\u001b[0m\n\u001b[0m\u001b[1;32m   3284\u001b[0m \u001b[0;34m\u001b[0m\u001b[0m\n\u001b[1;32m   3285\u001b[0m \u001b[0;34m\u001b[0m\u001b[0m\n",
            "\u001b[0;31mUnidentifiedImageError\u001b[0m: cannot identify image file <_io.BytesIO object at 0x796cad0a5cb0>"
          ]
        }
      ]
    },
    {
      "cell_type": "markdown",
      "source": [
        "# Web Scraping  \n",
        "Necesitamos la yuda de dos módulos: Requests y BeautifulSoap"
      ],
      "metadata": {
        "id": "ruCfDInlF6n8"
      },
      "id": "ruCfDInlF6n8"
    },
    {
      "cell_type": "code",
      "source": [
        "# es ilustrativo no correr\n",
        "from bs4 import BeautifulSoup\n",
        "html=\"<html>....</html>\"\n",
        "\n",
        "soup=BeautifulSoup(html,'html5lib')"
      ],
      "metadata": {
        "id": "on0R3gypOtZl"
      },
      "id": "on0R3gypOtZl",
      "execution_count": null,
      "outputs": []
    },
    {
      "cell_type": "markdown",
      "source": [
        "Podemos almacenar el HTML de la página web como una Cadena en la variable HTML.\n",
        "En Python, Beautiful Soup utiliza diferentes analizadores para procesar el HTML y extraer información. Cuando utilizas BeautifulSoup con el analizador 'html5lib', estás indicando que deseas utilizar el analizador de HTML5 para interpretar el código HTML que le estás proporcionando. Este analizador es más lento en comparación con otros, pero es conocido por interpretar el HTML de una manera más rigurosa y acorde con las especificaciones.  \n",
        "Para analizar un documento, páselo al constructor de BeautifulSoup. Obtendremos el objeto Beautiful Soup , soup, que representa el documento como una estructura de datos anidada. BeautifulSoup representa el HTML como un conjunto de objetos similares a un Árbol con métodos utilizados para analizar el HTML."
      ],
      "metadata": {
        "id": "veVaRMHBPhbF"
      },
      "id": "veVaRMHBPhbF"
    },
    {
      "cell_type": "markdown",
      "source": [
        "Primero, el documento se convierte a Unicode (similar a ASCII) y las entidades HTML se convierten a caracteres Unicode. Beautiful Soup transforma un documento HTML complejo en un árbol complejo de objetos Python. El objeto BeautifulSoup puede crear otros tipos de objetos. En esta práctica de laboratorio, cubriremos los objetos BeautifulSoup y Tag, que para los fines de esta práctica de laboratorio son idénticos. Finalmente, veremos los objetos NavigableString."
      ],
      "metadata": {
        "id": "ePtPsp9n9cWS"
      },
      "id": "ePtPsp9n9cWS"
    },
    {
      "cell_type": "code",
      "source": [
        "from IPython.display import Image\n",
        "\n",
        "# Ruta de la imagen en Google Drive\n",
        "path_drive = \"/content/drive/MyDrive/TAG.PNG\"\n",
        "\n",
        "# Mostrar la imagen\n",
        "Image(filename=path_drive)"
      ],
      "metadata": {
        "colab": {
          "base_uri": "https://localhost:8080/",
          "height": 322
        },
        "id": "FI-4uZt4OzEY",
        "outputId": "b4935db9-b1d5-4616-cac8-7f621909d614"
      },
      "id": "FI-4uZt4OzEY",
      "execution_count": null,
      "outputs": [
        {
          "output_type": "execute_result",
          "data": {
            "image/png": "[encoded data removed]",
            "text/plain": [
              "<IPython.core.display.Image object>"
            ]
          },
          "metadata": {},
          "execution_count": 3
        }
      ]
    },
    {
      "cell_type": "markdown",
      "source": [],
      "metadata": {
        "id": "UfnrzOr09dmg"
      },
      "id": "UfnrzOr09dmg"
    },
    {
      "cell_type": "code",
      "source": [
        "x= '8'\n",
        "if(x!=1):\n",
        " print('How are you?')\n",
        "else:\n",
        " print('Hi')"
      ],
      "metadata": {
        "colab": {
          "base_uri": "https://localhost:8080/"
        },
        "id": "-0PTlsPdE8JB",
        "outputId": "58d59008-b226-415b-941f-afd6b040e587"
      },
      "id": "-0PTlsPdE8JB",
      "execution_count": null,
      "outputs": [
        {
          "output_type": "stream",
          "name": "stdout",
          "text": [
            "How are you?\n"
          ]
        }
      ]
    },
    {
      "cell_type": "code",
      "source": [
        "\n",
        "def add(x):\n",
        "  return(x+x)\n",
        "add('2')"
      ],
      "metadata": {
        "colab": {
          "base_uri": "https://localhost:8080/",
          "height": 35
        },
        "id": "mT8hT-u5FovM",
        "outputId": "7a322b60-2f86-4d20-e4aa-db59ea53db96"
      },
      "id": "mT8hT-u5FovM",
      "execution_count": null,
      "outputs": [
        {
          "output_type": "execute_result",
          "data": {
            "text/plain": [
              "'11'"
            ],
            "application/vnd.google.colaboratory.intrinsic+json": {
              "type": "string"
            }
          },
          "metadata": {},
          "execution_count": 8
        }
      ]
    },
    {
      "cell_type": "code",
      "source": [
        "A=['1','2','3']\n",
        "for a in A:\n",
        "  print(2*a)"
      ],
      "metadata": {
        "colab": {
          "base_uri": "https://localhost:8080/"
        },
        "id": "or2C_paMGd4r",
        "outputId": "16a22158-878d-407c-d33d-7f9995f6daee"
      },
      "id": "or2C_paMGd4r",
      "execution_count": null,
      "outputs": [
        {
          "output_type": "stream",
          "name": "stdout",
          "text": [
            "11\n",
            "22\n",
            "33\n"
          ]
        }
      ]
    },
    {
      "cell_type": "code",
      "source": [
        "for i in range(1,5):\n",
        "  if (i!=1):\n",
        "    print(i)"
      ],
      "metadata": {
        "colab": {
          "base_uri": "https://localhost:8080/"
        },
        "id": "PxR5xA3xGro-",
        "outputId": "3980245a-80d4-4d90-a8af-6beec2ca47d0"
      },
      "id": "PxR5xA3xGro-",
      "execution_count": null,
      "outputs": [
        {
          "output_type": "stream",
          "name": "stdout",
          "text": [
            "2\n",
            "3\n",
            "4\n"
          ]
        }
      ]
    },
    {
      "cell_type": "code",
      "source": [
        " import numpy as np\n",
        " a=np.array([0,1,0,1,0])\n",
        " b=np.array([1,0,1,0,1])\n",
        " a+b"
      ],
      "metadata": {
        "colab": {
          "base_uri": "https://localhost:8080/"
        },
        "id": "6BtQ1Zf2G3NC",
        "outputId": "777b59d4-a98b-4d5c-9e50-e79e05b159e4"
      },
      "id": "6BtQ1Zf2G3NC",
      "execution_count": null,
      "outputs": [
        {
          "output_type": "execute_result",
          "data": {
            "text/plain": [
              "array([1, 1, 1, 1, 1])"
            ]
          },
          "metadata": {},
          "execution_count": 17
        }
      ]
    },
    {
      "cell_type": "code",
      "source": [
        "a=np.array([10,9,8,7,6])\n",
        "a+1"
      ],
      "metadata": {
        "colab": {
          "base_uri": "https://localhost:8080/"
        },
        "id": "G7QJtDgRHeF4",
        "outputId": "d673f20c-af13-47f5-eb59-1127e85bbd15"
      },
      "id": "G7QJtDgRHeF4",
      "execution_count": null,
      "outputs": [
        {
          "output_type": "execute_result",
          "data": {
            "text/plain": [
              "array([11, 10,  9,  8,  7])"
            ]
          },
          "metadata": {},
          "execution_count": 18
        }
      ]
    },
    {
      "cell_type": "markdown",
      "source": [
        "## Introducción a la ciencia de los datos en Python Universidad de Míchigan"
      ],
      "metadata": {
        "id": "eTF91-ixwAsk"
      },
      "id": "eTF91-ixwAsk"
    },
    {
      "cell_type": "code",
      "source": [
        "import numpy as np\n",
        "h=np.array([[1, 2, 3], [4, 5, 6]])\n",
        "h_reshaped = np.reshape(h, newshape=(3, 2))\n",
        "# qué forma le vamos a dar una matriz\n",
        "print(h_reshaped)"
      ],
      "metadata": {
        "colab": {
          "base_uri": "https://localhost:8080/"
        },
        "id": "Dm6Ho5D5v-NQ",
        "outputId": "d7919a14-8a55-4cdf-9aa5-34c67718417a"
      },
      "id": "Dm6Ho5D5v-NQ",
      "execution_count": null,
      "outputs": [
        {
          "output_type": "stream",
          "name": "stdout",
          "text": [
            "[[1 2]\n",
            " [3 4]\n",
            " [5 6]]\n"
          ]
        }
      ]
    },
    {
      "cell_type": "code",
      "source": [
        "h.resize # se utiliza para cambiar la forma y tamaño de una matriz NumPy existente\n",
        "h"
      ],
      "metadata": {
        "colab": {
          "base_uri": "https://localhost:8080/"
        },
        "id": "o8o7d2gbxC8V",
        "outputId": "8f49f514-d320-422f-c762-65725a801313"
      },
      "id": "o8o7d2gbxC8V",
      "execution_count": null,
      "outputs": [
        {
          "output_type": "execute_result",
          "data": {
            "text/plain": [
              "array([[1, 2, 3],\n",
              "       [4, 5, 6]])"
            ]
          },
          "metadata": {},
          "execution_count": 14
        }
      ]
    },
    {
      "cell_type": "code",
      "source": [
        "arr = np.ones((3, 5))\n",
        "\n",
        "print(arr)"
      ],
      "metadata": {
        "colab": {
          "base_uri": "https://localhost:8080/"
        },
        "id": "ul6xKBPYz-tS",
        "outputId": "1539de21-f7ed-4f3f-8e84-49990746dcb4"
      },
      "id": "ul6xKBPYz-tS",
      "execution_count": null,
      "outputs": [
        {
          "output_type": "stream",
          "name": "stdout",
          "text": [
            "[[1. 1. 1. 1. 1.]\n",
            " [1. 1. 1. 1. 1.]\n",
            " [1. 1. 1. 1. 1.]]\n"
          ]
        }
      ]
    },
    {
      "cell_type": "code",
      "source": [
        "arr = np.zeros((3, 5))\n",
        "\n",
        "print(arr)"
      ],
      "metadata": {
        "colab": {
          "base_uri": "https://localhost:8080/"
        },
        "id": "RGuHqKi60Uuz",
        "outputId": "d0e4f5e4-4da0-4529-f608-39ddc5447d94"
      },
      "id": "RGuHqKi60Uuz",
      "execution_count": null,
      "outputs": [
        {
          "output_type": "stream",
          "name": "stdout",
          "text": [
            "[[0. 0. 0. 0. 0.]\n",
            " [0. 0. 0. 0. 0.]\n",
            " [0. 0. 0. 0. 0.]]\n"
          ]
        }
      ]
    },
    {
      "cell_type": "code",
      "source": [
        "# Modificar elementos para obtener una matriz de identidad\n",
        "arr[:3, :3] = np.eye(3)\n",
        "\n",
        "print(arr)"
      ],
      "metadata": {
        "colab": {
          "base_uri": "https://localhost:8080/"
        },
        "id": "ZppiU-BE0X9r",
        "outputId": "b9d82cab-7d85-4039-cb1d-740cad50b430"
      },
      "id": "ZppiU-BE0X9r",
      "execution_count": null,
      "outputs": [
        {
          "output_type": "stream",
          "name": "stdout",
          "text": [
            "[[1. 0. 0. 0. 0.]\n",
            " [0. 1. 0. 0. 0.]\n",
            " [0. 0. 1. 0. 0.]]\n"
          ]
        }
      ]
    },
    {
      "cell_type": "code",
      "source": [
        "np.diag(arr)"
      ],
      "metadata": {
        "colab": {
          "base_uri": "https://localhost:8080/"
        },
        "id": "Ws4Gq7O60l76",
        "outputId": "4904ba45-af2f-446c-81ba-91772ba05146"
      },
      "id": "Ws4Gq7O60l76",
      "execution_count": null,
      "outputs": [
        {
          "output_type": "execute_result",
          "data": {
            "text/plain": [
              "array([1., 1., 1.])"
            ]
          },
          "metadata": {},
          "execution_count": 24
        }
      ]
    },
    {
      "cell_type": "code",
      "source": [
        "j=np.array(h*3)\n",
        "j"
      ],
      "metadata": {
        "colab": {
          "base_uri": "https://localhost:8080/"
        },
        "id": "AGqnBFAMJxUY",
        "outputId": "dbe102ec-9ab1-4083-f30f-a75fadaf51cf"
      },
      "id": "AGqnBFAMJxUY",
      "execution_count": null,
      "outputs": [
        {
          "output_type": "execute_result",
          "data": {
            "text/plain": [
              "array([[ 3,  6,  9],\n",
              "       [12, 15, 18]])"
            ]
          },
          "metadata": {},
          "execution_count": 26
        }
      ]
    },
    {
      "cell_type": "code",
      "source": [
        "j=np.repeat(h,3)\n",
        "j"
      ],
      "metadata": {
        "colab": {
          "base_uri": "https://localhost:8080/"
        },
        "id": "sIAh8km6ZzMq",
        "outputId": "078bd266-581a-4c9a-a8ef-6794b7ddd433"
      },
      "id": "sIAh8km6ZzMq",
      "execution_count": null,
      "outputs": [
        {
          "output_type": "execute_result",
          "data": {
            "text/plain": [
              "array([1, 1, 1, 2, 2, 2, 3, 3, 3, 4, 4, 4, 5, 5, 5, 6, 6, 6])"
            ]
          },
          "metadata": {},
          "execution_count": 28
        }
      ]
    },
    {
      "cell_type": "code",
      "source": [
        "h_reshaped"
      ],
      "metadata": {
        "colab": {
          "base_uri": "https://localhost:8080/"
        },
        "id": "5bHPqvO-NqP6",
        "outputId": "6c68a0d0-7211-470a-ec34-39d2918b29e0"
      },
      "id": "5bHPqvO-NqP6",
      "execution_count": null,
      "outputs": [
        {
          "output_type": "execute_result",
          "data": {
            "text/plain": [
              "array([[1, 2],\n",
              "       [3, 4],\n",
              "       [5, 6]])"
            ]
          },
          "metadata": {},
          "execution_count": 8
        }
      ]
    },
    {
      "cell_type": "code",
      "source": [
        "l=np.vstack((h_reshaped,h_reshaped*2))\n",
        "print(l) # apila matrices verticalmente"
      ],
      "metadata": {
        "colab": {
          "base_uri": "https://localhost:8080/"
        },
        "id": "IzegSGaoZ_LI",
        "outputId": "41870577-f9d1-4c7e-ee6a-f8507ef1a775"
      },
      "id": "IzegSGaoZ_LI",
      "execution_count": null,
      "outputs": [
        {
          "output_type": "stream",
          "name": "stdout",
          "text": [
            "[[ 1  2]\n",
            " [ 3  4]\n",
            " [ 5  6]\n",
            " [ 2  4]\n",
            " [ 6  8]\n",
            " [10 12]]\n"
          ]
        }
      ]
    },
    {
      "cell_type": "code",
      "source": [
        "ll=np.hstack((h_reshaped,h_reshaped*2))\n",
        "print(ll) # apila matrices horizontalmente"
      ],
      "metadata": {
        "colab": {
          "base_uri": "https://localhost:8080/"
        },
        "id": "NJQwNcWcTD1i",
        "outputId": "9a07aaf2-326e-4a75-f12d-4388863d3eba"
      },
      "id": "NJQwNcWcTD1i",
      "execution_count": null,
      "outputs": [
        {
          "output_type": "stream",
          "name": "stdout",
          "text": [
            "[[ 1  2  2  4]\n",
            " [ 3  4  6  8]\n",
            " [ 5  6 10 12]]\n"
          ]
        }
      ]
    },
    {
      "cell_type": "code",
      "source": [
        "m=np.array([ll,ll**2])\n",
        "m"
      ],
      "metadata": {
        "colab": {
          "base_uri": "https://localhost:8080/"
        },
        "id": "TSlewpdsTiyb",
        "outputId": "fcb241dd-6d4f-4c9f-f6a1-9ce375dc246a"
      },
      "id": "TSlewpdsTiyb",
      "execution_count": null,
      "outputs": [
        {
          "output_type": "execute_result",
          "data": {
            "text/plain": [
              "array([[[  1,   2,   2,   4],\n",
              "        [  3,   4,   6,   8],\n",
              "        [  5,   6,  10,  12]],\n",
              "\n",
              "       [[  1,   4,   4,  16],\n",
              "        [  9,  16,  36,  64],\n",
              "        [ 25,  36, 100, 144]]])"
            ]
          },
          "metadata": {},
          "execution_count": 12
        }
      ]
    },
    {
      "cell_type": "code",
      "source": [
        "ñ=ll.T\n",
        "ñ # la primera fila en el primer columna"
      ],
      "metadata": {
        "colab": {
          "base_uri": "https://localhost:8080/"
        },
        "id": "sKi0WNAnT05f",
        "outputId": "82c477cd-a4fd-4100-a5ee-dbb341afac4c"
      },
      "id": "sKi0WNAnT05f",
      "execution_count": null,
      "outputs": [
        {
          "output_type": "execute_result",
          "data": {
            "text/plain": [
              "array([[ 1,  3,  5],\n",
              "       [ 2,  4,  6],\n",
              "       [ 2,  6, 10],\n",
              "       [ 4,  8, 12]])"
            ]
          },
          "metadata": {},
          "execution_count": 14
        }
      ]
    },
    {
      "cell_type": "code",
      "source": [
        "o=ñ.T.shape\n",
        "o # T recordemos que vuelve a la forma anterior: ñ-->ll"
      ],
      "metadata": {
        "colab": {
          "base_uri": "https://localhost:8080/"
        },
        "id": "1S7TjyUCUbPw",
        "outputId": "240728f5-ebe1-498d-d6bc-fd9b7699a7c5"
      },
      "id": "1S7TjyUCUbPw",
      "execution_count": null,
      "outputs": [
        {
          "output_type": "execute_result",
          "data": {
            "text/plain": [
              "(3, 4)"
            ]
          },
          "metadata": {},
          "execution_count": 17
        }
      ]
    },
    {
      "cell_type": "code",
      "source": [
        "p=np.arrays"
      ],
      "metadata": {
        "colab": {
          "base_uri": "https://localhost:8080/"
        },
        "id": "s9WrxNPPUvHu",
        "outputId": "b76d13cb-0ea2-4712-8494-4fbfcb6ccab4"
      },
      "id": "s9WrxNPPUvHu",
      "execution_count": null,
      "outputs": [
        {
          "output_type": "execute_result",
          "data": {
            "text/plain": [
              "(3, 4)"
            ]
          },
          "metadata": {},
          "execution_count": 18
        }
      ]
    }
  ],
  "metadata": {
    "kernelspec": {
      "display_name": "Python 3 (ipykernel)",
      "language": "python",
      "name": "python3"
    },
    "language_info": {
      "codemirror_mode": {
        "name": "ipython",
        "version": 3
      },
      "file_extension": ".py",
      "mimetype": "text/x-python",
      "name": "python",
      "nbconvert_exporter": "python",
      "pygments_lexer": "ipython3",
      "version": "3.9.16"
    },
    "colab": {
      "provenance": []
    }
  },
  "nbformat": 4,
  "nbformat_minor": 5
}