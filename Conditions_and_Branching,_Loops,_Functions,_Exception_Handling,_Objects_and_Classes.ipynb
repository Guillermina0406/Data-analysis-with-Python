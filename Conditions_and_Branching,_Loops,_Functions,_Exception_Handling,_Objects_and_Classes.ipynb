{
  "cells": [
    {
      "cell_type": "markdown",
      "metadata": {
        "id": "view-in-github",
        "colab_type": "text"
      },
      "source": [
        "<a href=\"https://colab.research.google.com/github/Guillermina0406/Data-analysis-with-Python/blob/main/Conditions_and_Branching%2C_Loops%2C_Functions%2C_Exception_Handling%2C_Objects_and_Classes.ipynb\" target=\"_parent\"><img src=\"https://colab.research.google.com/assets/colab-badge.svg\" alt=\"Open In Colab\"/></a>"
      ]
    },
    {
      "cell_type": "markdown",
      "id": "8ac4e0a8",
      "metadata": {
        "id": "8ac4e0a8"
      },
      "source": [
        "Branching"
      ]
    },
    {
      "cell_type": "code",
      "execution_count": null,
      "id": "3ff24a97",
      "metadata": {
        "id": "3ff24a97",
        "outputId": "a7d93a30-96e0-4b9f-fd98-d4b8845ae275"
      },
      "outputs": [
        {
          "name": "stdout",
          "output_type": "stream",
          "text": [
            "go see Pink Floyd\n",
            "move on\n"
          ]
        }
      ],
      "source": [
        "age = 18\n",
        "\n",
        "if age > 18:\n",
        "    print(\"you can enter\" )\n",
        "elif age == 18:\n",
        "    print(\"go see Pink Floyd\")\n",
        "else:\n",
        "    print(\"go see Meat Loaf\" )\n",
        "\n",
        "print(\"move on\")"
      ]
    },
    {
      "cell_type": "markdown",
      "id": "909875e3",
      "metadata": {
        "id": "909875e3"
      },
      "source": [
        "<h3 id=\"logic\">Logical operators</h3>"
      ]
    },
    {
      "cell_type": "markdown",
      "id": "30298db8",
      "metadata": {
        "id": "30298db8"
      },
      "source": [
        "AND &, es true si ambas se cumplen <br/>\n",
        "OR, mientras una de ellas (o ambas) se cumpla es True <br/>\n",
        "NOT, The not statement outputs the opposite truth value."
      ]
    },
    {
      "cell_type": "code",
      "execution_count": null,
      "id": "6ea3a5ec",
      "metadata": {
        "id": "6ea3a5ec",
        "outputId": "83a72b4a-181d-48a5-c1c3-6f736cb1bff5"
      },
      "outputs": [
        {
          "name": "stdout",
          "output_type": "stream",
          "text": [
            "Album was not made in the 1980's\n"
          ]
        }
      ],
      "source": [
        "# Condition statement example\n",
        "\n",
        "album_year = 1990\n",
        "\n",
        "if(album_year < 1980) or (album_year > 1989):\n",
        "    print (\"Album was not made in the 1980's\")\n",
        "else:\n",
        "    print(\"The Album was made in the 1980's \")"
      ]
    },
    {
      "cell_type": "code",
      "execution_count": null,
      "id": "24192239",
      "metadata": {
        "id": "24192239",
        "outputId": "6434a936-7d25-4d2b-93e0-6c162534566d"
      },
      "outputs": [
        {
          "name": "stdout",
          "output_type": "stream",
          "text": [
            "Album year is not 1984\n"
          ]
        }
      ],
      "source": [
        "# Condition statement example\n",
        "\n",
        "album_year = 1983\n",
        "\n",
        "if not (album_year == 1984):\n",
        "    print (\"Album year is not 1984\")"
      ]
    },
    {
      "cell_type": "markdown",
      "id": "2c03632e",
      "metadata": {
        "id": "2c03632e"
      },
      "source": [
        "Write an if statement to determine if an album had a rating greater than 8. Test it using the rating for the album “Back in Black” that had a rating of 8.5. If the statement is true print \"This album is Amazing!\""
      ]
    },
    {
      "cell_type": "code",
      "execution_count": null,
      "id": "ce95b898",
      "metadata": {
        "id": "ce95b898",
        "outputId": "791bed9a-fdda-411b-b345-9e1febeebd57"
      },
      "outputs": [
        {
          "name": "stdout",
          "output_type": "stream",
          "text": [
            "This album is Amazing!\n"
          ]
        }
      ],
      "source": [
        "Back_in_Black=8.5\n",
        "if (Back_in_Black>8):\n",
        "    print ( \"This album is Amazing!\")"
      ]
    },
    {
      "cell_type": "markdown",
      "id": "beb6139a",
      "metadata": {
        "id": "beb6139a"
      },
      "source": [
        "Write an if-else statement that performs the following. If the rating is larger then eight print “this album is amazing”. If the rating is less than or equal to 8 print “this album is ok”."
      ]
    },
    {
      "cell_type": "code",
      "execution_count": null,
      "id": "5c936a35",
      "metadata": {
        "id": "5c936a35",
        "outputId": "e547053b-cd66-4d9e-df6a-d7721824c262"
      },
      "outputs": [
        {
          "name": "stdout",
          "output_type": "stream",
          "text": [
            "this album is ok\n"
          ]
        }
      ],
      "source": [
        "Back_in_Black=7\n",
        "if (Back_in_Black>8):\n",
        "    print ( \"This album is Amazing!\")\n",
        "else:\n",
        "    print(\"this album is ok\")"
      ]
    },
    {
      "cell_type": "markdown",
      "id": "6cc3751a",
      "metadata": {
        "id": "6cc3751a"
      },
      "source": [
        "Write an if statement to determine if an album came out before 1980 or in the years: 1991 or 1993. If the condition is true print out the year the album came out."
      ]
    },
    {
      "cell_type": "code",
      "execution_count": null,
      "id": "9dfe63d5",
      "metadata": {
        "id": "9dfe63d5",
        "outputId": "621feca2-f52b-4e80-ea8e-63aee634e9d7"
      },
      "outputs": [
        {
          "name": "stdout",
          "output_type": "stream",
          "text": [
            "Album was made in the 1979\n"
          ]
        }
      ],
      "source": [
        "album_year = 1979\n",
        "if(album_year < 1980 or album_year == 1991 or album_year == 1993):\n",
        "    print (\"Album was made in the\", album_year)"
      ]
    },
    {
      "cell_type": "markdown",
      "id": "e86944ba",
      "metadata": {
        "id": "e86944ba"
      },
      "source": [
        "<h3 id=\"logic\">Loops</h3>"
      ]
    },
    {
      "cell_type": "markdown",
      "id": "07061db8",
      "metadata": {
        "id": "07061db8"
      },
      "source": [
        "Sometimes, you might want to repeat a given operation many times. Repeated executions like this are performed by loops. We will look at two types of loops, for loops and while loops."
      ]
    },
    {
      "cell_type": "code",
      "execution_count": null,
      "id": "eb06de5f",
      "metadata": {
        "id": "eb06de5f",
        "outputId": "fdf6d0fc-8f4e-4f8f-9303-6b13e9411ae0"
      },
      "outputs": [
        {
          "name": "stdout",
          "output_type": "stream",
          "text": [
            "1982\n",
            "1980\n",
            "1973\n"
          ]
        }
      ],
      "source": [
        "# For loop example\n",
        "\n",
        "dates = [1982,1980,1973]\n",
        "N = len(dates)\n",
        "\n",
        "for i in range(N):  #for year in dates:\n",
        "    print(dates[i])  #print(year)\n",
        ""
      ]
    },
    {
      "cell_type": "code",
      "execution_count": null,
      "id": "248a0293",
      "metadata": {
        "id": "248a0293",
        "outputId": "7c052707-4b86-4cb8-d730-741cb85f37c1"
      },
      "outputs": [
        {
          "name": "stdout",
          "output_type": "stream",
          "text": [
            "Before square  0 is red\n",
            "After square  0 is white\n",
            "Before square  1 is yellow\n",
            "After square  1 is white\n",
            "Before square  2 is green\n",
            "After square  2 is white\n",
            "Before square  3 is purple\n",
            "After square  3 is white\n",
            "Before square  4 is blue\n",
            "After square  4 is white\n"
          ]
        }
      ],
      "source": [
        "# Use for loop to change the elements in list\n",
        "\n",
        "squares = ['red', 'yellow', 'green', 'purple', 'blue']\n",
        "\n",
        "for i in range(0, 5):\n",
        "    print(\"Before square \", i, 'is',  squares[i])\n",
        "    squares[i] = 'white'\n",
        "    print(\"After square \", i, 'is',  squares[i])# Use for loop to change the elements in list"
      ]
    },
    {
      "cell_type": "code",
      "execution_count": null,
      "id": "0f010033",
      "metadata": {
        "id": "0f010033",
        "outputId": "302b409f-b2af-4abb-d343-7ac9e02eb2ee"
      },
      "outputs": [
        {
          "name": "stdout",
          "output_type": "stream",
          "text": [
            "0 red\n",
            "1 yellow\n",
            "2 green\n",
            "3 purple\n",
            "4 blue\n"
          ]
        }
      ],
      "source": [
        "# Loop through the list and iterate on both index and element value\n",
        "\n",
        "squares=['red', 'yellow', 'green', 'purple', 'blue']\n",
        "\n",
        "for i, square in enumerate(squares):\n",
        "    print(i, square)"
      ]
    },
    {
      "cell_type": "markdown",
      "id": "5281b35c",
      "metadata": {
        "id": "5281b35c"
      },
      "source": [
        "What is <b><code>__while loop__</code></b>? when we want to keep executing a code block until a certain condition is met. The while loop exists as a tool for repeated execution based on a condition."
      ]
    },
    {
      "cell_type": "code",
      "execution_count": null,
      "id": "85c55403",
      "metadata": {
        "id": "85c55403",
        "outputId": "29297c7a-c7a8-45b2-8b0c-8f1e61906b9e"
      },
      "outputs": [
        {
          "name": "stdout",
          "output_type": "stream",
          "text": [
            "1982\n",
            "1980\n",
            "It took  2 repetitions to get out of loop.\n"
          ]
        }
      ],
      "source": [
        "# While Loop Example\n",
        "# we would like to iterate through list dates and stop at the year 1973, then print out the number of iterations:\n",
        "dates = [1982, 1980, 1973, 2000]\n",
        "\n",
        "i = 0\n",
        "year = dates[0]\n",
        "\n",
        "while(year != 1973):\n",
        "    print(year)\n",
        "    i = i + 1\n",
        "    year = dates[i]\n",
        "\n",
        "\n",
        "print(\"It took \", i ,\"repetitions to get out of loop.\")"
      ]
    },
    {
      "cell_type": "markdown",
      "id": "893a2e7c",
      "metadata": {
        "id": "893a2e7c"
      },
      "source": [
        "<h3 id=\"logic\">Functions</h3>"
      ]
    },
    {
      "cell_type": "markdown",
      "id": "fc258cfa",
      "metadata": {
        "id": "fc258cfa"
      },
      "source": [
        "A function is a reusable block of code which performs operations specified in the function. They let you break down tasks and allow you to reuse your code in different programs.\n",
        "\n",
        "There are two types of functions :\n",
        "\n",
        "Pre-defined functions <br/>\n",
        "User defined functions"
      ]
    },
    {
      "cell_type": "markdown",
      "id": "e610f494",
      "metadata": {
        "id": "e610f494"
      },
      "source": [
        "Here are simple rules to define a function in Python:\n",
        "\n",
        "Functions blocks begin def followed by the function name and parentheses (). <br/>\n",
        "There are input parameters or arguments that should be placed within these parentheses.<br/>\n",
        "You can also define parameters inside these parentheses.<br/>\n",
        "There is a body within every function that starts with a colon (:) and is indented.<br/>\n",
        "You can also place documentation before the body.<br/>\n",
        "The statement return exits a function, optionally passing back a value.<br/>\n",
        "An example of a function that adds on to the parameter a prints and returns the output as b:"
      ]
    },
    {
      "cell_type": "code",
      "execution_count": null,
      "id": "88c56eb2",
      "metadata": {
        "id": "88c56eb2"
      },
      "outputs": [],
      "source": [
        "# First function example: Add 1 to a and store as b\n",
        "\n",
        "def add(a):\n",
        "    \"\"\"\n",
        "    add 1 to a\n",
        "    \"\"\"\n",
        "    b = a + 1\n",
        "    print(a, \"if you add one\", b)\n",
        "    return(b)"
      ]
    },
    {
      "cell_type": "code",
      "execution_count": null,
      "id": "022d2d90",
      "metadata": {
        "id": "022d2d90",
        "outputId": "d90fb031-1c9d-4dfc-eabc-1cea640e0f3e"
      },
      "outputs": [
        {
          "name": "stdout",
          "output_type": "stream",
          "text": [
            "5 if you add one 6\n"
          ]
        },
        {
          "data": {
            "text/plain": [
              "6"
            ]
          },
          "execution_count": 8,
          "metadata": {},
          "output_type": "execute_result"
        }
      ],
      "source": [
        "# Call the function add()\n",
        "add(5)"
      ]
    },
    {
      "cell_type": "code",
      "execution_count": null,
      "id": "76a24cd4",
      "metadata": {
        "id": "76a24cd4",
        "outputId": "113585eb-86d3-45b2-e5f5-c80bbc39f426"
      },
      "outputs": [
        {
          "name": "stdout",
          "output_type": "stream",
          "text": [
            "Help on function add in module __main__:\n",
            "\n",
            "add(a)\n",
            "    add 1 to a\n",
            "\n"
          ]
        }
      ],
      "source": [
        "# Get a help on add function\n",
        "help(add)"
      ]
    },
    {
      "cell_type": "code",
      "execution_count": null,
      "id": "aa3c8b85",
      "metadata": {
        "id": "aa3c8b85",
        "outputId": "50128173-bea0-4f1a-918e-70d981fbb70f"
      },
      "outputs": [
        {
          "name": "stdout",
          "output_type": "stream",
          "text": [
            "24\n"
          ]
        }
      ],
      "source": [
        "# Define a function for multiple two numbers\n",
        "\n",
        "def Mult(a, b):\n",
        "    c = a * b\n",
        "    return(c)\n",
        "    print('This is not printed')\n",
        "\n",
        "result = Mult(12,2)\n",
        "print(result)"
      ]
    },
    {
      "cell_type": "code",
      "execution_count": null,
      "id": "f7f23933",
      "metadata": {
        "id": "f7f23933",
        "outputId": "c3ba4f6f-3531-4b2b-cd24-a82a36537dd3"
      },
      "outputs": [
        {
          "data": {
            "text/plain": [
              "24"
            ]
          },
          "execution_count": 11,
          "metadata": {},
          "output_type": "execute_result"
        }
      ],
      "source": [
        "# Use mult() multiply two integers\n",
        "Mult(12,2)"
      ]
    },
    {
      "cell_type": "code",
      "execution_count": null,
      "id": "60994687",
      "metadata": {
        "id": "60994687",
        "outputId": "c147577d-0a16-4323-efdd-b6b2948e5c0a"
      },
      "outputs": [
        {
          "data": {
            "text/plain": [
              "6.3"
            ]
          },
          "execution_count": 12,
          "metadata": {},
          "output_type": "execute_result"
        }
      ],
      "source": [
        "# Use mult() multiply two floats\n",
        "Mult(10.5,0.6)"
      ]
    },
    {
      "cell_type": "markdown",
      "id": "fbdc849c",
      "metadata": {
        "id": "fbdc849c"
      },
      "source": [
        "<h3 id=\"logic\">Variables</h3>"
      ]
    },
    {
      "cell_type": "markdown",
      "id": "a42e4146",
      "metadata": {
        "id": "a42e4146"
      },
      "source": [
        "The input to a function is called a formal parameter.<br/>\n",
        "\n",
        "A variable that is declared inside a function is called a local variable. The parameter only exists within the function (i.e. the point where the function starts and stops). <br/>\n",
        "\n",
        "A variable that is declared outside a function definition is a global variable, and its value is accessible and modifiable throughout the program."
      ]
    },
    {
      "cell_type": "code",
      "execution_count": null,
      "id": "5b8018db",
      "metadata": {
        "id": "5b8018db"
      },
      "outputs": [],
      "source": [
        "# Function Definition\n",
        "def square(a):\n",
        "\n",
        "    # Local variable b\n",
        "    b = 1\n",
        "    c = a * a + b\n",
        "    print(a, \"if you square + 1\", c)\n",
        "    return(c)"
      ]
    },
    {
      "cell_type": "code",
      "execution_count": null,
      "id": "7fdd8fdf",
      "metadata": {
        "id": "7fdd8fdf",
        "outputId": "8dc89fa8-a4aa-4260-ab4e-db26d53458f3"
      },
      "outputs": [
        {
          "name": "stdout",
          "output_type": "stream",
          "text": [
            "3 if you square + 1 10\n"
          ]
        },
        {
          "data": {
            "text/plain": [
              "10"
            ]
          },
          "execution_count": 14,
          "metadata": {},
          "output_type": "execute_result"
        }
      ],
      "source": [
        "# Initializes Global variable\n",
        "x = 3\n",
        "# Makes function call and return function a y\n",
        "y = square(x)\n",
        "y"
      ]
    },
    {
      "cell_type": "code",
      "execution_count": null,
      "id": "e63dd6e2",
      "metadata": {
        "id": "e63dd6e2"
      },
      "outputs": [],
      "source": [
        "# Define functions, one with return value None and other without return value\n",
        "\n",
        "def MJ():\n",
        "    print('Alejandro')\n",
        "\n",
        "def MJ1():\n",
        "    print('Guillermina')\n",
        "    return(None)"
      ]
    },
    {
      "cell_type": "code",
      "execution_count": null,
      "id": "b2af3a87",
      "metadata": {
        "id": "b2af3a87",
        "outputId": "23217ffa-b184-4c2b-993e-17b72b1e9495"
      },
      "outputs": [
        {
          "name": "stdout",
          "output_type": "stream",
          "text": [
            "Alejandro\n"
          ]
        }
      ],
      "source": [
        "# See the output\n",
        "MJ()"
      ]
    },
    {
      "cell_type": "code",
      "execution_count": null,
      "id": "4dd735f6",
      "metadata": {
        "id": "4dd735f6",
        "outputId": "4d27015f-211c-41d3-d675-cf4e3c9d6bce"
      },
      "outputs": [
        {
          "name": "stdout",
          "output_type": "stream",
          "text": [
            "Guillermina\n"
          ]
        }
      ],
      "source": [
        "# See the output\n",
        "MJ1()"
      ]
    },
    {
      "cell_type": "code",
      "execution_count": null,
      "id": "0124816d",
      "metadata": {
        "id": "0124816d",
        "outputId": "07a17fce-7b9a-4452-924e-a221eaf94b0e"
      },
      "outputs": [
        {
          "name": "stdout",
          "output_type": "stream",
          "text": [
            "Alejandro\n",
            "None\n",
            "Guillermina\n",
            "None\n"
          ]
        }
      ],
      "source": [
        "# Printing the function after a call reveals a None is the default return statement\n",
        "# See what functions returns are\n",
        "print(MJ())\n",
        "print(MJ1())"
      ]
    },
    {
      "cell_type": "code",
      "execution_count": null,
      "id": "cff9dd84",
      "metadata": {
        "id": "cff9dd84",
        "outputId": "30be2aac-fc98-42cf-a269-77ada07deeae"
      },
      "outputs": [
        {
          "data": {
            "text/plain": [
              "'This is'"
            ]
          },
          "execution_count": 20,
          "metadata": {},
          "output_type": "execute_result"
        }
      ],
      "source": [
        "# Define the function for combining strings\n",
        "def con(a, b):\n",
        "    return(a + b)\n",
        "\n",
        "# Test on the con() function\n",
        "con(\"This \", \"is\")"
      ]
    },
    {
      "cell_type": "code",
      "execution_count": null,
      "id": "91a7777a",
      "metadata": {
        "id": "91a7777a",
        "outputId": "ba35472a-c41f-4abc-af38-6b3e0b9382f9"
      },
      "outputs": [
        {
          "name": "stdout",
          "output_type": "stream",
          "text": [
            "Michael Jackson Thriller 1980\n",
            "Oldie\n"
          ]
        }
      ],
      "source": [
        "# Function example of function return\n",
        "\n",
        "def type_of_album(artist, album, year_released):\n",
        "\n",
        "    print(artist, album, year_released)\n",
        "    if year_released > 1980:\n",
        "        return \"Modern\"\n",
        "    else:\n",
        "        return \"Oldie\"\n",
        "\n",
        "x = type_of_album(\"Michael Jackson\", \"Thriller\", 1980)\n",
        "print(x)"
      ]
    },
    {
      "cell_type": "code",
      "execution_count": null,
      "id": "f5927f1e",
      "metadata": {
        "id": "f5927f1e",
        "outputId": "f777d94a-8d2e-4df3-f48d-c3ccfd0130ea"
      },
      "outputs": [
        {
          "name": "stdout",
          "output_type": "stream",
          "text": [
            "1\n",
            "1\n",
            "the man\n",
            "abc\n"
          ]
        }
      ],
      "source": [
        "# Print the list using for loop\n",
        "\n",
        "def PrintList(the_list):\n",
        "    for element in the_list:\n",
        "        print(element)\n",
        "\n",
        "PrintList(['1', 1, 'the man', \"abc\"])"
      ]
    },
    {
      "cell_type": "markdown",
      "id": "d63bdf99",
      "metadata": {
        "id": "d63bdf99"
      },
      "source": [
        "Comparación de cadenas en Funciones:<br/>\n",
        "Los operadores relacionales comparan los valores Unicode de los caracteres de las cadenas desde el índice cero hasta el final de la cadena. Luego devuelve un valor booleano de acuerdo con el operador utilizado."
      ]
    },
    {
      "cell_type": "code",
      "execution_count": null,
      "id": "44d77790",
      "metadata": {
        "id": "44d77790",
        "outputId": "66f7a418-37bd-4ff8-f36b-817ad9f462b9"
      },
      "outputs": [
        {
          "data": {
            "text/plain": [
              "'String matched'"
            ]
          },
          "execution_count": 4,
          "metadata": {},
          "output_type": "execute_result"
        }
      ],
      "source": [
        "#Compare Two Strings Directly using in operator\n",
        "# add string\n",
        "string= \"Michael Jackson is the best\"\n",
        "\n",
        "# Define a funtion\n",
        "def check_string(text):\n",
        "\n",
        "# Use if else statement and 'in' operatore to compare the string\n",
        "    if text in string:\n",
        "        return 'String matched'\n",
        "    else:\n",
        "        return 'String not matched'\n",
        "\n",
        "check_string(\"Michael Jackson is the best\")"
      ]
    },
    {
      "cell_type": "code",
      "execution_count": null,
      "id": "ec77256a",
      "metadata": {
        "id": "ec77256a",
        "outputId": "a509e422-c2d1-4858-f682-ace884fd770d"
      },
      "outputs": [
        {
          "data": {
            "text/plain": [
              "'String not matched'"
            ]
          },
          "execution_count": 5,
          "metadata": {},
          "output_type": "execute_result"
        }
      ],
      "source": [
        "check_string(\"Michael Jackson stinks\")"
      ]
    },
    {
      "cell_type": "code",
      "execution_count": null,
      "id": "eb0d05f7",
      "metadata": {
        "id": "eb0d05f7",
        "outputId": "8ad9d005-aa01-430e-da43-71e495c7123c"
      },
      "outputs": [
        {
          "name": "stdout",
          "output_type": "stream",
          "text": [
            "\n",
            "String Matched\n"
          ]
        }
      ],
      "source": [
        "#Compare two strings using == operator and function\n",
        "def compareStrings(x, y):\n",
        "# Use if else statement to compare x and y\n",
        "    if x==y:\n",
        "        return 1\n",
        "\n",
        "# Declare two different variables as string1 and string2 and pass string in it\n",
        "string1 = \"Michael Jackson is the best\"\n",
        "string2 = \"Michael Jackson is the best\"\n",
        "\n",
        "# Declare a variable to store result after comparing both the strings\n",
        "check = compareStrings(string1, string2)\n",
        "\n",
        "#Use if else statement to compare the string\n",
        "if check==1:\n",
        "    print(\"\\nString Matched\")\n",
        "else:\n",
        "    print(\"\\nString not Matched\")"
      ]
    },
    {
      "cell_type": "markdown",
      "id": "435c191c",
      "metadata": {
        "id": "435c191c"
      },
      "source": [
        "__Count the Frequency of Words Appearing in a String Using a Dictionary.__<br/>\n",
        "\n",
        "Find the count of occurence of any word in our string using python. This is what we are going to do in this section, count the number of word in a given string and print it.<br/>\n",
        "\n",
        "Lets suppose we have a ‘string’ and the ‘word’ and we need to find the count of occurence of this word in our string using python. This is what we are going to do in this section, count the number of word in a given string and print it.<br/>\n",
        "\n",
        "The first thing, we will do is define a function and and then create a list that will be empty initially.<br/>\n",
        "\n",
        "Next, we will add a code to convert the string to a list. Python string has a split() method. It takes a string and some separator to return a list.\n",
        "\n",
        "Now we will declare an empty dictionary.<br/>\n",
        "\n",
        "Next we will add code using for loop to iterate the words and value will count the frequency of each words in the string and store them to the dictionary.\n",
        "\n",
        "Finally we will print the dictionary.<br/>"
      ]
    },
    {
      "cell_type": "code",
      "execution_count": null,
      "id": "296782ae",
      "metadata": {
        "id": "296782ae",
        "outputId": "5bf1dd1a-63f2-4b33-ff1a-752576442423"
      },
      "outputs": [
        {
          "name": "stdout",
          "output_type": "stream",
          "text": [
            "The Frequency of words is: {'Mary': 6, 'had': 2, 'a': 2, 'little': 3, 'lamb': 3, 'Little': 1, 'lamb,': 1, 'lamb.Its': 1, 'fleece': 1, 'was': 2, 'white': 1, 'as': 1, 'snow': 1, 'And': 1, 'everywhere': 1, 'that': 2, 'went': 3, 'went,': 1, 'Everywhere': 1, 'The': 1, 'sure': 1, 'to': 1, 'go': 1}\n"
          ]
        }
      ],
      "source": [
        "# Python Program to Count words in a String using Dictionary\n",
        "def freq(string):\n",
        "\n",
        "    #step1: A list variable is declared and initialized to an empty list.\n",
        "    words = []\n",
        "\n",
        "    #step2: Break the string into list of words\n",
        "    words = string.split() # or string.lower().split()\n",
        "\n",
        "    #step3: Declare a dictionary\n",
        "    Dict = {}\n",
        "\n",
        "    #step4: Use for loop to iterate words and values to the dictionary\n",
        "    for key in words:\n",
        "        Dict[key] = words.count(key)\n",
        "\n",
        "    #step5: Print the dictionary\n",
        "    print(\"The Frequency of words is:\",Dict)\n",
        "\n",
        "#step6: Call function and pass string in it\n",
        "freq(\"Mary had a little lamb Little lamb, little lamb Mary had a little lamb.Its fleece was white as snow And everywhere that Mary went Mary went, Mary went \\\n",
        "Everywhere that Mary went The lamb was sure to go\")"
      ]
    },
    {
      "cell_type": "code",
      "execution_count": null,
      "id": "b8d6839f",
      "metadata": {
        "id": "b8d6839f",
        "outputId": "b6d5d2e8-d712-4752-eb18-530683617d18"
      },
      "outputs": [
        {
          "name": "stdout",
          "output_type": "stream",
          "text": [
            "this album sucks it's rating is 4\n",
            "this album is good its rating is 10\n"
          ]
        }
      ],
      "source": [
        "# Example for setting param with default value\n",
        "\n",
        "def isGoodRating(rating=4):\n",
        "    if(rating < 7):\n",
        "        print(\"this album sucks it's rating is\",rating)\n",
        "\n",
        "    else:\n",
        "        print(\"this album is good its rating is\",rating)\n",
        "\n",
        "# Test the value with default value and with input\n",
        "\n",
        "isGoodRating()\n",
        "isGoodRating(10)"
      ]
    },
    {
      "cell_type": "markdown",
      "id": "1d5c10cd",
      "metadata": {
        "id": "1d5c10cd"
      },
      "source": [
        "__Global variables__"
      ]
    },
    {
      "cell_type": "code",
      "execution_count": null,
      "id": "f0467911",
      "metadata": {
        "id": "f0467911",
        "outputId": "23a0d1d0-cb9b-400c-ef58-00a7cf123e1a"
      },
      "outputs": [
        {
          "name": "stdout",
          "output_type": "stream",
          "text": [
            "Julieta Venegas is an artist\n"
          ]
        }
      ],
      "source": [
        "# Example of global variable\n",
        "\n",
        "artist = \"Julieta Venegas\"\n",
        "def printer1(artist):\n",
        "    internal_var1 = artist\n",
        "    print(artist, \"is an artist\")\n",
        "\n",
        "printer1(artist)\n",
        "# try runningthe following code\n",
        "#printer1(internal_var1)"
      ]
    },
    {
      "cell_type": "code",
      "execution_count": null,
      "id": "087a3b5c",
      "metadata": {
        "id": "087a3b5c",
        "outputId": "ab3f5317-ab96-471b-bb4b-71593e4b46be"
      },
      "outputs": [
        {
          "ename": "NameError",
          "evalue": "name 'internal_var1' is not defined",
          "output_type": "error",
          "traceback": [
            "\u001b[1;31m---------------------------------------------------------------------------\u001b[0m",
            "\u001b[1;31mNameError\u001b[0m                                 Traceback (most recent call last)",
            "Cell \u001b[1;32mIn[11], line 1\u001b[0m\n\u001b[1;32m----> 1\u001b[0m printer1(\u001b[43minternal_var1\u001b[49m)\n",
            "\u001b[1;31mNameError\u001b[0m: name 'internal_var1' is not defined"
          ]
        }
      ],
      "source": [
        "printer1(internal_var1)"
      ]
    },
    {
      "cell_type": "markdown",
      "id": "7a896284",
      "metadata": {
        "id": "7a896284"
      },
      "source": [
        "We got a Name Error: name 'internal_var' is not defined. Why?<br/>\n",
        "\n",
        "It's because all the variables we create in the function is a local variable, meaning that the variable assignment does not persist outside the function.<br/>\n",
        "\n",
        "But there is a way to create global variables from within a function as follows:"
      ]
    },
    {
      "cell_type": "code",
      "execution_count": null,
      "id": "41e9dc06",
      "metadata": {
        "id": "41e9dc06",
        "outputId": "0d34d845-50ad-4808-9956-9f31d2cd5742"
      },
      "outputs": [
        {
          "name": "stdout",
          "output_type": "stream",
          "text": [
            "Michael Jackson is an artist\n",
            "Whitney Houston is an artist\n"
          ]
        }
      ],
      "source": [
        "artist = \"Michael Jackson\"\n",
        "\n",
        "def printer(artist):\n",
        "    global internal_var\n",
        "    internal_var= \"Whitney Houston\"\n",
        "    print(artist,\"is an artist\")\n",
        "\n",
        "printer(artist)\n",
        "printer(internal_var)"
      ]
    },
    {
      "cell_type": "markdown",
      "id": "cf58542e",
      "metadata": {
        "id": "cf58542e"
      },
      "source": [
        "__Scope of a Variable__<br/>\n",
        " <b><code>The scope of a variable is the part of that program where that variable is accessible. Variables that are declared outside of all function definitions, such as the myFavouriteBand variable in the code shown here, are accessible from anywhere within the program.</code></b> As a result, such variables are said to have global scope, and are known as global variables. myFavouriteBand is a global variable, so it is accessible from within the getBandRating function, and we can use it to determine a band's rating. We can also use it outside of the function, such as when we pass it to the print function to display it:"
      ]
    },
    {
      "cell_type": "code",
      "execution_count": null,
      "id": "26613226",
      "metadata": {
        "id": "26613226",
        "outputId": "7d501cdc-116d-456d-d075-4d29b593b813"
      },
      "outputs": [
        {
          "name": "stdout",
          "output_type": "stream",
          "text": [
            "AC/DC's rating is: 10.0\n",
            "Deep Purple's rating is: 0.0\n",
            "My favourite band is: AC/DC\n"
          ]
        }
      ],
      "source": [
        "# Example of global variable\n",
        "\n",
        "myFavouriteBand = \"AC/DC\"\n",
        "\n",
        "def getBandRating(bandname):\n",
        "    if bandname == myFavouriteBand:\n",
        "        return 10.0\n",
        "    else:\n",
        "        return 0.0\n",
        "\n",
        "print(\"AC/DC's rating is:\", getBandRating(\"AC/DC\"))#me pasa el valor es afirmativo, me devuelve 10\n",
        "print(\"Deep Purple's rating is:\",getBandRating(\"Deep Purple\"))\n",
        "print(\"My favourite band is:\", myFavouriteBand)"
      ]
    },
    {
      "cell_type": "code",
      "execution_count": null,
      "id": "8ef4e6e0",
      "metadata": {
        "id": "8ef4e6e0",
        "outputId": "fa7807c4-6dc9-4da7-a36d-4e4f9ae33aeb"
      },
      "outputs": [
        {
          "name": "stdout",
          "output_type": "stream",
          "text": [
            "AC/DC's rating is:  10.0\n",
            "Deep Purple's rating is:  0.0\n"
          ]
        },
        {
          "ename": "NameError",
          "evalue": "name 'myFavouriteBand' is not defined",
          "output_type": "error",
          "traceback": [
            "\u001b[1;31m---------------------------------------------------------------------------\u001b[0m",
            "\u001b[1;31mNameError\u001b[0m                                 Traceback (most recent call last)",
            "Cell \u001b[1;32mIn[14], line 16\u001b[0m\n\u001b[0;32m     14\u001b[0m \u001b[38;5;28mprint\u001b[39m(\u001b[38;5;124m\"\u001b[39m\u001b[38;5;124mAC/DC\u001b[39m\u001b[38;5;124m'\u001b[39m\u001b[38;5;124ms rating is: \u001b[39m\u001b[38;5;124m\"\u001b[39m, getBandRating(\u001b[38;5;124m\"\u001b[39m\u001b[38;5;124mAC/DC\u001b[39m\u001b[38;5;124m\"\u001b[39m))\n\u001b[0;32m     15\u001b[0m \u001b[38;5;28mprint\u001b[39m(\u001b[38;5;124m\"\u001b[39m\u001b[38;5;124mDeep Purple\u001b[39m\u001b[38;5;124m'\u001b[39m\u001b[38;5;124ms rating is: \u001b[39m\u001b[38;5;124m\"\u001b[39m, getBandRating(\u001b[38;5;124m\"\u001b[39m\u001b[38;5;124mDeep Purple\u001b[39m\u001b[38;5;124m\"\u001b[39m))\n\u001b[1;32m---> 16\u001b[0m \u001b[38;5;28mprint\u001b[39m(\u001b[38;5;124m\"\u001b[39m\u001b[38;5;124mMy favourite band is\u001b[39m\u001b[38;5;124m\"\u001b[39m, \u001b[43mmyFavouriteBand\u001b[49m)\n",
            "\u001b[1;31mNameError\u001b[0m: name 'myFavouriteBand' is not defined"
          ]
        }
      ],
      "source": [
        "# Deleting the variable \"myFavouriteBand\" from the previous example to demonstrate an example of a local variable\n",
        "\n",
        "del myFavouriteBand\n",
        "\n",
        "# Example of local variable\n",
        "\n",
        "def getBandRating(bandname):\n",
        "    myFavouriteBand = \"AC/DC\"\n",
        "    if bandname == myFavouriteBand:\n",
        "        return 10.0\n",
        "    else:\n",
        "        return 0.0\n",
        "\n",
        "print(\"AC/DC's rating is: \", getBandRating(\"AC/DC\"))\n",
        "print(\"Deep Purple's rating is: \", getBandRating(\"Deep Purple\"))\n",
        "print(\"My favourite band is\", myFavouriteBand)"
      ]
    },
    {
      "cell_type": "code",
      "execution_count": null,
      "id": "9710ee04",
      "metadata": {
        "id": "9710ee04",
        "outputId": "3167e78f-1faf-4b30-bb0d-392398821bfa"
      },
      "outputs": [
        {
          "name": "stdout",
          "output_type": "stream",
          "text": [
            "AC/DC's rating is: 0.0\n",
            "Deep Purple's rating is:  10.0\n",
            "My favourite band is: AC/DC\n"
          ]
        }
      ],
      "source": [
        "# Example of global variable and local variable with the same name\n",
        "\n",
        "myFavouriteBand = \"AC/DC\"\n",
        "\n",
        "def getBandRating(bandname):\n",
        "    myFavouriteBand = \"Deep Purple\"\n",
        "    if bandname == myFavouriteBand:\n",
        "        return 10.0\n",
        "    else:\n",
        "        return 0.0\n",
        "\n",
        "print(\"AC/DC's rating is:\",getBandRating(\"AC/DC\"))# la compara con la local y me dice que es falsa\n",
        "print(\"Deep Purple's rating is: \",getBandRating(\"Deep Purple\"))# toma la variable local\n",
        "print(\"My favourite band is:\",myFavouriteBand) # acá no toma la función"
      ]
    },
    {
      "cell_type": "markdown",
      "id": "2887c836",
      "metadata": {
        "id": "2887c836"
      },
      "source": [
        "__Collections and Functions__"
      ]
    },
    {
      "cell_type": "code",
      "execution_count": null,
      "id": "909a6673",
      "metadata": {
        "id": "909a6673",
        "outputId": "a2e3f75b-42f2-4456-c35b-5675b8e67a7c"
      },
      "outputs": [
        {
          "name": "stdout",
          "output_type": "stream",
          "text": [
            "No of arguments: 3\n",
            "Horsefeather\n",
            "Adonis\n",
            "Bone\n",
            "No of arguments: 4\n",
            "Sidecar\n",
            "Long Island\n",
            "Mudslide\n",
            "Carriage\n"
          ]
        }
      ],
      "source": [
        "def printAll(*args): # All the arguments are 'packed' into args which can be treated like a tuple\n",
        "    print(\"No of arguments:\", len(args))\n",
        "    for argument in args:\n",
        "        print(argument)\n",
        "#printAll with 3 arguments\n",
        "printAll('Horsefeather','Adonis','Bone')\n",
        "#printAll with 4 arguments\n",
        "printAll('Sidecar','Long Island','Mudslide','Carriage')"
      ]
    },
    {
      "cell_type": "code",
      "execution_count": null,
      "id": "a48c2c1b",
      "metadata": {
        "id": "a48c2c1b",
        "outputId": "1966797f-68b7-4f76-da60-7c29f8e976b5"
      },
      "outputs": [
        {
          "name": "stdout",
          "output_type": "stream",
          "text": [
            "Country : Canada\n",
            "Province : Ontario\n",
            "City : Toronto\n"
          ]
        }
      ],
      "source": [
        "# Similarly, The arguments can also be packed into a dictionary as shown:\n",
        "def printDictionary(**args):\n",
        "    for key in args:\n",
        "        print(key + \" : \" + args[key])\n",
        "\n",
        "printDictionary(Country='Canada',Province='Ontario',City='Toronto')"
      ]
    },
    {
      "cell_type": "code",
      "execution_count": null,
      "id": "acb2b5e3",
      "metadata": {
        "id": "acb2b5e3",
        "outputId": "5a1b6542-8263-49d4-cfd2-5e00cbfae674"
      },
      "outputs": [
        {
          "data": {
            "text/plain": [
              "['One', 'Two', 'Three', 'Four']"
            ]
          },
          "execution_count": 18,
          "metadata": {},
          "output_type": "execute_result"
        }
      ],
      "source": [
        "#Functions can be incredibly powerful and versatile.\n",
        "#They can accept (and return) data types, objects and even other functions as arguements. Consider the example below:\n",
        "def addItems(list):\n",
        "    list.append(\"Three\")\n",
        "    list.append(\"Four\")\n",
        "\n",
        "myList = [\"One\",\"Two\"]\n",
        "\n",
        "addItems(myList)\n",
        "\n",
        "myList"
      ]
    },
    {
      "cell_type": "markdown",
      "id": "263e1ef4",
      "metadata": {
        "id": "263e1ef4"
      },
      "source": [
        "### Hands-On Lab: Exception Handling"
      ]
    },
    {
      "cell_type": "markdown",
      "id": "9f7b1458",
      "metadata": {
        "id": "9f7b1458"
      },
      "source": [
        "https://docs.python.org/3/library/exceptions.html"
      ]
    },
    {
      "cell_type": "markdown",
      "id": "35952e8e",
      "metadata": {
        "id": "35952e8e"
      },
      "source": [
        "__Try Except Specific Example__"
      ]
    },
    {
      "cell_type": "markdown",
      "id": "134bcd66",
      "metadata": {
        "id": "134bcd66"
      },
      "source": [
        "This is the an example where we will add differentiated messages depending on the exception, letting the user know what is wrong with the input."
      ]
    },
    {
      "cell_type": "code",
      "execution_count": null,
      "id": "18e39d92",
      "metadata": {
        "id": "18e39d92",
        "outputId": "7f72ed5f-90f5-4ff1-92c9-82dccd55407c"
      },
      "outputs": [
        {
          "name": "stdout",
          "output_type": "stream",
          "text": [
            "Please enter a number to divide a/.\n",
            "You did not provide a number\n"
          ]
        }
      ],
      "source": [
        "a = 1\n",
        "\n",
        "try:\n",
        "    b = int(input(\"Please enter a number to divide a\"))\n",
        "    a = a/b\n",
        "    print(\"Success a=\",a)\n",
        "except ZeroDivisionError:\n",
        "    print(\"The number you provided cant divide 1 because it is 0\")\n",
        "except ValueError:\n",
        "    print(\"You did not provide a number\")\n",
        "except:\n",
        "    print(\"Something went wrong\")"
      ]
    },
    {
      "cell_type": "code",
      "execution_count": null,
      "id": "3c8f2aa0",
      "metadata": {
        "id": "3c8f2aa0",
        "outputId": "1ec3f3c3-f92d-4e3e-f619-e29f7cb2e759"
      },
      "outputs": [
        {
          "name": "stdout",
          "output_type": "stream",
          "text": [
            "Please enter a number to divide a\n",
            "You did not provide a number\n"
          ]
        }
      ],
      "source": [
        "a = 1\n",
        "\n",
        "try:\n",
        "    b = int(input(\"Please enter a number to divide a\"))\n",
        "    a = a/b\n",
        "except ZeroDivisionError:\n",
        "    print(\"The number you provided cant divide 1 because it is 0\")\n",
        "except ValueError:\n",
        "    print(\"You did not provide a number\")\n",
        "except:\n",
        "    print(\"Something went wrong\")\n",
        "else:\n",
        "    print(\"success a=\",a)"
      ]
    },
    {
      "cell_type": "markdown",
      "id": "9cdc2140",
      "metadata": {
        "id": "9cdc2140"
      },
      "source": [
        "### Objects and Classes"
      ]
    },
    {
      "cell_type": "markdown",
      "id": "b18f070b",
      "metadata": {
        "id": "b18f070b"
      },
      "source": [
        "Classes circle and rectangle, and each has their own attributes. The class Circle has the attribute radius and colour, the class Rectangle has the attributes height and width. Three instances of the class Circle: green, yellow, red."
      ]
    },
    {
      "cell_type": "markdown",
      "id": "080b4d4b",
      "metadata": {
        "id": "080b4d4b"
      },
      "source": [
        "Los métodos le brindan una forma de cambiar o interactuar con el objeto; son funciones que interactúan con objetos. Por ejemplo, digamos que nos gustaría aumentar el radio de un círculo en una cantidad específica. Podemos crear un método llamado add_radius(r) que aumente el radio en r. Esto se muestra en la figura 3, donde después de aplicar el método al \"objeto de círculo naranja\", el radio del objeto aumenta en consecuencia. La notación de \"punto\" significa aplicar el método al objeto, que es esencialmente aplicar una función a la información en el objeto."
      ]
    },
    {
      "cell_type": "code",
      "execution_count": null,
      "id": "aae110cf",
      "metadata": {
        "id": "aae110cf"
      },
      "outputs": [],
      "source": [
        "# Import the library\n",
        "import matplotlib.pyplot as plt\n",
        "%matplotlib inline"
      ]
    },
    {
      "cell_type": "code",
      "execution_count": null,
      "id": "806dc672",
      "metadata": {
        "id": "806dc672"
      },
      "outputs": [],
      "source": [
        "# Create a class Circle\n",
        "\n",
        "class Circle(object):\n",
        "\n",
        "    # Constructor, inicializamos la clase con estos atributos:\n",
        "    def __init__(self, radius=3, color='blue'):\n",
        "        self.radius = radius\n",
        "        self.color = color\n",
        "\n",
        "    # Method\n",
        "    def add_radius(self, r):\n",
        "        self.radius = self.radius + r\n",
        "        return(self.radius)\n",
        "\n",
        "    # Method\n",
        "    def drawCircle(self):\n",
        "        plt.gca().add_patch(plt.Circle((0, 0), radius=self.radius, fc=self.color))\n",
        "        plt.axis('scaled')\n",
        "        plt.show()"
      ]
    },
    {
      "cell_type": "code",
      "execution_count": null,
      "id": "1dee191c",
      "metadata": {
        "id": "1dee191c",
        "outputId": "10c82ba8-43b2-4e45-a466-388b950e15ab"
      },
      "outputs": [
        {
          "data": {
            "image/png": "[encoded data removed]",
            "text/plain": [
              "<Figure size 640x480 with 1 Axes>"
            ]
          },
          "metadata": {},
          "output_type": "display_data"
        }
      ],
      "source": [
        "# Create an object RedCircle\n",
        "RedCircle = Circle(10, 'red')\n",
        "# Call the method drawCircle\n",
        "RedCircle.drawCircle()"
      ]
    },
    {
      "cell_type": "code",
      "execution_count": null,
      "id": "645d2b66",
      "metadata": {
        "id": "645d2b66",
        "outputId": "dfccf76c-2bde-4873-8d7e-40d4bf28bb59"
      },
      "outputs": [
        {
          "data": {
            "text/plain": [
              "['__class__',\n",
              " '__delattr__',\n",
              " '__dict__',\n",
              " '__dir__',\n",
              " '__doc__',\n",
              " '__eq__',\n",
              " '__format__',\n",
              " '__ge__',\n",
              " '__getattribute__',\n",
              " '__gt__',\n",
              " '__hash__',\n",
              " '__init__',\n",
              " '__init_subclass__',\n",
              " '__le__',\n",
              " '__lt__',\n",
              " '__module__',\n",
              " '__ne__',\n",
              " '__new__',\n",
              " '__reduce__',\n",
              " '__reduce_ex__',\n",
              " '__repr__',\n",
              " '__setattr__',\n",
              " '__sizeof__',\n",
              " '__str__',\n",
              " '__subclasshook__',\n",
              " '__weakref__',\n",
              " 'add_radius',\n",
              " 'color',\n",
              " 'drawCircle',\n",
              " 'radius']"
            ]
          },
          "execution_count": 12,
          "metadata": {},
          "output_type": "execute_result"
        }
      ],
      "source": [
        "# Find out the methods can be used on the object RedCircle\n",
        "dir(RedCircle)"
      ]
    },
    {
      "cell_type": "code",
      "execution_count": null,
      "id": "3b191399",
      "metadata": {
        "id": "3b191399",
        "outputId": "fedd0ae9-347a-437d-a7fe-9d88e32f8639"
      },
      "outputs": [
        {
          "name": "stdout",
          "output_type": "stream",
          "text": [
            "Radius of object: 10\n",
            "Radius of object of after applying the method add_radius(2): 12\n",
            "Radius of object of after applying the method add_radius(5): 17\n"
          ]
        }
      ],
      "source": [
        "print('Radius of object:',RedCircle.radius)\n",
        "RedCircle.add_radius(2)\n",
        "print('Radius of object of after applying the method add_radius(2):',RedCircle.radius)\n",
        "RedCircle.add_radius(5)\n",
        "print('Radius of object of after applying the method add_radius(5):',RedCircle.radius)"
      ]
    },
    {
      "cell_type": "code",
      "execution_count": null,
      "id": "8847762e",
      "metadata": {
        "id": "8847762e"
      },
      "outputs": [],
      "source": [
        "# Create a new Rectangle class for creating a rectangle object\n",
        "\n",
        "class Rectangle(object):\n",
        "\n",
        "    # Constructor\n",
        "    def __init__(self, width=2, height=3, color='r'):\n",
        "        self.height = height\n",
        "        self.width = width\n",
        "        self.color = color\n",
        "\n",
        "    # Method\n",
        "    def drawRectangle(self):\n",
        "        plt.gca().add_patch(plt.Rectangle((0, 0), self.width, self.height ,fc=self.color))\n",
        "        plt.axis('scaled')\n",
        "        plt.show()"
      ]
    },
    {
      "cell_type": "code",
      "execution_count": null,
      "id": "76bc7768",
      "metadata": {
        "id": "76bc7768"
      },
      "outputs": [],
      "source": [
        "# Create a new object rectangle\n",
        "SkinnyBlueRectangle = Rectangle(2, 3, 'blue')"
      ]
    },
    {
      "cell_type": "code",
      "execution_count": null,
      "id": "cb9b5dd3",
      "metadata": {
        "id": "cb9b5dd3",
        "outputId": "3149c9b3-012f-41cb-b601-945bff8103f6"
      },
      "outputs": [
        {
          "data": {
            "text/plain": [
              "3"
            ]
          },
          "execution_count": 3,
          "metadata": {},
          "output_type": "execute_result"
        }
      ],
      "source": [
        "# Print the object attribute height\n",
        "\n",
        "SkinnyBlueRectangle.height"
      ]
    },
    {
      "cell_type": "code",
      "execution_count": null,
      "id": "a82c81df",
      "metadata": {
        "id": "a82c81df",
        "outputId": "4b2bee8e-8fcc-48cd-c4a4-b9eb93364d31"
      },
      "outputs": [
        {
          "data": {
            "image/png": "[encoded data removed]",
            "text/plain": [
              "<Figure size 640x480 with 1 Axes>"
            ]
          },
          "metadata": {},
          "output_type": "display_data"
        }
      ],
      "source": [
        "# Import the library\n",
        "import matplotlib.pyplot as plt\n",
        "%matplotlib inline\n",
        "\n",
        "# Use the drawRectangle method to draw the shape\n",
        "\n",
        "SkinnyBlueRectangle.drawRectangle()"
      ]
    },
    {
      "cell_type": "markdown",
      "id": "2bf271f1",
      "metadata": {
        "id": "2bf271f1"
      },
      "source": [
        "#### Crear una herramienta de utilidad que pueda realizar análisis en un fragmento de texto determinado. Complete la clase 'analysedText' con los siguientes métodos:"
      ]
    },
    {
      "cell_type": "markdown",
      "id": "93c95aee",
      "metadata": {
        "id": "93c95aee"
      },
      "source": [
        "Constructor (__init__): este método debe tomar el texto del argumento, ponerlo en minúsculas y eliminar todos los signos de puntuación. Suponga que solo se usa la siguiente puntuación: punto (.), signo de exclamación (!), coma (,) y signo de interrogación (?). Asigne este texto recién formateado a un nuevo atributo llamado fmtText."
      ]
    },
    {
      "cell_type": "markdown",
      "id": "f6bb06cb",
      "metadata": {
        "id": "f6bb06cb"
      },
      "source": [
        "freqAll: este método debe crear y devolver un diccionario de todas las palabras únicas del texto, junto con la cantidad de veces que aparecen en el texto. Cada clave del diccionario debe ser la palabra única que aparece en el texto y el valor asociado debe ser el número de veces que aparece en el texto. Cree este diccionario a partir del atributo fmtText."
      ]
    },
    {
      "cell_type": "markdown",
      "id": "19129d42",
      "metadata": {
        "id": "19129d42"
      },
      "source": [
        "freqOf: este método debe tomar una palabra como argumento y devolver el número de ocurrencias de esa palabra en fmtText.\n",
        "Se te ha dado el código básico. Las cadenas de documentos se pueden ignorar a los efectos del ejercicio.\n",
        "Sugerencia: algunas funciones útiles son replace(), lower(), split(), count()"
      ]
    },
    {
      "cell_type": "markdown",
      "id": "0ed69c1e",
      "metadata": {
        "id": "0ed69c1e"
      },
      "source": [
        "Puede definir un atributo de clase y asignarle un valor con la siguiente receta genérica: self.attribute_name = value"
      ]
    },
    {
      "cell_type": "code",
      "execution_count": null,
      "id": "f7412193",
      "metadata": {
        "id": "f7412193"
      },
      "outputs": [],
      "source": [
        "class analysedText(object):\n",
        "\n",
        "    def __init__ (self, text):\n",
        "        # remove punctuation\n",
        "        formattedText = text.replace('.','').replace('!','').replace('?','').replace(',','')\n",
        "# La función replace() toma dos argumentos: el texto a buscar y el texto con el que reemplazarlo. Intente llamar a esta función\n",
        "# para cada puntuación que desee eliminar y reemplácela con un carácter en blanco, ''\n",
        "        # make text lowercase\n",
        "        formattedText = formattedText.lower()\n",
        "#La función lower() convierte todos los caracteres de la cadena a minúsculas.\n",
        "        self.fmtText = formattedText\n",
        "# self representa la instancia de la clase. Al usar la palabra clave \"self\" podemos acceder a los atributos\n",
        "# y métodos de la clase en python. Vincula los atributos con los argumentos dados.\n",
        "# self.fmtText se usa para acceder a la variable de clase y self.freqAll() llama al método de instancia freqAll().\n",
        "\n",
        "    def freqAll(self):\n",
        "        # split text into words\n",
        "        wordList = self.fmtText.split(' ')\n",
        "# crear una lista de todas las palabras en fmtText usando split() y usando el carácter de espacio en blanco, ' ' como delimitador.\n",
        "        # Create dictionary\n",
        "        freqMap = {}\n",
        "        for word in set(wordList): # use set to remove duplicates in list\n",
        "            freqMap[word] = wordList.count(word)\n",
        "\n",
        "        return freqMap\n",
        "\n",
        "    def freqOf(self,word):\n",
        "        # get frequency map\n",
        "        freqDict = self.freqAll()\n",
        "\n",
        "        if word in freqDict:\n",
        "            return freqDict[word]\n",
        "        else:\n",
        "            return 0"
      ]
    },
    {
      "cell_type": "markdown",
      "id": "06748354",
      "metadata": {
        "id": "06748354"
      },
      "source": [
        "Usar set() con una lista como argumento devolverá un conjunto con todos los elementos únicos en la lista. Intente iterar sobre los elementos de este conjunto para crear las claves de un diccionario. La función count() devolverá el número de ocurrencias del argumento en la lista. Por ejemplo, [\"hola\", \"hola\", \"hola\"].count(\"hola\") devolverá 2. Esto se puede usar para establecer los valores para cada par clave-valor en el diccionario."
      ]
    },
    {
      "cell_type": "markdown",
      "id": "5d1b7aab",
      "metadata": {
        "id": "5d1b7aab"
      },
      "source": [
        "Intente llamar al método freqAll que implementó anteriormente y asígnelo a una variable. Ahora tendrá un diccionario con las palabras únicas que aparecen en fmtText como claves y la cantidad de veces que aparecen como valor.\n",
        "\n",
        "Puede usar este diccionario para devolver el número de ocurrencias de la palabra que se proporcionó como argumento al método freqOf.\n",
        "\n",
        "Si la palabra dada como argumento no aparece en el texto, devuelva 0. Puede verificar si una cadena es una clave en el diccionario usando la siguiente receta de código: if item in my_dictionary:"
      ]
    },
    {
      "cell_type": "markdown",
      "id": "174f6104",
      "metadata": {
        "id": "174f6104"
      },
      "source": [
        "Puede ejecutar la celda de código a continuación para probar sus funciones y asegurarse de que funcionan correctamente. Primero ejecute la celda de código en la que implementó su solución, luego ejecute la celda de código para probar su implementación."
      ]
    },
    {
      "cell_type": "code",
      "execution_count": null,
      "id": "1176ca2f",
      "metadata": {
        "id": "1176ca2f",
        "outputId": "ad003b12-add7-4c56-c7ca-98597063ce90"
      },
      "outputs": [
        {
          "name": "stdout",
          "output_type": "stream",
          "text": [
            "Constructor: \n",
            "Test Passed\n",
            "freqAll: \n",
            "Test Passed\n",
            "freqOf: \n",
            "Test Passed\n"
          ]
        }
      ],
      "source": [
        "import sys\n",
        "\n",
        "sampleMap = {'eirmod': 1,'sed': 1, 'amet': 2, 'diam': 5, 'consetetur': 1, 'labore': 1, 'tempor': 1, 'dolor': 1, 'magna': 2, 'et': 3, 'nonumy': 1, 'ipsum': 1, 'lorem': 2}\n",
        "\n",
        "def testMsg(passed):\n",
        "    if passed:\n",
        "       return 'Test Passed'\n",
        "    else :\n",
        "       return 'Test Failed'\n",
        "\n",
        "print(\"Constructor: \")\n",
        "try:\n",
        "    samplePassage = analysedText(\"Lorem ipsum dolor! diam amet, consetetur Lorem magna. sed diam nonumy eirmod tempor. diam et labore? et diam magna. et diam amet.\")\n",
        "    print(testMsg(samplePassage.fmtText == \"lorem ipsum dolor diam amet consetetur lorem magna sed diam nonumy eirmod tempor diam et labore et diam magna et diam amet\"))\n",
        "except:\n",
        "    print(\"Error detected. Recheck your function \" )\n",
        "print(\"freqAll: \")\n",
        "try:\n",
        "    wordMap = samplePassage.freqAll()\n",
        "    print(testMsg(wordMap==sampleMap))\n",
        "except:\n",
        "    print(\"Error detected. Recheck your function \" )\n",
        "print(\"freqOf: \")\n",
        "try:\n",
        "    passed = True\n",
        "    for word in sampleMap:\n",
        "        if samplePassage.freqOf(word) != sampleMap[word]:\n",
        "            passed = False\n",
        "            break\n",
        "    print(testMsg(passed))\n",
        "\n",
        "except:\n",
        "    print(\"Error detected. Recheck your function  \" )\n",
        ""
      ]
    },
    {
      "cell_type": "code",
      "execution_count": null,
      "id": "6e7994b9",
      "metadata": {
        "id": "6e7994b9",
        "outputId": "98fa9a4b-56b6-40f7-93d8-a5e0572d7ba8"
      },
      "outputs": [
        {
          "name": "stdout",
          "output_type": "stream",
          "text": [
            "x= A  y= B\n"
          ]
        }
      ],
      "source": [
        "class Points(object):\n",
        "  def __init__(self,x,y):\n",
        "\n",
        "    self.x=x #CCON SELF. ACCEDEMOS A LOS ARIBUTOS DE LA CLASE\n",
        "    self.y=y\n",
        "\n",
        "  def print_point(self):\n",
        "\n",
        "    print('x=',self.x,' y=',self.y)\n",
        "\n",
        "p1=Points(\"A\",\"B\")\n",
        "p1.print_point()"
      ]
    },
    {
      "cell_type": "markdown",
      "id": "571a4286",
      "metadata": {
        "id": "571a4286"
      },
      "source": [
        "This part defines a class called Points. It says that a Points has two attributes, x and y, which must be provided whenever an instance of Points is created.\n",
        "\n",
        "Upon creation of a Points instance, the __init__ method runs automatically and sets the attributes x and y to the provided values. These attributes can be accessed from within the class itself as self.x and self.y.\n",
        "\n",
        "The print_point method makes use of this by accessing and printing the values held in the x and y attributes."
      ]
    },
    {
      "cell_type": "code",
      "execution_count": null,
      "id": "71aa6b87",
      "metadata": {
        "id": "71aa6b87",
        "outputId": "f762d62b-53d2-4fb9-e84a-4c29dd350814"
      },
      "outputs": [
        {
          "name": "stdout",
          "output_type": "stream",
          "text": [
            "x= 2  y= 2\n"
          ]
        }
      ],
      "source": [
        "class Points(object):\n",
        "  def __init__(self,x,y):\n",
        "\n",
        "    self.x=x\n",
        "    self.y=y\n",
        "\n",
        "  def print_point(self):\n",
        "\n",
        "    print('x=',self.x,' y=',self.y)\n",
        "\n",
        "p2=Points(1,2)\n",
        "\n",
        "p2.x=2\n",
        "\n",
        "p2.print_point()"
      ]
    },
    {
      "cell_type": "code",
      "execution_count": null,
      "id": "37b2a426",
      "metadata": {
        "id": "37b2a426",
        "outputId": "3e3996b2-280c-495d-a3b2-1b2f2c19844a"
      },
      "outputs": [
        {
          "name": "stdout",
          "output_type": "stream",
          "text": [
            "2\n"
          ]
        }
      ],
      "source": [
        "a=1\n",
        "\n",
        "def do(x):\n",
        "    return(x+a)\n",
        "\n",
        "print(do(1))"
      ]
    },
    {
      "cell_type": "code",
      "execution_count": null,
      "id": "557d0434",
      "metadata": {
        "id": "557d0434",
        "outputId": "97fc0956-9eb8-4b10-95de-808ced9d0a88"
      },
      "outputs": [
        {
          "data": {
            "text/plain": [
              "3"
            ]
          },
          "execution_count": 8,
          "metadata": {},
          "output_type": "execute_result"
        }
      ],
      "source": [
        "def add(a,b):\n",
        "    return(a+b)\n",
        "add(1,2)"
      ]
    },
    {
      "cell_type": "markdown",
      "id": "199cd591",
      "metadata": {
        "id": "199cd591"
      },
      "source": [
        "Why is it best practice to have multiple except statements with each type of error labeled correctly?\n",
        "\n",
        "Ensure the error is caught so the program will terminate\n",
        "\n",
        "\n",
        "In order to know what type of error was thrown and the\n",
        "location within the program"
      ]
    }
  ],
  "metadata": {
    "kernelspec": {
      "display_name": "Python 3 (ipykernel)",
      "language": "python",
      "name": "python3"
    },
    "language_info": {
      "codemirror_mode": {
        "name": "ipython",
        "version": 3
      },
      "file_extension": ".py",
      "mimetype": "text/x-python",
      "name": "python",
      "nbconvert_exporter": "python",
      "pygments_lexer": "ipython3",
      "version": "3.9.16"
    },
    "colab": {
      "provenance": [],
      "include_colab_link": true
    }
  },
  "nbformat": 4,
  "nbformat_minor": 5
}